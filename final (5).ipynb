{
 "cells": [
  {
   "cell_type": "code",
   "execution_count": 7,
   "metadata": {},
   "outputs": [],
   "source": [
    "# main libraries\n",
    "import pandas as pd\n",
    "import numpy as np\n",
    "import time\n",
    "import os\n",
    "from matplotlib import *\n",
    "import sys\n",
    "from pylab import *\n",
    "\n",
    "# visual libraries\n",
    "import matplotlib\n",
    "from matplotlib import pyplot as plt\n",
    "%matplotlib inline\n",
    "import seaborn as sns\n",
    "from mpl_toolkits.mplot3d import Axes3D \n",
    "import pylab as pl\n",
    "plt.style.use('ggplot')\n",
    "\n",
    "# sklearn libraries\n",
    "import sklearn \n",
    "plt.style.use('ggplot')\n",
    "from scipy.stats import chi2_contingency\n",
    "from sklearn.preprocessing import StandardScaler\n",
    "from sklearn.decomposition import PCA\n",
    "from sklearn.externals import joblib\n",
    "from sklearn.preprocessing import normalize\n",
    "from sklearn import linear_model\n",
    "from sklearn import metrics\n",
    "from sklearn.model_selection import train_test_split\n",
    "import statsmodels.formula.api as smf\n",
    "from sklearn.metrics import classification_report, confusion_matrix\n"
   ]
  },
  {
   "cell_type": "code",
   "execution_count": 8,
   "metadata": {},
   "outputs": [
    {
     "name": "stdout",
     "output_type": "stream",
     "text": [
      "<class 'pandas.core.frame.DataFrame'>\n",
      "RangeIndex: 30000 entries, 0 to 29999\n",
      "Data columns (total 25 columns):\n",
      "ID                            30000 non-null int64\n",
      "LIMIT_BAL                     30000 non-null int64\n",
      "SEX                           30000 non-null int64\n",
      "EDUCATION                     30000 non-null int64\n",
      "MARRIAGE                      30000 non-null int64\n",
      "AGE                           30000 non-null int64\n",
      "PAY_0                         30000 non-null int64\n",
      "PAY_2                         30000 non-null int64\n",
      "PAY_3                         30000 non-null int64\n",
      "PAY_4                         30000 non-null int64\n",
      "PAY_5                         30000 non-null int64\n",
      "PAY_6                         30000 non-null int64\n",
      "BILL_AMT1                     30000 non-null int64\n",
      "BILL_AMT2                     30000 non-null int64\n",
      "BILL_AMT3                     30000 non-null int64\n",
      "BILL_AMT4                     30000 non-null int64\n",
      "BILL_AMT5                     30000 non-null int64\n",
      "BILL_AMT6                     30000 non-null int64\n",
      "PAY_AMT1                      30000 non-null int64\n",
      "PAY_AMT2                      30000 non-null int64\n",
      "PAY_AMT3                      30000 non-null int64\n",
      "PAY_AMT4                      30000 non-null int64\n",
      "PAY_AMT5                      30000 non-null int64\n",
      "PAY_AMT6                      30000 non-null int64\n",
      "default payment next month    30000 non-null int64\n",
      "dtypes: int64(25)\n",
      "memory usage: 5.7 MB\n"
     ]
    }
   ],
   "source": [
    "#Importing Dataset\n",
    "data = pd.read_csv('card.csv', sep=',', skiprows=range(0, 1))\n",
    "data.info()"
   ]
  },
  {
   "cell_type": "code",
   "execution_count": 9,
   "metadata": {},
   "outputs": [
    {
     "data": {
      "text/html": [
       "<div>\n",
       "<style scoped>\n",
       "    .dataframe tbody tr th:only-of-type {\n",
       "        vertical-align: middle;\n",
       "    }\n",
       "\n",
       "    .dataframe tbody tr th {\n",
       "        vertical-align: top;\n",
       "    }\n",
       "\n",
       "    .dataframe thead th {\n",
       "        text-align: right;\n",
       "    }\n",
       "</style>\n",
       "<table border=\"1\" class=\"dataframe\">\n",
       "  <thead>\n",
       "    <tr style=\"text-align: right;\">\n",
       "      <th></th>\n",
       "      <th>ID</th>\n",
       "      <th>LIMIT_BAL</th>\n",
       "      <th>SEX</th>\n",
       "      <th>EDUCATION</th>\n",
       "      <th>MARRIAGE</th>\n",
       "      <th>AGE</th>\n",
       "      <th>PAY_0</th>\n",
       "      <th>PAY_2</th>\n",
       "      <th>PAY_3</th>\n",
       "      <th>PAY_4</th>\n",
       "      <th>...</th>\n",
       "      <th>BILL_AMT4</th>\n",
       "      <th>BILL_AMT5</th>\n",
       "      <th>BILL_AMT6</th>\n",
       "      <th>PAY_AMT1</th>\n",
       "      <th>PAY_AMT2</th>\n",
       "      <th>PAY_AMT3</th>\n",
       "      <th>PAY_AMT4</th>\n",
       "      <th>PAY_AMT5</th>\n",
       "      <th>PAY_AMT6</th>\n",
       "      <th>default payment next month</th>\n",
       "    </tr>\n",
       "  </thead>\n",
       "  <tbody>\n",
       "    <tr>\n",
       "      <td>count</td>\n",
       "      <td>30000.000000</td>\n",
       "      <td>30000.000000</td>\n",
       "      <td>30000.000000</td>\n",
       "      <td>30000.000000</td>\n",
       "      <td>30000.000000</td>\n",
       "      <td>30000.000000</td>\n",
       "      <td>30000.000000</td>\n",
       "      <td>30000.000000</td>\n",
       "      <td>30000.000000</td>\n",
       "      <td>30000.000000</td>\n",
       "      <td>...</td>\n",
       "      <td>30000.000000</td>\n",
       "      <td>30000.000000</td>\n",
       "      <td>30000.000000</td>\n",
       "      <td>30000.000000</td>\n",
       "      <td>3.000000e+04</td>\n",
       "      <td>30000.00000</td>\n",
       "      <td>30000.000000</td>\n",
       "      <td>30000.000000</td>\n",
       "      <td>30000.000000</td>\n",
       "      <td>30000.000000</td>\n",
       "    </tr>\n",
       "    <tr>\n",
       "      <td>mean</td>\n",
       "      <td>15000.500000</td>\n",
       "      <td>167484.322667</td>\n",
       "      <td>1.603733</td>\n",
       "      <td>1.853133</td>\n",
       "      <td>1.551867</td>\n",
       "      <td>35.485500</td>\n",
       "      <td>-0.016700</td>\n",
       "      <td>-0.133767</td>\n",
       "      <td>-0.166200</td>\n",
       "      <td>-0.220667</td>\n",
       "      <td>...</td>\n",
       "      <td>43262.948967</td>\n",
       "      <td>40311.400967</td>\n",
       "      <td>38871.760400</td>\n",
       "      <td>5663.580500</td>\n",
       "      <td>5.921163e+03</td>\n",
       "      <td>5225.68150</td>\n",
       "      <td>4826.076867</td>\n",
       "      <td>4799.387633</td>\n",
       "      <td>5215.502567</td>\n",
       "      <td>0.221200</td>\n",
       "    </tr>\n",
       "    <tr>\n",
       "      <td>std</td>\n",
       "      <td>8660.398374</td>\n",
       "      <td>129747.661567</td>\n",
       "      <td>0.489129</td>\n",
       "      <td>0.790349</td>\n",
       "      <td>0.521970</td>\n",
       "      <td>9.217904</td>\n",
       "      <td>1.123802</td>\n",
       "      <td>1.197186</td>\n",
       "      <td>1.196868</td>\n",
       "      <td>1.169139</td>\n",
       "      <td>...</td>\n",
       "      <td>64332.856134</td>\n",
       "      <td>60797.155770</td>\n",
       "      <td>59554.107537</td>\n",
       "      <td>16563.280354</td>\n",
       "      <td>2.304087e+04</td>\n",
       "      <td>17606.96147</td>\n",
       "      <td>15666.159744</td>\n",
       "      <td>15278.305679</td>\n",
       "      <td>17777.465775</td>\n",
       "      <td>0.415062</td>\n",
       "    </tr>\n",
       "    <tr>\n",
       "      <td>min</td>\n",
       "      <td>1.000000</td>\n",
       "      <td>10000.000000</td>\n",
       "      <td>1.000000</td>\n",
       "      <td>0.000000</td>\n",
       "      <td>0.000000</td>\n",
       "      <td>21.000000</td>\n",
       "      <td>-2.000000</td>\n",
       "      <td>-2.000000</td>\n",
       "      <td>-2.000000</td>\n",
       "      <td>-2.000000</td>\n",
       "      <td>...</td>\n",
       "      <td>-170000.000000</td>\n",
       "      <td>-81334.000000</td>\n",
       "      <td>-339603.000000</td>\n",
       "      <td>0.000000</td>\n",
       "      <td>0.000000e+00</td>\n",
       "      <td>0.00000</td>\n",
       "      <td>0.000000</td>\n",
       "      <td>0.000000</td>\n",
       "      <td>0.000000</td>\n",
       "      <td>0.000000</td>\n",
       "    </tr>\n",
       "    <tr>\n",
       "      <td>25%</td>\n",
       "      <td>7500.750000</td>\n",
       "      <td>50000.000000</td>\n",
       "      <td>1.000000</td>\n",
       "      <td>1.000000</td>\n",
       "      <td>1.000000</td>\n",
       "      <td>28.000000</td>\n",
       "      <td>-1.000000</td>\n",
       "      <td>-1.000000</td>\n",
       "      <td>-1.000000</td>\n",
       "      <td>-1.000000</td>\n",
       "      <td>...</td>\n",
       "      <td>2326.750000</td>\n",
       "      <td>1763.000000</td>\n",
       "      <td>1256.000000</td>\n",
       "      <td>1000.000000</td>\n",
       "      <td>8.330000e+02</td>\n",
       "      <td>390.00000</td>\n",
       "      <td>296.000000</td>\n",
       "      <td>252.500000</td>\n",
       "      <td>117.750000</td>\n",
       "      <td>0.000000</td>\n",
       "    </tr>\n",
       "    <tr>\n",
       "      <td>50%</td>\n",
       "      <td>15000.500000</td>\n",
       "      <td>140000.000000</td>\n",
       "      <td>2.000000</td>\n",
       "      <td>2.000000</td>\n",
       "      <td>2.000000</td>\n",
       "      <td>34.000000</td>\n",
       "      <td>0.000000</td>\n",
       "      <td>0.000000</td>\n",
       "      <td>0.000000</td>\n",
       "      <td>0.000000</td>\n",
       "      <td>...</td>\n",
       "      <td>19052.000000</td>\n",
       "      <td>18104.500000</td>\n",
       "      <td>17071.000000</td>\n",
       "      <td>2100.000000</td>\n",
       "      <td>2.009000e+03</td>\n",
       "      <td>1800.00000</td>\n",
       "      <td>1500.000000</td>\n",
       "      <td>1500.000000</td>\n",
       "      <td>1500.000000</td>\n",
       "      <td>0.000000</td>\n",
       "    </tr>\n",
       "    <tr>\n",
       "      <td>75%</td>\n",
       "      <td>22500.250000</td>\n",
       "      <td>240000.000000</td>\n",
       "      <td>2.000000</td>\n",
       "      <td>2.000000</td>\n",
       "      <td>2.000000</td>\n",
       "      <td>41.000000</td>\n",
       "      <td>0.000000</td>\n",
       "      <td>0.000000</td>\n",
       "      <td>0.000000</td>\n",
       "      <td>0.000000</td>\n",
       "      <td>...</td>\n",
       "      <td>54506.000000</td>\n",
       "      <td>50190.500000</td>\n",
       "      <td>49198.250000</td>\n",
       "      <td>5006.000000</td>\n",
       "      <td>5.000000e+03</td>\n",
       "      <td>4505.00000</td>\n",
       "      <td>4013.250000</td>\n",
       "      <td>4031.500000</td>\n",
       "      <td>4000.000000</td>\n",
       "      <td>0.000000</td>\n",
       "    </tr>\n",
       "    <tr>\n",
       "      <td>max</td>\n",
       "      <td>30000.000000</td>\n",
       "      <td>1000000.000000</td>\n",
       "      <td>2.000000</td>\n",
       "      <td>6.000000</td>\n",
       "      <td>3.000000</td>\n",
       "      <td>79.000000</td>\n",
       "      <td>8.000000</td>\n",
       "      <td>8.000000</td>\n",
       "      <td>8.000000</td>\n",
       "      <td>8.000000</td>\n",
       "      <td>...</td>\n",
       "      <td>891586.000000</td>\n",
       "      <td>927171.000000</td>\n",
       "      <td>961664.000000</td>\n",
       "      <td>873552.000000</td>\n",
       "      <td>1.684259e+06</td>\n",
       "      <td>896040.00000</td>\n",
       "      <td>621000.000000</td>\n",
       "      <td>426529.000000</td>\n",
       "      <td>528666.000000</td>\n",
       "      <td>1.000000</td>\n",
       "    </tr>\n",
       "  </tbody>\n",
       "</table>\n",
       "<p>8 rows × 25 columns</p>\n",
       "</div>"
      ],
      "text/plain": [
       "                 ID       LIMIT_BAL           SEX     EDUCATION      MARRIAGE  \\\n",
       "count  30000.000000    30000.000000  30000.000000  30000.000000  30000.000000   \n",
       "mean   15000.500000   167484.322667      1.603733      1.853133      1.551867   \n",
       "std     8660.398374   129747.661567      0.489129      0.790349      0.521970   \n",
       "min        1.000000    10000.000000      1.000000      0.000000      0.000000   \n",
       "25%     7500.750000    50000.000000      1.000000      1.000000      1.000000   \n",
       "50%    15000.500000   140000.000000      2.000000      2.000000      2.000000   \n",
       "75%    22500.250000   240000.000000      2.000000      2.000000      2.000000   \n",
       "max    30000.000000  1000000.000000      2.000000      6.000000      3.000000   \n",
       "\n",
       "                AGE         PAY_0         PAY_2         PAY_3         PAY_4  \\\n",
       "count  30000.000000  30000.000000  30000.000000  30000.000000  30000.000000   \n",
       "mean      35.485500     -0.016700     -0.133767     -0.166200     -0.220667   \n",
       "std        9.217904      1.123802      1.197186      1.196868      1.169139   \n",
       "min       21.000000     -2.000000     -2.000000     -2.000000     -2.000000   \n",
       "25%       28.000000     -1.000000     -1.000000     -1.000000     -1.000000   \n",
       "50%       34.000000      0.000000      0.000000      0.000000      0.000000   \n",
       "75%       41.000000      0.000000      0.000000      0.000000      0.000000   \n",
       "max       79.000000      8.000000      8.000000      8.000000      8.000000   \n",
       "\n",
       "       ...      BILL_AMT4      BILL_AMT5      BILL_AMT6       PAY_AMT1  \\\n",
       "count  ...   30000.000000   30000.000000   30000.000000   30000.000000   \n",
       "mean   ...   43262.948967   40311.400967   38871.760400    5663.580500   \n",
       "std    ...   64332.856134   60797.155770   59554.107537   16563.280354   \n",
       "min    ... -170000.000000  -81334.000000 -339603.000000       0.000000   \n",
       "25%    ...    2326.750000    1763.000000    1256.000000    1000.000000   \n",
       "50%    ...   19052.000000   18104.500000   17071.000000    2100.000000   \n",
       "75%    ...   54506.000000   50190.500000   49198.250000    5006.000000   \n",
       "max    ...  891586.000000  927171.000000  961664.000000  873552.000000   \n",
       "\n",
       "           PAY_AMT2      PAY_AMT3       PAY_AMT4       PAY_AMT5  \\\n",
       "count  3.000000e+04   30000.00000   30000.000000   30000.000000   \n",
       "mean   5.921163e+03    5225.68150    4826.076867    4799.387633   \n",
       "std    2.304087e+04   17606.96147   15666.159744   15278.305679   \n",
       "min    0.000000e+00       0.00000       0.000000       0.000000   \n",
       "25%    8.330000e+02     390.00000     296.000000     252.500000   \n",
       "50%    2.009000e+03    1800.00000    1500.000000    1500.000000   \n",
       "75%    5.000000e+03    4505.00000    4013.250000    4031.500000   \n",
       "max    1.684259e+06  896040.00000  621000.000000  426529.000000   \n",
       "\n",
       "            PAY_AMT6  default payment next month  \n",
       "count   30000.000000                30000.000000  \n",
       "mean     5215.502567                    0.221200  \n",
       "std     17777.465775                    0.415062  \n",
       "min         0.000000                    0.000000  \n",
       "25%       117.750000                    0.000000  \n",
       "50%      1500.000000                    0.000000  \n",
       "75%      4000.000000                    0.000000  \n",
       "max    528666.000000                    1.000000  \n",
       "\n",
       "[8 rows x 25 columns]"
      ]
     },
     "execution_count": 9,
     "metadata": {},
     "output_type": "execute_result"
    }
   ],
   "source": [
    "data.describe()"
   ]
  },
  {
   "cell_type": "code",
   "execution_count": 10,
   "metadata": {},
   "outputs": [
    {
     "data": {
      "text/html": [
       "<div>\n",
       "<style scoped>\n",
       "    .dataframe tbody tr th:only-of-type {\n",
       "        vertical-align: middle;\n",
       "    }\n",
       "\n",
       "    .dataframe tbody tr th {\n",
       "        vertical-align: top;\n",
       "    }\n",
       "\n",
       "    .dataframe thead th {\n",
       "        text-align: right;\n",
       "    }\n",
       "</style>\n",
       "<table border=\"1\" class=\"dataframe\">\n",
       "  <thead>\n",
       "    <tr style=\"text-align: right;\">\n",
       "      <th></th>\n",
       "      <th>ID</th>\n",
       "      <th>LIMIT_BAL</th>\n",
       "      <th>SEX</th>\n",
       "      <th>EDUCATION</th>\n",
       "      <th>MARRIAGE</th>\n",
       "      <th>AGE</th>\n",
       "      <th>PAY_0</th>\n",
       "      <th>PAY_2</th>\n",
       "      <th>PAY_3</th>\n",
       "      <th>PAY_4</th>\n",
       "      <th>...</th>\n",
       "      <th>BILL_AMT4</th>\n",
       "      <th>BILL_AMT5</th>\n",
       "      <th>BILL_AMT6</th>\n",
       "      <th>PAY_AMT1</th>\n",
       "      <th>PAY_AMT2</th>\n",
       "      <th>PAY_AMT3</th>\n",
       "      <th>PAY_AMT4</th>\n",
       "      <th>PAY_AMT5</th>\n",
       "      <th>PAY_AMT6</th>\n",
       "      <th>default payment next month</th>\n",
       "    </tr>\n",
       "  </thead>\n",
       "  <tbody>\n",
       "    <tr>\n",
       "      <td>0</td>\n",
       "      <td>1</td>\n",
       "      <td>20000</td>\n",
       "      <td>2</td>\n",
       "      <td>2</td>\n",
       "      <td>1</td>\n",
       "      <td>24</td>\n",
       "      <td>2</td>\n",
       "      <td>2</td>\n",
       "      <td>-1</td>\n",
       "      <td>-1</td>\n",
       "      <td>...</td>\n",
       "      <td>0</td>\n",
       "      <td>0</td>\n",
       "      <td>0</td>\n",
       "      <td>0</td>\n",
       "      <td>689</td>\n",
       "      <td>0</td>\n",
       "      <td>0</td>\n",
       "      <td>0</td>\n",
       "      <td>0</td>\n",
       "      <td>1</td>\n",
       "    </tr>\n",
       "    <tr>\n",
       "      <td>1</td>\n",
       "      <td>2</td>\n",
       "      <td>120000</td>\n",
       "      <td>2</td>\n",
       "      <td>2</td>\n",
       "      <td>2</td>\n",
       "      <td>26</td>\n",
       "      <td>-1</td>\n",
       "      <td>2</td>\n",
       "      <td>0</td>\n",
       "      <td>0</td>\n",
       "      <td>...</td>\n",
       "      <td>3272</td>\n",
       "      <td>3455</td>\n",
       "      <td>3261</td>\n",
       "      <td>0</td>\n",
       "      <td>1000</td>\n",
       "      <td>1000</td>\n",
       "      <td>1000</td>\n",
       "      <td>0</td>\n",
       "      <td>2000</td>\n",
       "      <td>1</td>\n",
       "    </tr>\n",
       "    <tr>\n",
       "      <td>2</td>\n",
       "      <td>3</td>\n",
       "      <td>90000</td>\n",
       "      <td>2</td>\n",
       "      <td>2</td>\n",
       "      <td>2</td>\n",
       "      <td>34</td>\n",
       "      <td>0</td>\n",
       "      <td>0</td>\n",
       "      <td>0</td>\n",
       "      <td>0</td>\n",
       "      <td>...</td>\n",
       "      <td>14331</td>\n",
       "      <td>14948</td>\n",
       "      <td>15549</td>\n",
       "      <td>1518</td>\n",
       "      <td>1500</td>\n",
       "      <td>1000</td>\n",
       "      <td>1000</td>\n",
       "      <td>1000</td>\n",
       "      <td>5000</td>\n",
       "      <td>0</td>\n",
       "    </tr>\n",
       "    <tr>\n",
       "      <td>3</td>\n",
       "      <td>4</td>\n",
       "      <td>50000</td>\n",
       "      <td>2</td>\n",
       "      <td>2</td>\n",
       "      <td>1</td>\n",
       "      <td>37</td>\n",
       "      <td>0</td>\n",
       "      <td>0</td>\n",
       "      <td>0</td>\n",
       "      <td>0</td>\n",
       "      <td>...</td>\n",
       "      <td>28314</td>\n",
       "      <td>28959</td>\n",
       "      <td>29547</td>\n",
       "      <td>2000</td>\n",
       "      <td>2019</td>\n",
       "      <td>1200</td>\n",
       "      <td>1100</td>\n",
       "      <td>1069</td>\n",
       "      <td>1000</td>\n",
       "      <td>0</td>\n",
       "    </tr>\n",
       "    <tr>\n",
       "      <td>4</td>\n",
       "      <td>5</td>\n",
       "      <td>50000</td>\n",
       "      <td>1</td>\n",
       "      <td>2</td>\n",
       "      <td>1</td>\n",
       "      <td>57</td>\n",
       "      <td>-1</td>\n",
       "      <td>0</td>\n",
       "      <td>-1</td>\n",
       "      <td>0</td>\n",
       "      <td>...</td>\n",
       "      <td>20940</td>\n",
       "      <td>19146</td>\n",
       "      <td>19131</td>\n",
       "      <td>2000</td>\n",
       "      <td>36681</td>\n",
       "      <td>10000</td>\n",
       "      <td>9000</td>\n",
       "      <td>689</td>\n",
       "      <td>679</td>\n",
       "      <td>0</td>\n",
       "    </tr>\n",
       "  </tbody>\n",
       "</table>\n",
       "<p>5 rows × 25 columns</p>\n",
       "</div>"
      ],
      "text/plain": [
       "   ID  LIMIT_BAL  SEX  EDUCATION  MARRIAGE  AGE  PAY_0  PAY_2  PAY_3  PAY_4  \\\n",
       "0   1      20000    2          2         1   24      2      2     -1     -1   \n",
       "1   2     120000    2          2         2   26     -1      2      0      0   \n",
       "2   3      90000    2          2         2   34      0      0      0      0   \n",
       "3   4      50000    2          2         1   37      0      0      0      0   \n",
       "4   5      50000    1          2         1   57     -1      0     -1      0   \n",
       "\n",
       "   ...  BILL_AMT4  BILL_AMT5  BILL_AMT6  PAY_AMT1  PAY_AMT2  PAY_AMT3  \\\n",
       "0  ...          0          0          0         0       689         0   \n",
       "1  ...       3272       3455       3261         0      1000      1000   \n",
       "2  ...      14331      14948      15549      1518      1500      1000   \n",
       "3  ...      28314      28959      29547      2000      2019      1200   \n",
       "4  ...      20940      19146      19131      2000     36681     10000   \n",
       "\n",
       "   PAY_AMT4  PAY_AMT5  PAY_AMT6  default payment next month  \n",
       "0         0         0         0                           1  \n",
       "1      1000         0      2000                           1  \n",
       "2      1000      1000      5000                           0  \n",
       "3      1100      1069      1000                           0  \n",
       "4      9000       689       679                           0  \n",
       "\n",
       "[5 rows x 25 columns]"
      ]
     },
     "execution_count": 10,
     "metadata": {},
     "output_type": "execute_result"
    }
   ],
   "source": [
    "data.head()"
   ]
  },
  {
   "cell_type": "code",
   "execution_count": 11,
   "metadata": {},
   "outputs": [],
   "source": [
    "#Renaming the column names\n",
    "data.rename(columns = {'PAY_0' : 'STATUS_SEP'}, inplace = True)\n",
    "data.rename(columns = {'PAY_2' : 'STATUS_AUG'}, inplace = True)\n",
    "data.rename(columns = {'PAY_3' : 'STATUS_JUL'}, inplace = True)\n",
    "data.rename(columns = {'PAY_4' : 'STATUS_JUN'}, inplace = True)\n",
    "data.rename(columns = {'PAY_5' : 'STATUS_MAY'}, inplace = True)\n",
    "data.rename(columns = {'PAY_6' : 'STATUS_APR'}, inplace = True)\n",
    "data.rename(columns = {'BILL_AMT1' : 'BILL_SEP'}, inplace = True)\n",
    "data.rename(columns = {'BILL_AMT2' : 'BILL_AUG'}, inplace = True)\n",
    "data.rename(columns = {'BILL_AMT3' : 'BILL_JUL'}, inplace = True)\n",
    "data.rename(columns = {'BILL_AMT4' : 'BILL_JUN'}, inplace = True)\n",
    "data.rename(columns = {'BILL_AMT5' : 'BILL_MAY'}, inplace = True)\n",
    "data.rename(columns = {'BILL_AMT6' : 'BILL_APR'}, inplace = True)\n",
    "data.rename(columns = {'PAY_AMT1' : 'PAY_SEP'}, inplace = True)\n",
    "data.rename(columns = {'PAY_AMT2' : 'PAY_AUG'}, inplace = True)\n",
    "data.rename(columns = {'PAY_AMT3' : 'PAY_JUL'}, inplace = True)\n",
    "data.rename(columns = {'PAY_AMT4' : 'PAY_JUN'}, inplace = True)\n",
    "data.rename(columns = {'PAY_AMT5' : 'PAY_MAY'}, inplace = True)\n",
    "data.rename(columns = {'PAY_AMT6' : 'PAY_APR'}, inplace = True)\n",
    "data.rename(columns = {'default payment next month' : 'default'}, inplace = True)"
   ]
  },
  {
   "cell_type": "code",
   "execution_count": 12,
   "metadata": {},
   "outputs": [
    {
     "data": {
      "text/plain": [
       "Index(['ID', 'LIMIT_BAL', 'SEX', 'EDUCATION', 'MARRIAGE', 'AGE', 'STATUS_SEP',\n",
       "       'STATUS_AUG', 'STATUS_JUL', 'STATUS_JUN', 'STATUS_MAY', 'STATUS_APR',\n",
       "       'BILL_SEP', 'BILL_AUG', 'BILL_JUL', 'BILL_JUN', 'BILL_MAY', 'BILL_APR',\n",
       "       'PAY_SEP', 'PAY_AUG', 'PAY_JUL', 'PAY_JUN', 'PAY_MAY', 'PAY_APR',\n",
       "       'default'],\n",
       "      dtype='object')"
      ]
     },
     "execution_count": 12,
     "metadata": {},
     "output_type": "execute_result"
    }
   ],
   "source": [
    "data.columns"
   ]
  },
  {
   "cell_type": "code",
   "execution_count": 13,
   "metadata": {},
   "outputs": [
    {
     "data": {
      "text/html": [
       "<div>\n",
       "<style scoped>\n",
       "    .dataframe tbody tr th:only-of-type {\n",
       "        vertical-align: middle;\n",
       "    }\n",
       "\n",
       "    .dataframe tbody tr th {\n",
       "        vertical-align: top;\n",
       "    }\n",
       "\n",
       "    .dataframe thead th {\n",
       "        text-align: right;\n",
       "    }\n",
       "</style>\n",
       "<table border=\"1\" class=\"dataframe\">\n",
       "  <thead>\n",
       "    <tr style=\"text-align: right;\">\n",
       "      <th></th>\n",
       "      <th>ID</th>\n",
       "      <th>LIMIT_BAL</th>\n",
       "      <th>SEX</th>\n",
       "      <th>EDUCATION</th>\n",
       "      <th>MARRIAGE</th>\n",
       "      <th>AGE</th>\n",
       "      <th>STATUS_SEP</th>\n",
       "      <th>STATUS_AUG</th>\n",
       "      <th>STATUS_JUL</th>\n",
       "      <th>STATUS_JUN</th>\n",
       "      <th>...</th>\n",
       "      <th>BILL_JUN</th>\n",
       "      <th>BILL_MAY</th>\n",
       "      <th>BILL_APR</th>\n",
       "      <th>PAY_SEP</th>\n",
       "      <th>PAY_AUG</th>\n",
       "      <th>PAY_JUL</th>\n",
       "      <th>PAY_JUN</th>\n",
       "      <th>PAY_MAY</th>\n",
       "      <th>PAY_APR</th>\n",
       "      <th>default</th>\n",
       "    </tr>\n",
       "  </thead>\n",
       "  <tbody>\n",
       "    <tr>\n",
       "      <td>count</td>\n",
       "      <td>30000.000000</td>\n",
       "      <td>30000.000000</td>\n",
       "      <td>30000.000000</td>\n",
       "      <td>30000.000000</td>\n",
       "      <td>30000.000000</td>\n",
       "      <td>30000.000000</td>\n",
       "      <td>30000.000000</td>\n",
       "      <td>30000.000000</td>\n",
       "      <td>30000.000000</td>\n",
       "      <td>30000.000000</td>\n",
       "      <td>...</td>\n",
       "      <td>30000.000000</td>\n",
       "      <td>30000.000000</td>\n",
       "      <td>30000.000000</td>\n",
       "      <td>30000.000000</td>\n",
       "      <td>3.000000e+04</td>\n",
       "      <td>30000.00000</td>\n",
       "      <td>30000.000000</td>\n",
       "      <td>30000.000000</td>\n",
       "      <td>30000.000000</td>\n",
       "      <td>30000.000000</td>\n",
       "    </tr>\n",
       "    <tr>\n",
       "      <td>mean</td>\n",
       "      <td>15000.500000</td>\n",
       "      <td>167484.322667</td>\n",
       "      <td>1.603733</td>\n",
       "      <td>1.853133</td>\n",
       "      <td>1.551867</td>\n",
       "      <td>35.485500</td>\n",
       "      <td>-0.016700</td>\n",
       "      <td>-0.133767</td>\n",
       "      <td>-0.166200</td>\n",
       "      <td>-0.220667</td>\n",
       "      <td>...</td>\n",
       "      <td>43262.948967</td>\n",
       "      <td>40311.400967</td>\n",
       "      <td>38871.760400</td>\n",
       "      <td>5663.580500</td>\n",
       "      <td>5.921163e+03</td>\n",
       "      <td>5225.68150</td>\n",
       "      <td>4826.076867</td>\n",
       "      <td>4799.387633</td>\n",
       "      <td>5215.502567</td>\n",
       "      <td>0.221200</td>\n",
       "    </tr>\n",
       "    <tr>\n",
       "      <td>std</td>\n",
       "      <td>8660.398374</td>\n",
       "      <td>129747.661567</td>\n",
       "      <td>0.489129</td>\n",
       "      <td>0.790349</td>\n",
       "      <td>0.521970</td>\n",
       "      <td>9.217904</td>\n",
       "      <td>1.123802</td>\n",
       "      <td>1.197186</td>\n",
       "      <td>1.196868</td>\n",
       "      <td>1.169139</td>\n",
       "      <td>...</td>\n",
       "      <td>64332.856134</td>\n",
       "      <td>60797.155770</td>\n",
       "      <td>59554.107537</td>\n",
       "      <td>16563.280354</td>\n",
       "      <td>2.304087e+04</td>\n",
       "      <td>17606.96147</td>\n",
       "      <td>15666.159744</td>\n",
       "      <td>15278.305679</td>\n",
       "      <td>17777.465775</td>\n",
       "      <td>0.415062</td>\n",
       "    </tr>\n",
       "    <tr>\n",
       "      <td>min</td>\n",
       "      <td>1.000000</td>\n",
       "      <td>10000.000000</td>\n",
       "      <td>1.000000</td>\n",
       "      <td>0.000000</td>\n",
       "      <td>0.000000</td>\n",
       "      <td>21.000000</td>\n",
       "      <td>-2.000000</td>\n",
       "      <td>-2.000000</td>\n",
       "      <td>-2.000000</td>\n",
       "      <td>-2.000000</td>\n",
       "      <td>...</td>\n",
       "      <td>-170000.000000</td>\n",
       "      <td>-81334.000000</td>\n",
       "      <td>-339603.000000</td>\n",
       "      <td>0.000000</td>\n",
       "      <td>0.000000e+00</td>\n",
       "      <td>0.00000</td>\n",
       "      <td>0.000000</td>\n",
       "      <td>0.000000</td>\n",
       "      <td>0.000000</td>\n",
       "      <td>0.000000</td>\n",
       "    </tr>\n",
       "    <tr>\n",
       "      <td>25%</td>\n",
       "      <td>7500.750000</td>\n",
       "      <td>50000.000000</td>\n",
       "      <td>1.000000</td>\n",
       "      <td>1.000000</td>\n",
       "      <td>1.000000</td>\n",
       "      <td>28.000000</td>\n",
       "      <td>-1.000000</td>\n",
       "      <td>-1.000000</td>\n",
       "      <td>-1.000000</td>\n",
       "      <td>-1.000000</td>\n",
       "      <td>...</td>\n",
       "      <td>2326.750000</td>\n",
       "      <td>1763.000000</td>\n",
       "      <td>1256.000000</td>\n",
       "      <td>1000.000000</td>\n",
       "      <td>8.330000e+02</td>\n",
       "      <td>390.00000</td>\n",
       "      <td>296.000000</td>\n",
       "      <td>252.500000</td>\n",
       "      <td>117.750000</td>\n",
       "      <td>0.000000</td>\n",
       "    </tr>\n",
       "    <tr>\n",
       "      <td>50%</td>\n",
       "      <td>15000.500000</td>\n",
       "      <td>140000.000000</td>\n",
       "      <td>2.000000</td>\n",
       "      <td>2.000000</td>\n",
       "      <td>2.000000</td>\n",
       "      <td>34.000000</td>\n",
       "      <td>0.000000</td>\n",
       "      <td>0.000000</td>\n",
       "      <td>0.000000</td>\n",
       "      <td>0.000000</td>\n",
       "      <td>...</td>\n",
       "      <td>19052.000000</td>\n",
       "      <td>18104.500000</td>\n",
       "      <td>17071.000000</td>\n",
       "      <td>2100.000000</td>\n",
       "      <td>2.009000e+03</td>\n",
       "      <td>1800.00000</td>\n",
       "      <td>1500.000000</td>\n",
       "      <td>1500.000000</td>\n",
       "      <td>1500.000000</td>\n",
       "      <td>0.000000</td>\n",
       "    </tr>\n",
       "    <tr>\n",
       "      <td>75%</td>\n",
       "      <td>22500.250000</td>\n",
       "      <td>240000.000000</td>\n",
       "      <td>2.000000</td>\n",
       "      <td>2.000000</td>\n",
       "      <td>2.000000</td>\n",
       "      <td>41.000000</td>\n",
       "      <td>0.000000</td>\n",
       "      <td>0.000000</td>\n",
       "      <td>0.000000</td>\n",
       "      <td>0.000000</td>\n",
       "      <td>...</td>\n",
       "      <td>54506.000000</td>\n",
       "      <td>50190.500000</td>\n",
       "      <td>49198.250000</td>\n",
       "      <td>5006.000000</td>\n",
       "      <td>5.000000e+03</td>\n",
       "      <td>4505.00000</td>\n",
       "      <td>4013.250000</td>\n",
       "      <td>4031.500000</td>\n",
       "      <td>4000.000000</td>\n",
       "      <td>0.000000</td>\n",
       "    </tr>\n",
       "    <tr>\n",
       "      <td>max</td>\n",
       "      <td>30000.000000</td>\n",
       "      <td>1000000.000000</td>\n",
       "      <td>2.000000</td>\n",
       "      <td>6.000000</td>\n",
       "      <td>3.000000</td>\n",
       "      <td>79.000000</td>\n",
       "      <td>8.000000</td>\n",
       "      <td>8.000000</td>\n",
       "      <td>8.000000</td>\n",
       "      <td>8.000000</td>\n",
       "      <td>...</td>\n",
       "      <td>891586.000000</td>\n",
       "      <td>927171.000000</td>\n",
       "      <td>961664.000000</td>\n",
       "      <td>873552.000000</td>\n",
       "      <td>1.684259e+06</td>\n",
       "      <td>896040.00000</td>\n",
       "      <td>621000.000000</td>\n",
       "      <td>426529.000000</td>\n",
       "      <td>528666.000000</td>\n",
       "      <td>1.000000</td>\n",
       "    </tr>\n",
       "  </tbody>\n",
       "</table>\n",
       "<p>8 rows × 25 columns</p>\n",
       "</div>"
      ],
      "text/plain": [
       "                 ID       LIMIT_BAL           SEX     EDUCATION      MARRIAGE  \\\n",
       "count  30000.000000    30000.000000  30000.000000  30000.000000  30000.000000   \n",
       "mean   15000.500000   167484.322667      1.603733      1.853133      1.551867   \n",
       "std     8660.398374   129747.661567      0.489129      0.790349      0.521970   \n",
       "min        1.000000    10000.000000      1.000000      0.000000      0.000000   \n",
       "25%     7500.750000    50000.000000      1.000000      1.000000      1.000000   \n",
       "50%    15000.500000   140000.000000      2.000000      2.000000      2.000000   \n",
       "75%    22500.250000   240000.000000      2.000000      2.000000      2.000000   \n",
       "max    30000.000000  1000000.000000      2.000000      6.000000      3.000000   \n",
       "\n",
       "                AGE    STATUS_SEP    STATUS_AUG    STATUS_JUL    STATUS_JUN  \\\n",
       "count  30000.000000  30000.000000  30000.000000  30000.000000  30000.000000   \n",
       "mean      35.485500     -0.016700     -0.133767     -0.166200     -0.220667   \n",
       "std        9.217904      1.123802      1.197186      1.196868      1.169139   \n",
       "min       21.000000     -2.000000     -2.000000     -2.000000     -2.000000   \n",
       "25%       28.000000     -1.000000     -1.000000     -1.000000     -1.000000   \n",
       "50%       34.000000      0.000000      0.000000      0.000000      0.000000   \n",
       "75%       41.000000      0.000000      0.000000      0.000000      0.000000   \n",
       "max       79.000000      8.000000      8.000000      8.000000      8.000000   \n",
       "\n",
       "       ...       BILL_JUN       BILL_MAY       BILL_APR        PAY_SEP  \\\n",
       "count  ...   30000.000000   30000.000000   30000.000000   30000.000000   \n",
       "mean   ...   43262.948967   40311.400967   38871.760400    5663.580500   \n",
       "std    ...   64332.856134   60797.155770   59554.107537   16563.280354   \n",
       "min    ... -170000.000000  -81334.000000 -339603.000000       0.000000   \n",
       "25%    ...    2326.750000    1763.000000    1256.000000    1000.000000   \n",
       "50%    ...   19052.000000   18104.500000   17071.000000    2100.000000   \n",
       "75%    ...   54506.000000   50190.500000   49198.250000    5006.000000   \n",
       "max    ...  891586.000000  927171.000000  961664.000000  873552.000000   \n",
       "\n",
       "            PAY_AUG       PAY_JUL        PAY_JUN        PAY_MAY  \\\n",
       "count  3.000000e+04   30000.00000   30000.000000   30000.000000   \n",
       "mean   5.921163e+03    5225.68150    4826.076867    4799.387633   \n",
       "std    2.304087e+04   17606.96147   15666.159744   15278.305679   \n",
       "min    0.000000e+00       0.00000       0.000000       0.000000   \n",
       "25%    8.330000e+02     390.00000     296.000000     252.500000   \n",
       "50%    2.009000e+03    1800.00000    1500.000000    1500.000000   \n",
       "75%    5.000000e+03    4505.00000    4013.250000    4031.500000   \n",
       "max    1.684259e+06  896040.00000  621000.000000  426529.000000   \n",
       "\n",
       "             PAY_APR       default  \n",
       "count   30000.000000  30000.000000  \n",
       "mean     5215.502567      0.221200  \n",
       "std     17777.465775      0.415062  \n",
       "min         0.000000      0.000000  \n",
       "25%       117.750000      0.000000  \n",
       "50%      1500.000000      0.000000  \n",
       "75%      4000.000000      0.000000  \n",
       "max    528666.000000      1.000000  \n",
       "\n",
       "[8 rows x 25 columns]"
      ]
     },
     "execution_count": 13,
     "metadata": {},
     "output_type": "execute_result"
    }
   ],
   "source": [
    "data.describe()"
   ]
  },
  {
   "cell_type": "markdown",
   "metadata": {},
   "source": [
    "Determining if there are null values in each attribute"
   ]
  },
  {
   "cell_type": "code",
   "execution_count": 14,
   "metadata": {},
   "outputs": [
    {
     "data": {
      "text/plain": [
       "ID            0\n",
       "LIMIT_BAL     0\n",
       "SEX           0\n",
       "EDUCATION     0\n",
       "MARRIAGE      0\n",
       "AGE           0\n",
       "STATUS_SEP    0\n",
       "STATUS_AUG    0\n",
       "STATUS_JUL    0\n",
       "STATUS_JUN    0\n",
       "STATUS_MAY    0\n",
       "STATUS_APR    0\n",
       "BILL_SEP      0\n",
       "BILL_AUG      0\n",
       "BILL_JUL      0\n",
       "BILL_JUN      0\n",
       "BILL_MAY      0\n",
       "BILL_APR      0\n",
       "PAY_SEP       0\n",
       "PAY_AUG       0\n",
       "PAY_JUL       0\n",
       "PAY_JUN       0\n",
       "PAY_MAY       0\n",
       "PAY_APR       0\n",
       "default       0\n",
       "dtype: int64"
      ]
     },
     "execution_count": 14,
     "metadata": {},
     "output_type": "execute_result"
    }
   ],
   "source": [
    "data.isnull().sum()"
   ]
  },
  {
   "cell_type": "markdown",
   "metadata": {},
   "source": [
    "Finding the distrition of attributes"
   ]
  },
  {
   "cell_type": "code",
   "execution_count": 15,
   "metadata": {},
   "outputs": [
    {
     "data": {
      "text/plain": [
       "2    14030\n",
       "1    10585\n",
       "3     4917\n",
       "5      280\n",
       "4      123\n",
       "6       51\n",
       "0       14\n",
       "Name: EDUCATION, dtype: int64"
      ]
     },
     "execution_count": 15,
     "metadata": {},
     "output_type": "execute_result"
    }
   ],
   "source": [
    "data.EDUCATION.value_counts()"
   ]
  },
  {
   "cell_type": "code",
   "execution_count": 16,
   "metadata": {},
   "outputs": [
    {
     "data": {
      "text/plain": [
       "Text(0.5, 1.0, 'Education vs Count')"
      ]
     },
     "execution_count": 16,
     "metadata": {},
     "output_type": "execute_result"
    },
    {
     "data": {
      "image/png": "[encoded data removed]",
      "text/plain": [
       "<Figure size 432x288 with 1 Axes>"
      ]
     },
     "metadata": {},
     "output_type": "display_data"
    }
   ],
   "source": [
    "data['EDUCATION'].hist()\n",
    "plt.xlabel('EDUCATION')\n",
    "plt.ylabel('COUNT')\n",
    "plt.title('Education vs Count')"
   ]
  },
  {
   "cell_type": "code",
   "execution_count": 17,
   "metadata": {},
   "outputs": [
    {
     "data": {
      "text/plain": [
       "2    15964\n",
       "1    13659\n",
       "3      323\n",
       "0       54\n",
       "Name: MARRIAGE, dtype: int64"
      ]
     },
     "execution_count": 17,
     "metadata": {},
     "output_type": "execute_result"
    }
   ],
   "source": [
    "data.MARRIAGE.value_counts()"
   ]
  },
  {
   "cell_type": "code",
   "execution_count": 18,
   "metadata": {},
   "outputs": [
    {
     "data": {
      "text/plain": [
       "Text(0.5, 1.0, 'Marital Status vs Count')"
      ]
     },
     "execution_count": 18,
     "metadata": {},
     "output_type": "execute_result"
    },
    {
     "data": {
      "image/png": "[encoded data removed]",
      "text/plain": [
       "<Figure size 432x288 with 1 Axes>"
      ]
     },
     "metadata": {},
     "output_type": "display_data"
    }
   ],
   "source": [
    "data['MARRIAGE'].hist()\n",
    "plt.xlabel('MARRIAGE')\n",
    "plt.ylabel('COUNT')\n",
    "plt.title('Marital Status vs Count')"
   ]
  },
  {
   "cell_type": "code",
   "execution_count": 19,
   "metadata": {},
   "outputs": [
    {
     "data": {
      "text/plain": [
       "2    18112\n",
       "1    11888\n",
       "Name: SEX, dtype: int64"
      ]
     },
     "execution_count": 19,
     "metadata": {},
     "output_type": "execute_result"
    }
   ],
   "source": [
    "data.SEX.value_counts()"
   ]
  },
  {
   "cell_type": "code",
   "execution_count": 20,
   "metadata": {},
   "outputs": [
    {
     "data": {
      "text/plain": [
       "Text(0.5, 1.0, 'SEX vs Count')"
      ]
     },
     "execution_count": 20,
     "metadata": {},
     "output_type": "execute_result"
    },
    {
     "data": {
      "image/png": "[encoded data removed]",
      "text/plain": [
       "<Figure size 432x288 with 1 Axes>"
      ]
     },
     "metadata": {},
     "output_type": "display_data"
    }
   ],
   "source": [
    "data['SEX'].hist()\n",
    "plt.xlabel('SEX')\n",
    "plt.ylabel('COUNT')\n",
    "plt.title('SEX vs Count')"
   ]
  },
  {
   "cell_type": "markdown",
   "metadata": {},
   "source": [
    "Checking if the data is balanced or not"
   ]
  },
  {
   "cell_type": "code",
   "execution_count": 21,
   "metadata": {},
   "outputs": [
    {
     "data": {
      "text/plain": [
       "0    23364\n",
       "1     6636\n",
       "Name: default, dtype: int64"
      ]
     },
     "execution_count": 21,
     "metadata": {},
     "output_type": "execute_result"
    },
    {
     "data": {
      "image/png": "[encoded data removed]",
      "text/plain": [
       "<Figure size 432x288 with 1 Axes>"
      ]
     },
     "metadata": {},
     "output_type": "display_data"
    }
   ],
   "source": [
    "sns.countplot(x='default', data=data,hue=\"default\")\n",
    "data.default.value_counts()"
   ]
  },
  {
   "cell_type": "markdown",
   "metadata": {},
   "source": [
    "Checking if the data is balanced or not"
   ]
  },
  {
   "cell_type": "code",
   "execution_count": 22,
   "metadata": {},
   "outputs": [
    {
     "data": {
      "text/plain": [
       "50000      3365\n",
       "20000      1976\n",
       "30000      1610\n",
       "80000      1567\n",
       "200000     1528\n",
       "           ... \n",
       "800000        2\n",
       "760000        1\n",
       "690000        1\n",
       "1000000       1\n",
       "327680        1\n",
       "Name: LIMIT_BAL, Length: 81, dtype: int64"
      ]
     },
     "execution_count": 22,
     "metadata": {},
     "output_type": "execute_result"
    },
    {
     "data": {
      "image/png": "[encoded data removed]",
      "text/plain": [
       "<Figure size 1008x432 with 1 Axes>"
      ]
     },
     "metadata": {},
     "output_type": "display_data"
    }
   ],
   "source": [
    "plt.figure(figsize = (14,6))\n",
    "plt.title('Credit Limit - Density Plot') \n",
    "sns.distplot(data['LIMIT_BAL'],kde=True,bins=100)\n",
    "data['LIMIT_BAL'].value_counts()"
   ]
  },
  {
   "cell_type": "code",
   "execution_count": 23,
   "metadata": {},
   "outputs": [
    {
     "data": {
      "text/plain": [
       "<matplotlib.axes._subplots.AxesSubplot at 0x2ae1d9b2448>"
      ]
     },
     "execution_count": 23,
     "metadata": {},
     "output_type": "execute_result"
    },
    {
     "data": {
      "image/png": "[encoded data removed]",
      "text/plain": [
       "<Figure size 432x288 with 1 Axes>"
      ]
     },
     "metadata": {},
     "output_type": "display_data"
    }
   ],
   "source": [
    "sns.countplot(x='SEX', data=data,hue=\"default\")"
   ]
  },
  {
   "cell_type": "code",
   "execution_count": 24,
   "metadata": {},
   "outputs": [
    {
     "data": {
      "text/plain": [
       "<matplotlib.axes._subplots.AxesSubplot at 0x2ae1cfcbb88>"
      ]
     },
     "execution_count": 24,
     "metadata": {},
     "output_type": "execute_result"
    },
    {
     "data": {
      "image/png": "[encoded data removed]",
      "text/plain": [
       "<Figure size 432x288 with 1 Axes>"
      ]
     },
     "metadata": {},
     "output_type": "display_data"
    }
   ],
   "source": [
    "sns.countplot(x=\"MARRIAGE\", data=data,hue=\"default\")"
   ]
  },
  {
   "cell_type": "code",
   "execution_count": 25,
   "metadata": {},
   "outputs": [
    {
     "data": {
      "text/plain": [
       "<matplotlib.axes._subplots.AxesSubplot at 0x2ae1d05aa88>"
      ]
     },
     "execution_count": 25,
     "metadata": {},
     "output_type": "execute_result"
    },
    {
     "data": {
      "image/png": "[encoded data removed]",
      "text/plain": [
       "<Figure size 432x288 with 1 Axes>"
      ]
     },
     "metadata": {},
     "output_type": "display_data"
    }
   ],
   "source": [
    "sns.countplot(x=\"EDUCATION\", data=data, hue=\"default\")"
   ]
  },
  {
   "cell_type": "code",
   "execution_count": 26,
   "metadata": {},
   "outputs": [
    {
     "data": {
      "text/plain": [
       "6"
      ]
     },
     "execution_count": 26,
     "metadata": {},
     "output_type": "execute_result"
    }
   ],
   "source": [
    "pay_status_columns = data.columns[6:12]\n",
    "pay_status_columns[1]\n",
    "\n",
    "len(pay_status_columns)"
   ]
  },
  {
   "cell_type": "markdown",
   "metadata": {},
   "source": [
    "Distribution of continuous variables"
   ]
  },
  {
   "cell_type": "code",
   "execution_count": 27,
   "metadata": {},
   "outputs": [
    {
     "data": {
      "image/png": "[encoded data removed]",
      "text/plain": [
       "<Figure size 1296x576 with 6 Axes>"
      ]
     },
     "metadata": {},
     "output_type": "display_data"
    }
   ],
   "source": [
    "figure, ax = plt.subplots(2,3)\n",
    "figure.set_size_inches(18,8)\n",
    "\n",
    "\n",
    "for i in range(len(pay_status_columns)):\n",
    "    row,col = int(i/3), i%3\n",
    "\n",
    "    d  = data[pay_status_columns[i]].value_counts()\n",
    "    x = data[pay_status_columns[i]][(data['default']==1)].value_counts()\n",
    "    ax[row,col].bar(d.index, d, align='center', color='red')\n",
    "    ax[row,col].bar(x.index, x, align='center', color='white', alpha=0.7)\n",
    "    ax[row,col].set_title(pay_status_columns[i])\n",
    "    \n",
    "plt.show()"
   ]
  },
  {
   "cell_type": "code",
   "execution_count": 28,
   "metadata": {},
   "outputs": [
    {
     "data": {
      "text/plain": [
       "Index(['PAY_SEP', 'PAY_AUG', 'PAY_JUL', 'PAY_JUN', 'PAY_MAY', 'PAY_APR'], dtype='object')"
      ]
     },
     "execution_count": 28,
     "metadata": {},
     "output_type": "execute_result"
    }
   ],
   "source": [
    "pay_amt_col = data.columns[18:24]\n",
    "pay_amt_col"
   ]
  },
  {
   "cell_type": "code",
   "execution_count": 29,
   "metadata": {},
   "outputs": [
    {
     "data": {
      "image/png": "[encoded data removed]",
      "text/plain": [
       "<Figure size 1080x576 with 6 Axes>"
      ]
     },
     "metadata": {},
     "output_type": "display_data"
    }
   ],
   "source": [
    "#Amount of previous payment\n",
    "\n",
    "figure, ax = plt.subplots(3,2)\n",
    "figure.set_size_inches(15,8)\n",
    "\n",
    "\n",
    "for i in range(len(pay_status_columns)):\n",
    "    row,col =  i%3, int(i/3)\n",
    "   \n",
    "    ax[row,col].hist(data[pay_amt_col[i]], 30, color ='blue', label = \"default\")\n",
    "    ax[row,col].hist(data[pay_amt_col[i]][(data['default']==1)],30,color='white',alpha = 0.7, label =\"not-default\")\n",
    "    ax[row,col].set_title(pay_amt_col[i])\n",
    "    #adding scale\n",
    "    ax[row,col].set_yscale('log', nonposy='clip')\n",
    "    \n",
    "plt.tight_layout()\n",
    "plt.show() "
   ]
  },
  {
   "cell_type": "code",
   "execution_count": 30,
   "metadata": {},
   "outputs": [
    {
     "data": {
      "text/plain": [
       "Index(['BILL_SEP', 'BILL_AUG', 'BILL_JUL', 'BILL_JUN', 'BILL_MAY', 'BILL_APR'], dtype='object')"
      ]
     },
     "execution_count": 30,
     "metadata": {},
     "output_type": "execute_result"
    }
   ],
   "source": [
    "bill_atm_col = data.columns[12:18]\n",
    "bill_atm_col"
   ]
  },
  {
   "cell_type": "code",
   "execution_count": 31,
   "metadata": {},
   "outputs": [
    {
     "data": {
      "image/png": "[encoded data removed]",
      "text/plain": [
       "<Figure size 720x720 with 6 Axes>"
      ]
     },
     "metadata": {},
     "output_type": "display_data"
    }
   ],
   "source": [
    "#Bill statement\n",
    "figure, ax = plt.subplots(3,2)\n",
    "figure.set_size_inches(10,10)\n",
    "\n",
    "for i in range(len(bill_atm_col)):\n",
    "    row,col =  i%3, int(i/3)\n",
    "   \n",
    "    ax[row,col].hist(data[bill_atm_col[i]], 20,rwidth=0.9, color ='orange')\n",
    "    ax[row,col].hist(data[bill_atm_col[i]][(data['default']==1)],20,rwidth=0.9,color='white',alpha = 0.7)\n",
    "    ax[row,col].set_title(bill_atm_col[i])\n",
    "    #adding scale\n",
    "    ax[row,col].set_yscale('log', nonposy='clip')\n",
    "plt.tight_layout()\n",
    "plt.show()"
   ]
  },
  {
   "cell_type": "code",
   "execution_count": 32,
   "metadata": {},
   "outputs": [],
   "source": [
    "#corr_matrix\n",
    "corr_matrix = data.corr()"
   ]
  },
  {
   "cell_type": "code",
   "execution_count": 33,
   "metadata": {},
   "outputs": [
    {
     "data": {
      "text/plain": [
       "<matplotlib.axes._subplots.AxesSubplot at 0x2ae1e6b22c8>"
      ]
     },
     "execution_count": 33,
     "metadata": {},
     "output_type": "execute_result"
    },
    {
     "data": {
      "image/png": "[encoded data removed]",
      "text/plain": [
       "<Figure size 2160x720 with 2 Axes>"
      ]
     },
     "metadata": {},
     "output_type": "display_data"
    }
   ],
   "source": [
    "#plotting corr heatmap\n",
    "\n",
    "plt.figure(figsize=(30,10))\n",
    "sns.heatmap(corr_matrix, square=True, cmap='Blues',annot=True, fmt = \".1f\") "
   ]
  },
  {
   "cell_type": "code",
   "execution_count": 34,
   "metadata": {},
   "outputs": [
    {
     "data": {
      "text/plain": [
       "<matplotlib.axes._subplots.AxesSubplot at 0x2ae2046e648>"
      ]
     },
     "execution_count": 34,
     "metadata": {},
     "output_type": "execute_result"
    },
    {
     "data": {
      "image/png": "[encoded data removed]",
      "text/plain": [
       "<Figure size 720x720 with 1 Axes>"
      ]
     },
     "metadata": {},
     "output_type": "display_data"
    }
   ],
   "source": [
    "#plotting individual corr wrt default\n",
    "X = data.drop(['default'],axis=1)\n",
    "X.corrwith(data['default']).plot.bar(figsize = (10, 10), title = \"Correlation of attributes with Default\", \n",
    "                                        fontsize = 20,rot = 90, grid = True)"
   ]
  },
  {
   "cell_type": "code",
   "execution_count": 35,
   "metadata": {},
   "outputs": [
    {
     "data": {
      "text/plain": [
       "<matplotlib.axes._subplots.AxesSubplot at 0x2ae1e59fd88>"
      ]
     },
     "execution_count": 35,
     "metadata": {},
     "output_type": "execute_result"
    },
    {
     "data": {
      "image/png": "[encoded data removed]",
      "text/plain": [
       "<Figure size 432x288 with 1 Axes>"
      ]
     },
     "metadata": {},
     "output_type": "display_data"
    }
   ],
   "source": [
    "sns.boxplot(x='MARRIAGE',hue='default', y='LIMIT_BAL',data=data,palette=\"muted\")"
   ]
  },
  {
   "cell_type": "code",
   "execution_count": 36,
   "metadata": {},
   "outputs": [
    {
     "data": {
      "text/plain": [
       "<matplotlib.axes._subplots.AxesSubplot at 0x2ae20541c88>"
      ]
     },
     "execution_count": 36,
     "metadata": {},
     "output_type": "execute_result"
    },
    {
     "data": {
      "image/png": "[encoded data removed]",
      "text/plain": [
       "<Figure size 432x288 with 1 Axes>"
      ]
     },
     "metadata": {},
     "output_type": "display_data"
    }
   ],
   "source": [
    "sns.boxplot(x='SEX',hue='default', y='LIMIT_BAL',data=data,palette=\"muted\")"
   ]
  },
  {
   "cell_type": "code",
   "execution_count": 37,
   "metadata": {},
   "outputs": [
    {
     "data": {
      "text/plain": [
       "<matplotlib.axes._subplots.AxesSubplot at 0x2ae1e8a90c8>"
      ]
     },
     "execution_count": 37,
     "metadata": {},
     "output_type": "execute_result"
    },
    {
     "data": {
      "image/png": "[encoded data removed]",
      "text/plain": [
       "<Figure size 432x288 with 1 Axes>"
      ]
     },
     "metadata": {},
     "output_type": "display_data"
    }
   ],
   "source": [
    "sns.boxplot(x='EDUCATION',hue='default', y='LIMIT_BAL',data=data,palette=\"muted\")"
   ]
  },
  {
   "cell_type": "code",
   "execution_count": 38,
   "metadata": {},
   "outputs": [
    {
     "data": {
      "text/plain": [
       "<seaborn.axisgrid.FacetGrid at 0x2ae208b3548>"
      ]
     },
     "execution_count": 38,
     "metadata": {},
     "output_type": "execute_result"
    },
    {
     "data": {
      "image/png": "[encoded data removed]",
      "text/plain": [
       "<Figure size 432x432 with 4 Axes>"
      ]
     },
     "metadata": {},
     "output_type": "display_data"
    }
   ],
   "source": [
    "g = sns.FacetGrid(data, col = 'default', row = 'SEX')\n",
    "g.map(plt.hist, 'AGE')"
   ]
  },
  {
   "cell_type": "code",
   "execution_count": 39,
   "metadata": {},
   "outputs": [
    {
     "data": {
      "text/plain": [
       "<seaborn.axisgrid.FacetGrid at 0x2ae216edd48>"
      ]
     },
     "execution_count": 39,
     "metadata": {},
     "output_type": "execute_result"
    },
    {
     "data": {
      "image/png": "[encoded data removed]",
      "text/plain": [
       "<Figure size 482.5x216 with 2 Axes>"
      ]
     },
     "metadata": {},
     "output_type": "display_data"
    }
   ],
   "source": [
    "g = sns.FacetGrid(data, col='SEX', hue='default')\n",
    "g.map(plt.hist, 'AGE', alpha=0.6, bins=25) #alpha is for opacity\n",
    "g.add_legend()"
   ]
  },
  {
   "cell_type": "markdown",
   "metadata": {},
   "source": [
    "## 1) CHECKING FOR DUPLICATES AND SET ID AS INDEX"
   ]
  },
  {
   "cell_type": "code",
   "execution_count": 40,
   "metadata": {},
   "outputs": [
    {
     "data": {
      "text/html": [
       "<div>\n",
       "<style scoped>\n",
       "    .dataframe tbody tr th:only-of-type {\n",
       "        vertical-align: middle;\n",
       "    }\n",
       "\n",
       "    .dataframe tbody tr th {\n",
       "        vertical-align: top;\n",
       "    }\n",
       "\n",
       "    .dataframe thead th {\n",
       "        text-align: right;\n",
       "    }\n",
       "</style>\n",
       "<table border=\"1\" class=\"dataframe\">\n",
       "  <thead>\n",
       "    <tr style=\"text-align: right;\">\n",
       "      <th></th>\n",
       "      <th>ID</th>\n",
       "      <th>LIMIT_BAL</th>\n",
       "      <th>SEX</th>\n",
       "      <th>EDUCATION</th>\n",
       "      <th>MARRIAGE</th>\n",
       "      <th>AGE</th>\n",
       "      <th>STATUS_SEP</th>\n",
       "      <th>STATUS_AUG</th>\n",
       "      <th>STATUS_JUL</th>\n",
       "      <th>STATUS_JUN</th>\n",
       "      <th>...</th>\n",
       "      <th>BILL_JUN</th>\n",
       "      <th>BILL_MAY</th>\n",
       "      <th>BILL_APR</th>\n",
       "      <th>PAY_SEP</th>\n",
       "      <th>PAY_AUG</th>\n",
       "      <th>PAY_JUL</th>\n",
       "      <th>PAY_JUN</th>\n",
       "      <th>PAY_MAY</th>\n",
       "      <th>PAY_APR</th>\n",
       "      <th>default</th>\n",
       "    </tr>\n",
       "  </thead>\n",
       "  <tbody>\n",
       "  </tbody>\n",
       "</table>\n",
       "<p>0 rows × 25 columns</p>\n",
       "</div>"
      ],
      "text/plain": [
       "Empty DataFrame\n",
       "Columns: [ID, LIMIT_BAL, SEX, EDUCATION, MARRIAGE, AGE, STATUS_SEP, STATUS_AUG, STATUS_JUL, STATUS_JUN, STATUS_MAY, STATUS_APR, BILL_SEP, BILL_AUG, BILL_JUL, BILL_JUN, BILL_MAY, BILL_APR, PAY_SEP, PAY_AUG, PAY_JUL, PAY_JUN, PAY_MAY, PAY_APR, default]\n",
       "Index: []\n",
       "\n",
       "[0 rows x 25 columns]"
      ]
     },
     "execution_count": 40,
     "metadata": {},
     "output_type": "execute_result"
    }
   ],
   "source": [
    "#Check if there are any duplicates ID\n",
    "data[data[\"ID\"].duplicated()] #no duplicate IDs"
   ]
  },
  {
   "cell_type": "code",
   "execution_count": 41,
   "metadata": {},
   "outputs": [],
   "source": [
    "data.set_index('ID', inplace = True)"
   ]
  },
  {
   "cell_type": "markdown",
   "metadata": {},
   "source": [
    "## 2) RENAMING COLUMN NAMES FOR BETTER INTERPRETATION"
   ]
  },
  {
   "cell_type": "code",
   "execution_count": 42,
   "metadata": {},
   "outputs": [
    {
     "data": {
      "text/html": [
       "<div>\n",
       "<style scoped>\n",
       "    .dataframe tbody tr th:only-of-type {\n",
       "        vertical-align: middle;\n",
       "    }\n",
       "\n",
       "    .dataframe tbody tr th {\n",
       "        vertical-align: top;\n",
       "    }\n",
       "\n",
       "    .dataframe thead th {\n",
       "        text-align: right;\n",
       "    }\n",
       "</style>\n",
       "<table border=\"1\" class=\"dataframe\">\n",
       "  <thead>\n",
       "    <tr style=\"text-align: right;\">\n",
       "      <th></th>\n",
       "      <th>LIMIT_BAL</th>\n",
       "      <th>SEX</th>\n",
       "      <th>EDUCATION</th>\n",
       "      <th>MARRIAGE</th>\n",
       "      <th>AGE</th>\n",
       "      <th>STATUS_SEP</th>\n",
       "      <th>STATUS_AUG</th>\n",
       "      <th>STATUS_JUL</th>\n",
       "      <th>STATUS_JUN</th>\n",
       "      <th>STATUS_MAY</th>\n",
       "      <th>...</th>\n",
       "      <th>BILL_JUN</th>\n",
       "      <th>BILL_MAY</th>\n",
       "      <th>BILL_APR</th>\n",
       "      <th>PAY_SEP</th>\n",
       "      <th>PAY_AUG</th>\n",
       "      <th>PAY_JUL</th>\n",
       "      <th>PAY_JUN</th>\n",
       "      <th>PAY_MAY</th>\n",
       "      <th>PAY_APR</th>\n",
       "      <th>default</th>\n",
       "    </tr>\n",
       "    <tr>\n",
       "      <th>ID</th>\n",
       "      <th></th>\n",
       "      <th></th>\n",
       "      <th></th>\n",
       "      <th></th>\n",
       "      <th></th>\n",
       "      <th></th>\n",
       "      <th></th>\n",
       "      <th></th>\n",
       "      <th></th>\n",
       "      <th></th>\n",
       "      <th></th>\n",
       "      <th></th>\n",
       "      <th></th>\n",
       "      <th></th>\n",
       "      <th></th>\n",
       "      <th></th>\n",
       "      <th></th>\n",
       "      <th></th>\n",
       "      <th></th>\n",
       "      <th></th>\n",
       "      <th></th>\n",
       "    </tr>\n",
       "  </thead>\n",
       "  <tbody>\n",
       "    <tr>\n",
       "      <td>1</td>\n",
       "      <td>20000</td>\n",
       "      <td>2</td>\n",
       "      <td>2</td>\n",
       "      <td>1</td>\n",
       "      <td>24</td>\n",
       "      <td>2</td>\n",
       "      <td>2</td>\n",
       "      <td>-1</td>\n",
       "      <td>-1</td>\n",
       "      <td>-2</td>\n",
       "      <td>...</td>\n",
       "      <td>0</td>\n",
       "      <td>0</td>\n",
       "      <td>0</td>\n",
       "      <td>0</td>\n",
       "      <td>689</td>\n",
       "      <td>0</td>\n",
       "      <td>0</td>\n",
       "      <td>0</td>\n",
       "      <td>0</td>\n",
       "      <td>1</td>\n",
       "    </tr>\n",
       "    <tr>\n",
       "      <td>2</td>\n",
       "      <td>120000</td>\n",
       "      <td>2</td>\n",
       "      <td>2</td>\n",
       "      <td>2</td>\n",
       "      <td>26</td>\n",
       "      <td>-1</td>\n",
       "      <td>2</td>\n",
       "      <td>0</td>\n",
       "      <td>0</td>\n",
       "      <td>0</td>\n",
       "      <td>...</td>\n",
       "      <td>3272</td>\n",
       "      <td>3455</td>\n",
       "      <td>3261</td>\n",
       "      <td>0</td>\n",
       "      <td>1000</td>\n",
       "      <td>1000</td>\n",
       "      <td>1000</td>\n",
       "      <td>0</td>\n",
       "      <td>2000</td>\n",
       "      <td>1</td>\n",
       "    </tr>\n",
       "    <tr>\n",
       "      <td>3</td>\n",
       "      <td>90000</td>\n",
       "      <td>2</td>\n",
       "      <td>2</td>\n",
       "      <td>2</td>\n",
       "      <td>34</td>\n",
       "      <td>0</td>\n",
       "      <td>0</td>\n",
       "      <td>0</td>\n",
       "      <td>0</td>\n",
       "      <td>0</td>\n",
       "      <td>...</td>\n",
       "      <td>14331</td>\n",
       "      <td>14948</td>\n",
       "      <td>15549</td>\n",
       "      <td>1518</td>\n",
       "      <td>1500</td>\n",
       "      <td>1000</td>\n",
       "      <td>1000</td>\n",
       "      <td>1000</td>\n",
       "      <td>5000</td>\n",
       "      <td>0</td>\n",
       "    </tr>\n",
       "    <tr>\n",
       "      <td>4</td>\n",
       "      <td>50000</td>\n",
       "      <td>2</td>\n",
       "      <td>2</td>\n",
       "      <td>1</td>\n",
       "      <td>37</td>\n",
       "      <td>0</td>\n",
       "      <td>0</td>\n",
       "      <td>0</td>\n",
       "      <td>0</td>\n",
       "      <td>0</td>\n",
       "      <td>...</td>\n",
       "      <td>28314</td>\n",
       "      <td>28959</td>\n",
       "      <td>29547</td>\n",
       "      <td>2000</td>\n",
       "      <td>2019</td>\n",
       "      <td>1200</td>\n",
       "      <td>1100</td>\n",
       "      <td>1069</td>\n",
       "      <td>1000</td>\n",
       "      <td>0</td>\n",
       "    </tr>\n",
       "    <tr>\n",
       "      <td>5</td>\n",
       "      <td>50000</td>\n",
       "      <td>1</td>\n",
       "      <td>2</td>\n",
       "      <td>1</td>\n",
       "      <td>57</td>\n",
       "      <td>-1</td>\n",
       "      <td>0</td>\n",
       "      <td>-1</td>\n",
       "      <td>0</td>\n",
       "      <td>0</td>\n",
       "      <td>...</td>\n",
       "      <td>20940</td>\n",
       "      <td>19146</td>\n",
       "      <td>19131</td>\n",
       "      <td>2000</td>\n",
       "      <td>36681</td>\n",
       "      <td>10000</td>\n",
       "      <td>9000</td>\n",
       "      <td>689</td>\n",
       "      <td>679</td>\n",
       "      <td>0</td>\n",
       "    </tr>\n",
       "  </tbody>\n",
       "</table>\n",
       "<p>5 rows × 24 columns</p>\n",
       "</div>"
      ],
      "text/plain": [
       "    LIMIT_BAL  SEX  EDUCATION  MARRIAGE  AGE  STATUS_SEP  STATUS_AUG  \\\n",
       "ID                                                                     \n",
       "1       20000    2          2         1   24           2           2   \n",
       "2      120000    2          2         2   26          -1           2   \n",
       "3       90000    2          2         2   34           0           0   \n",
       "4       50000    2          2         1   37           0           0   \n",
       "5       50000    1          2         1   57          -1           0   \n",
       "\n",
       "    STATUS_JUL  STATUS_JUN  STATUS_MAY  ...  BILL_JUN  BILL_MAY  BILL_APR  \\\n",
       "ID                                      ...                                 \n",
       "1           -1          -1          -2  ...         0         0         0   \n",
       "2            0           0           0  ...      3272      3455      3261   \n",
       "3            0           0           0  ...     14331     14948     15549   \n",
       "4            0           0           0  ...     28314     28959     29547   \n",
       "5           -1           0           0  ...     20940     19146     19131   \n",
       "\n",
       "    PAY_SEP  PAY_AUG  PAY_JUL  PAY_JUN  PAY_MAY  PAY_APR  default  \n",
       "ID                                                                 \n",
       "1         0      689        0        0        0        0        1  \n",
       "2         0     1000     1000     1000        0     2000        1  \n",
       "3      1518     1500     1000     1000     1000     5000        0  \n",
       "4      2000     2019     1200     1100     1069     1000        0  \n",
       "5      2000    36681    10000     9000      689      679        0  \n",
       "\n",
       "[5 rows x 24 columns]"
      ]
     },
     "execution_count": 42,
     "metadata": {},
     "output_type": "execute_result"
    }
   ],
   "source": [
    "#Renaming the data column for better understanding of the dataset\n",
    "data.rename(columns = {'PAY_0' : 'STATUS_SEP'}, inplace = True)\n",
    "data.rename(columns = {'PAY_2' : 'STATUS_AUG'}, inplace = True)\n",
    "data.rename(columns = {'PAY_3' : 'STATUS_JUL'}, inplace = True)\n",
    "data.rename(columns = {'PAY_4' : 'STATUS_JUN'}, inplace = True)\n",
    "data.rename(columns = {'PAY_5' : 'STATUS_MAY'}, inplace = True)\n",
    "data.rename(columns = {'PAY_6' : 'STATUS_APR'}, inplace = True)\n",
    "data.rename(columns = {'BILL_AMT1' : 'BILL_SEP'}, inplace = True)\n",
    "data.rename(columns = {'BILL_AMT2' : 'BILL_AUG'}, inplace = True)\n",
    "data.rename(columns = {'BILL_AMT3' : 'BILL_JUL'}, inplace = True)\n",
    "data.rename(columns = {'BILL_AMT4' : 'BILL_JUN'}, inplace = True)\n",
    "data.rename(columns = {'BILL_AMT5' : 'BILL_MAY'}, inplace = True)\n",
    "data.rename(columns = {'BILL_AMT6' : 'BILL_APR'}, inplace = True)\n",
    "data.rename(columns = {'PAY_AMT1' : 'PAY_SEP'}, inplace = True)\n",
    "data.rename(columns = {'PAY_AMT2' : 'PAY_AUG'}, inplace = True)\n",
    "data.rename(columns = {'PAY_AMT3' : 'PAY_JUL'}, inplace = True)\n",
    "data.rename(columns = {'PAY_AMT4' : 'PAY_JUN'}, inplace = True)\n",
    "data.rename(columns = {'PAY_AMT5' : 'PAY_MAY'}, inplace = True)\n",
    "data.rename(columns = {'PAY_AMT6' : 'PAY_APR'}, inplace = True)\n",
    "data.rename(columns = {'default payment next month' : 'default'}, inplace = True)\n",
    "data.head()"
   ]
  },
  {
   "cell_type": "markdown",
   "metadata": {},
   "source": [
    "## 3) MERGING UNDOCUMENTED VALUES\n",
    "We observed that EDUCATION contains values 0, 5 and 6, marriage contains values which are undocumented. We could choose to remove these data, however, it is unwise as they contribute to a large amount of data. Hence, we will keep these data and put them under “others” category.\n",
    "\n",
    "Likewise, we observed that MARRIAGE contains value 0 which is undocumented. Hence, we will keep and put them under “others” category.\n",
    "\n",
    "For STATUS_SEP to STATUS_APR, we observed that they contained values -2 which is undocumented. If values 1,2 ,3 … represents the months of delay, we should see every negative value as ‘pay duly’, hence, we will merge -2 and -1 to 0, which represents ‘pay duly’."
   ]
  },
  {
   "cell_type": "code",
   "execution_count": 43,
   "metadata": {},
   "outputs": [],
   "source": [
    "data['EDUCATION'].replace(5,4, inplace=True)\n",
    "data['EDUCATION'].replace(6,4, inplace=True)\n",
    "data['EDUCATION'].replace(0,4, inplace=True)"
   ]
  },
  {
   "cell_type": "code",
   "execution_count": 44,
   "metadata": {},
   "outputs": [
    {
     "data": {
      "text/plain": [
       "2    14030\n",
       "1    10585\n",
       "3     4917\n",
       "4      468\n",
       "Name: EDUCATION, dtype: int64"
      ]
     },
     "execution_count": 44,
     "metadata": {},
     "output_type": "execute_result"
    }
   ],
   "source": [
    "data.EDUCATION.value_counts()"
   ]
  },
  {
   "cell_type": "code",
   "execution_count": 45,
   "metadata": {},
   "outputs": [],
   "source": [
    "data['MARRIAGE'].replace(0,3, inplace=True)"
   ]
  },
  {
   "cell_type": "code",
   "execution_count": 46,
   "metadata": {},
   "outputs": [
    {
     "data": {
      "text/plain": [
       "2    15964\n",
       "1    13659\n",
       "3      377\n",
       "Name: MARRIAGE, dtype: int64"
      ]
     },
     "execution_count": 46,
     "metadata": {},
     "output_type": "execute_result"
    }
   ],
   "source": [
    "data.MARRIAGE.value_counts()"
   ]
  },
  {
   "cell_type": "code",
   "execution_count": 47,
   "metadata": {},
   "outputs": [
    {
     "data": {
      "text/html": [
       "<div>\n",
       "<style scoped>\n",
       "    .dataframe tbody tr th:only-of-type {\n",
       "        vertical-align: middle;\n",
       "    }\n",
       "\n",
       "    .dataframe tbody tr th {\n",
       "        vertical-align: top;\n",
       "    }\n",
       "\n",
       "    .dataframe thead th {\n",
       "        text-align: right;\n",
       "    }\n",
       "</style>\n",
       "<table border=\"1\" class=\"dataframe\">\n",
       "  <thead>\n",
       "    <tr style=\"text-align: right;\">\n",
       "      <th></th>\n",
       "      <th>LIMIT_BAL</th>\n",
       "      <th>SEX</th>\n",
       "      <th>EDUCATION</th>\n",
       "      <th>MARRIAGE</th>\n",
       "      <th>AGE</th>\n",
       "      <th>STATUS_SEP</th>\n",
       "      <th>STATUS_AUG</th>\n",
       "      <th>STATUS_JUL</th>\n",
       "      <th>STATUS_JUN</th>\n",
       "      <th>STATUS_MAY</th>\n",
       "      <th>...</th>\n",
       "      <th>BILL_JUN</th>\n",
       "      <th>BILL_MAY</th>\n",
       "      <th>BILL_APR</th>\n",
       "      <th>PAY_SEP</th>\n",
       "      <th>PAY_AUG</th>\n",
       "      <th>PAY_JUL</th>\n",
       "      <th>PAY_JUN</th>\n",
       "      <th>PAY_MAY</th>\n",
       "      <th>PAY_APR</th>\n",
       "      <th>default</th>\n",
       "    </tr>\n",
       "    <tr>\n",
       "      <th>ID</th>\n",
       "      <th></th>\n",
       "      <th></th>\n",
       "      <th></th>\n",
       "      <th></th>\n",
       "      <th></th>\n",
       "      <th></th>\n",
       "      <th></th>\n",
       "      <th></th>\n",
       "      <th></th>\n",
       "      <th></th>\n",
       "      <th></th>\n",
       "      <th></th>\n",
       "      <th></th>\n",
       "      <th></th>\n",
       "      <th></th>\n",
       "      <th></th>\n",
       "      <th></th>\n",
       "      <th></th>\n",
       "      <th></th>\n",
       "      <th></th>\n",
       "      <th></th>\n",
       "    </tr>\n",
       "  </thead>\n",
       "  <tbody>\n",
       "    <tr>\n",
       "      <td>1</td>\n",
       "      <td>20000</td>\n",
       "      <td>2</td>\n",
       "      <td>2</td>\n",
       "      <td>1</td>\n",
       "      <td>24</td>\n",
       "      <td>2</td>\n",
       "      <td>2</td>\n",
       "      <td>0</td>\n",
       "      <td>0</td>\n",
       "      <td>0</td>\n",
       "      <td>...</td>\n",
       "      <td>0</td>\n",
       "      <td>0</td>\n",
       "      <td>0</td>\n",
       "      <td>0</td>\n",
       "      <td>689</td>\n",
       "      <td>0</td>\n",
       "      <td>0</td>\n",
       "      <td>0</td>\n",
       "      <td>0</td>\n",
       "      <td>1</td>\n",
       "    </tr>\n",
       "    <tr>\n",
       "      <td>2</td>\n",
       "      <td>120000</td>\n",
       "      <td>2</td>\n",
       "      <td>2</td>\n",
       "      <td>2</td>\n",
       "      <td>26</td>\n",
       "      <td>0</td>\n",
       "      <td>2</td>\n",
       "      <td>0</td>\n",
       "      <td>0</td>\n",
       "      <td>0</td>\n",
       "      <td>...</td>\n",
       "      <td>3272</td>\n",
       "      <td>3455</td>\n",
       "      <td>3261</td>\n",
       "      <td>0</td>\n",
       "      <td>1000</td>\n",
       "      <td>1000</td>\n",
       "      <td>1000</td>\n",
       "      <td>0</td>\n",
       "      <td>2000</td>\n",
       "      <td>1</td>\n",
       "    </tr>\n",
       "    <tr>\n",
       "      <td>3</td>\n",
       "      <td>90000</td>\n",
       "      <td>2</td>\n",
       "      <td>2</td>\n",
       "      <td>2</td>\n",
       "      <td>34</td>\n",
       "      <td>0</td>\n",
       "      <td>0</td>\n",
       "      <td>0</td>\n",
       "      <td>0</td>\n",
       "      <td>0</td>\n",
       "      <td>...</td>\n",
       "      <td>14331</td>\n",
       "      <td>14948</td>\n",
       "      <td>15549</td>\n",
       "      <td>1518</td>\n",
       "      <td>1500</td>\n",
       "      <td>1000</td>\n",
       "      <td>1000</td>\n",
       "      <td>1000</td>\n",
       "      <td>5000</td>\n",
       "      <td>0</td>\n",
       "    </tr>\n",
       "    <tr>\n",
       "      <td>4</td>\n",
       "      <td>50000</td>\n",
       "      <td>2</td>\n",
       "      <td>2</td>\n",
       "      <td>1</td>\n",
       "      <td>37</td>\n",
       "      <td>0</td>\n",
       "      <td>0</td>\n",
       "      <td>0</td>\n",
       "      <td>0</td>\n",
       "      <td>0</td>\n",
       "      <td>...</td>\n",
       "      <td>28314</td>\n",
       "      <td>28959</td>\n",
       "      <td>29547</td>\n",
       "      <td>2000</td>\n",
       "      <td>2019</td>\n",
       "      <td>1200</td>\n",
       "      <td>1100</td>\n",
       "      <td>1069</td>\n",
       "      <td>1000</td>\n",
       "      <td>0</td>\n",
       "    </tr>\n",
       "    <tr>\n",
       "      <td>5</td>\n",
       "      <td>50000</td>\n",
       "      <td>1</td>\n",
       "      <td>2</td>\n",
       "      <td>1</td>\n",
       "      <td>57</td>\n",
       "      <td>0</td>\n",
       "      <td>0</td>\n",
       "      <td>0</td>\n",
       "      <td>0</td>\n",
       "      <td>0</td>\n",
       "      <td>...</td>\n",
       "      <td>20940</td>\n",
       "      <td>19146</td>\n",
       "      <td>19131</td>\n",
       "      <td>2000</td>\n",
       "      <td>36681</td>\n",
       "      <td>10000</td>\n",
       "      <td>9000</td>\n",
       "      <td>689</td>\n",
       "      <td>679</td>\n",
       "      <td>0</td>\n",
       "    </tr>\n",
       "  </tbody>\n",
       "</table>\n",
       "<p>5 rows × 24 columns</p>\n",
       "</div>"
      ],
      "text/plain": [
       "    LIMIT_BAL  SEX  EDUCATION  MARRIAGE  AGE  STATUS_SEP  STATUS_AUG  \\\n",
       "ID                                                                     \n",
       "1       20000    2          2         1   24           2           2   \n",
       "2      120000    2          2         2   26           0           2   \n",
       "3       90000    2          2         2   34           0           0   \n",
       "4       50000    2          2         1   37           0           0   \n",
       "5       50000    1          2         1   57           0           0   \n",
       "\n",
       "    STATUS_JUL  STATUS_JUN  STATUS_MAY  ...  BILL_JUN  BILL_MAY  BILL_APR  \\\n",
       "ID                                      ...                                 \n",
       "1            0           0           0  ...         0         0         0   \n",
       "2            0           0           0  ...      3272      3455      3261   \n",
       "3            0           0           0  ...     14331     14948     15549   \n",
       "4            0           0           0  ...     28314     28959     29547   \n",
       "5            0           0           0  ...     20940     19146     19131   \n",
       "\n",
       "    PAY_SEP  PAY_AUG  PAY_JUL  PAY_JUN  PAY_MAY  PAY_APR  default  \n",
       "ID                                                                 \n",
       "1         0      689        0        0        0        0        1  \n",
       "2         0     1000     1000     1000        0     2000        1  \n",
       "3      1518     1500     1000     1000     1000     5000        0  \n",
       "4      2000     2019     1200     1100     1069     1000        0  \n",
       "5      2000    36681    10000     9000      689      679        0  \n",
       "\n",
       "[5 rows x 24 columns]"
      ]
     },
     "execution_count": 47,
     "metadata": {},
     "output_type": "execute_result"
    }
   ],
   "source": [
    "data['STATUS_SEP'].replace(-1,0, inplace=True)\n",
    "data['STATUS_SEP'].replace(-2,0, inplace=True)\n",
    "data['STATUS_AUG'].replace(-1,0, inplace=True)\n",
    "data['STATUS_AUG'].replace(-2,0, inplace=True)\n",
    "data['STATUS_JUL'].replace(-1,0, inplace=True)\n",
    "data['STATUS_JUL'].replace(-2,0, inplace=True)\n",
    "data['STATUS_JUN'].replace(-1,0, inplace=True)\n",
    "data['STATUS_JUN'].replace(-2,0, inplace=True)\n",
    "data['STATUS_MAY'].replace(-1,0, inplace=True)\n",
    "data['STATUS_MAY'].replace(-2,0, inplace=True)\n",
    "data['STATUS_APR'].replace(-1,0, inplace=True)\n",
    "data['STATUS_APR'].replace(-2,0, inplace=True)\n",
    "data.head()"
   ]
  },
  {
   "cell_type": "code",
   "execution_count": 48,
   "metadata": {},
   "outputs": [
    {
     "data": {
      "text/plain": [
       "0    23182\n",
       "1     3688\n",
       "2     2667\n",
       "3      322\n",
       "4       76\n",
       "5       26\n",
       "8       19\n",
       "6       11\n",
       "7        9\n",
       "Name: STATUS_SEP, dtype: int64"
      ]
     },
     "execution_count": 48,
     "metadata": {},
     "output_type": "execute_result"
    }
   ],
   "source": [
    "data.STATUS_SEP.value_counts()"
   ]
  },
  {
   "cell_type": "markdown",
   "metadata": {},
   "source": [
    "## 4) REORDER EDUCATION RANKING\n",
    "We have also identified that for Education, the dataset did not rank the attributes in the correct hierarchy ranking.\n",
    "\n",
    "High school should come before university. Therefore, we re-ordered the education data to be 1 = graduate school; 2 = high school, 3 = university, 4 = others.\n",
    "\n",
    "For our models, we will assume value 4 to be higher university education."
   ]
  },
  {
   "cell_type": "code",
   "execution_count": 49,
   "metadata": {},
   "outputs": [],
   "source": [
    "#1 = Graduate School\n",
    "#2 = High School\n",
    "#3 = University \n",
    "#4 = Others (Assuming Higher University Education)\n",
    "\n",
    "data['EDUCATION'].replace(2,4, inplace=True)\n",
    "data['EDUCATION'].replace(3,2, inplace=True)\n",
    "data['EDUCATION'].replace(4,3, inplace=True)"
   ]
  },
  {
   "cell_type": "markdown",
   "metadata": {},
   "source": [
    "## 5) FEATURE SELECTION - CHI2 TEST FOR CATEGORICAL VARIABLES\n",
    "We will do CHI2 pairing test for all categorical data and for each pairing that has a p-value > 0.05, we will select 1 feature to be removed from the dataset."
   ]
  },
  {
   "cell_type": "code",
   "execution_count": 50,
   "metadata": {},
   "outputs": [
    {
     "name": "stdout",
     "output_type": "stream",
     "text": [
      "CHI2 Test for MARRIAGE,STATUS_SEP \n",
      "0.16366393769741636\n",
      "\n",
      "\n",
      "CHI2 Test for MARRIAGE,STATUS_AUG \n",
      "0.5382357625680236\n",
      "\n",
      "\n",
      "CHI2 Test for MARRIAGE,STATUS_JUL \n",
      "0.7522661470736393\n",
      "\n",
      "\n",
      "CHI2 Test for MARRIAGE,STATUS_JUN \n",
      "0.7869203621656663\n",
      "\n",
      "\n",
      "CHI2 Test for MARRIAGE,STATUS_MAY \n",
      "0.9251161404865955\n",
      "\n",
      "\n",
      "CHI2 Test for MARRIAGE,STATUS_APR \n",
      "0.974160436758886\n",
      "\n",
      "\n"
     ]
    }
   ],
   "source": [
    "df = data[data.columns[1:11]]\n",
    "df1 = data[data.columns[-1]]\n",
    "df2 = pd.concat([df,df1], axis = 1)\n",
    "df2.drop(columns = ['AGE'], inplace = True)\n",
    "\n",
    "for i in range(10):\n",
    "    for j in range(i+1,10):\n",
    "        feature1 = df2.columns[i]\n",
    "        feature2 = df2.columns[j]\n",
    "        if (chi2_contingency(pd.crosstab(df2[feature1], df2[feature2]))[1]) > 0.05:\n",
    "            print(\"CHI2 Test for \" + str(feature1) + \",\" + str(feature2) + \" \" + \"\\n\" + \n",
    "                  str(chi2_contingency(pd.crosstab(df2[feature1], df2[feature2]))[1])+ \"\\n\\n\")"
   ]
  },
  {
   "cell_type": "markdown",
   "metadata": {},
   "source": [
    "Since Marriage appears in all pairings that have p-value > 0.05, we remove MARRIAGE from the dataset"
   ]
  },
  {
   "cell_type": "code",
   "execution_count": 51,
   "metadata": {},
   "outputs": [],
   "source": [
    "data.drop(columns = ['MARRIAGE'], inplace = True)"
   ]
  },
  {
   "cell_type": "markdown",
   "metadata": {},
   "source": [
    "## 6) FEATURE SELECTION - CORRELATION TEST FOR CONTINUOUS DATA\n",
    "The correlation table shown below shows that the data contains high degree of multicollinearity for BILL columns\n",
    "\n",
    "Multicollinearity can cause problems when we fit the model later interpret the results.\n",
    "\n",
    "It becomes difficult for the model to estimate the relationship between each independent variable and the dependent variable independently because the independent variables tend to change in unison."
   ]
  },
  {
   "cell_type": "code",
   "execution_count": 52,
   "metadata": {},
   "outputs": [
    {
     "data": {
      "text/html": [
       "<style  type=\"text/css\" >\n",
       "    #T_f7980276_0d10_11ea_bd8b_0028f8de9a49row0_col0 {\n",
       "            background-color:  #b40426;\n",
       "            color:  #f1f1f1;\n",
       "        }    #T_f7980276_0d10_11ea_bd8b_0028f8de9a49row0_col1 {\n",
       "            background-color:  #c73635;\n",
       "            color:  #f1f1f1;\n",
       "        }    #T_f7980276_0d10_11ea_bd8b_0028f8de9a49row0_col2 {\n",
       "            background-color:  #dd5f4b;\n",
       "            color:  #000000;\n",
       "        }    #T_f7980276_0d10_11ea_bd8b_0028f8de9a49row0_col3 {\n",
       "            background-color:  #e67259;\n",
       "            color:  #000000;\n",
       "        }    #T_f7980276_0d10_11ea_bd8b_0028f8de9a49row0_col4 {\n",
       "            background-color:  #ed8366;\n",
       "            color:  #000000;\n",
       "        }    #T_f7980276_0d10_11ea_bd8b_0028f8de9a49row0_col5 {\n",
       "            background-color:  #f18f71;\n",
       "            color:  #000000;\n",
       "        }    #T_f7980276_0d10_11ea_bd8b_0028f8de9a49row0_col6 {\n",
       "            background-color:  #3b4cc0;\n",
       "            color:  #f1f1f1;\n",
       "        }    #T_f7980276_0d10_11ea_bd8b_0028f8de9a49row0_col7 {\n",
       "            background-color:  #3b4cc0;\n",
       "            color:  #f1f1f1;\n",
       "        }    #T_f7980276_0d10_11ea_bd8b_0028f8de9a49row0_col8 {\n",
       "            background-color:  #4358cb;\n",
       "            color:  #f1f1f1;\n",
       "        }    #T_f7980276_0d10_11ea_bd8b_0028f8de9a49row0_col9 {\n",
       "            background-color:  #445acc;\n",
       "            color:  #f1f1f1;\n",
       "        }    #T_f7980276_0d10_11ea_bd8b_0028f8de9a49row0_col10 {\n",
       "            background-color:  #4358cb;\n",
       "            color:  #f1f1f1;\n",
       "        }    #T_f7980276_0d10_11ea_bd8b_0028f8de9a49row0_col11 {\n",
       "            background-color:  #506bda;\n",
       "            color:  #000000;\n",
       "        }    #T_f7980276_0d10_11ea_bd8b_0028f8de9a49row1_col0 {\n",
       "            background-color:  #c73635;\n",
       "            color:  #f1f1f1;\n",
       "        }    #T_f7980276_0d10_11ea_bd8b_0028f8de9a49row1_col1 {\n",
       "            background-color:  #b40426;\n",
       "            color:  #f1f1f1;\n",
       "        }    #T_f7980276_0d10_11ea_bd8b_0028f8de9a49row1_col2 {\n",
       "            background-color:  #d1493f;\n",
       "            color:  #f1f1f1;\n",
       "        }    #T_f7980276_0d10_11ea_bd8b_0028f8de9a49row1_col3 {\n",
       "            background-color:  #dd5f4b;\n",
       "            color:  #000000;\n",
       "        }    #T_f7980276_0d10_11ea_bd8b_0028f8de9a49row1_col4 {\n",
       "            background-color:  #e67259;\n",
       "            color:  #000000;\n",
       "        }    #T_f7980276_0d10_11ea_bd8b_0028f8de9a49row1_col5 {\n",
       "            background-color:  #ec7f63;\n",
       "            color:  #000000;\n",
       "        }    #T_f7980276_0d10_11ea_bd8b_0028f8de9a49row1_col6 {\n",
       "            background-color:  #6e90f2;\n",
       "            color:  #000000;\n",
       "        }    #T_f7980276_0d10_11ea_bd8b_0028f8de9a49row1_col7 {\n",
       "            background-color:  #3b4cc0;\n",
       "            color:  #f1f1f1;\n",
       "        }    #T_f7980276_0d10_11ea_bd8b_0028f8de9a49row1_col8 {\n",
       "            background-color:  #4257c9;\n",
       "            color:  #f1f1f1;\n",
       "        }    #T_f7980276_0d10_11ea_bd8b_0028f8de9a49row1_col9 {\n",
       "            background-color:  #4055c8;\n",
       "            color:  #f1f1f1;\n",
       "        }    #T_f7980276_0d10_11ea_bd8b_0028f8de9a49row1_col10 {\n",
       "            background-color:  #3f53c6;\n",
       "            color:  #f1f1f1;\n",
       "        }    #T_f7980276_0d10_11ea_bd8b_0028f8de9a49row1_col11 {\n",
       "            background-color:  #4f69d9;\n",
       "            color:  #000000;\n",
       "        }    #T_f7980276_0d10_11ea_bd8b_0028f8de9a49row2_col0 {\n",
       "            background-color:  #dc5d4a;\n",
       "            color:  #000000;\n",
       "        }    #T_f7980276_0d10_11ea_bd8b_0028f8de9a49row2_col1 {\n",
       "            background-color:  #d0473d;\n",
       "            color:  #f1f1f1;\n",
       "        }    #T_f7980276_0d10_11ea_bd8b_0028f8de9a49row2_col2 {\n",
       "            background-color:  #b40426;\n",
       "            color:  #f1f1f1;\n",
       "        }    #T_f7980276_0d10_11ea_bd8b_0028f8de9a49row2_col3 {\n",
       "            background-color:  #d24b40;\n",
       "            color:  #f1f1f1;\n",
       "        }    #T_f7980276_0d10_11ea_bd8b_0028f8de9a49row2_col4 {\n",
       "            background-color:  #e0654f;\n",
       "            color:  #000000;\n",
       "        }    #T_f7980276_0d10_11ea_bd8b_0028f8de9a49row2_col5 {\n",
       "            background-color:  #e7745b;\n",
       "            color:  #000000;\n",
       "        }    #T_f7980276_0d10_11ea_bd8b_0028f8de9a49row2_col6 {\n",
       "            background-color:  #5f7fe8;\n",
       "            color:  #000000;\n",
       "        }    #T_f7980276_0d10_11ea_bd8b_0028f8de9a49row2_col7 {\n",
       "            background-color:  #89acfd;\n",
       "            color:  #000000;\n",
       "        }    #T_f7980276_0d10_11ea_bd8b_0028f8de9a49row2_col8 {\n",
       "            background-color:  #3b4cc0;\n",
       "            color:  #f1f1f1;\n",
       "        }    #T_f7980276_0d10_11ea_bd8b_0028f8de9a49row2_col9 {\n",
       "            background-color:  #3e51c5;\n",
       "            color:  #f1f1f1;\n",
       "        }    #T_f7980276_0d10_11ea_bd8b_0028f8de9a49row2_col10 {\n",
       "            background-color:  #485fd1;\n",
       "            color:  #f1f1f1;\n",
       "        }    #T_f7980276_0d10_11ea_bd8b_0028f8de9a49row2_col11 {\n",
       "            background-color:  #516ddb;\n",
       "            color:  #000000;\n",
       "        }    #T_f7980276_0d10_11ea_bd8b_0028f8de9a49row3_col0 {\n",
       "            background-color:  #e46e56;\n",
       "            color:  #000000;\n",
       "        }    #T_f7980276_0d10_11ea_bd8b_0028f8de9a49row3_col1 {\n",
       "            background-color:  #dc5d4a;\n",
       "            color:  #000000;\n",
       "        }    #T_f7980276_0d10_11ea_bd8b_0028f8de9a49row3_col2 {\n",
       "            background-color:  #d24b40;\n",
       "            color:  #f1f1f1;\n",
       "        }    #T_f7980276_0d10_11ea_bd8b_0028f8de9a49row3_col3 {\n",
       "            background-color:  #b40426;\n",
       "            color:  #f1f1f1;\n",
       "        }    #T_f7980276_0d10_11ea_bd8b_0028f8de9a49row3_col4 {\n",
       "            background-color:  #cc403a;\n",
       "            color:  #f1f1f1;\n",
       "        }    #T_f7980276_0d10_11ea_bd8b_0028f8de9a49row3_col5 {\n",
       "            background-color:  #d95847;\n",
       "            color:  #000000;\n",
       "        }    #T_f7980276_0d10_11ea_bd8b_0028f8de9a49row3_col6 {\n",
       "            background-color:  #5b7ae5;\n",
       "            color:  #000000;\n",
       "        }    #T_f7980276_0d10_11ea_bd8b_0028f8de9a49row3_col7 {\n",
       "            background-color:  #5f7fe8;\n",
       "            color:  #000000;\n",
       "        }    #T_f7980276_0d10_11ea_bd8b_0028f8de9a49row3_col8 {\n",
       "            background-color:  #7a9df8;\n",
       "            color:  #000000;\n",
       "        }    #T_f7980276_0d10_11ea_bd8b_0028f8de9a49row3_col9 {\n",
       "            background-color:  #3b4cc0;\n",
       "            color:  #f1f1f1;\n",
       "        }    #T_f7980276_0d10_11ea_bd8b_0028f8de9a49row3_col10 {\n",
       "            background-color:  #4055c8;\n",
       "            color:  #f1f1f1;\n",
       "        }    #T_f7980276_0d10_11ea_bd8b_0028f8de9a49row3_col11 {\n",
       "            background-color:  #4f69d9;\n",
       "            color:  #000000;\n",
       "        }    #T_f7980276_0d10_11ea_bd8b_0028f8de9a49row4_col0 {\n",
       "            background-color:  #ec7f63;\n",
       "            color:  #000000;\n",
       "        }    #T_f7980276_0d10_11ea_bd8b_0028f8de9a49row4_col1 {\n",
       "            background-color:  #e46e56;\n",
       "            color:  #000000;\n",
       "        }    #T_f7980276_0d10_11ea_bd8b_0028f8de9a49row4_col2 {\n",
       "            background-color:  #e0654f;\n",
       "            color:  #000000;\n",
       "        }    #T_f7980276_0d10_11ea_bd8b_0028f8de9a49row4_col3 {\n",
       "            background-color:  #cc403a;\n",
       "            color:  #f1f1f1;\n",
       "        }    #T_f7980276_0d10_11ea_bd8b_0028f8de9a49row4_col4 {\n",
       "            background-color:  #b40426;\n",
       "            color:  #f1f1f1;\n",
       "        }    #T_f7980276_0d10_11ea_bd8b_0028f8de9a49row4_col5 {\n",
       "            background-color:  #ca3b37;\n",
       "            color:  #f1f1f1;\n",
       "        }    #T_f7980276_0d10_11ea_bd8b_0028f8de9a49row4_col6 {\n",
       "            background-color:  #5572df;\n",
       "            color:  #000000;\n",
       "        }    #T_f7980276_0d10_11ea_bd8b_0028f8de9a49row4_col7 {\n",
       "            background-color:  #5673e0;\n",
       "            color:  #000000;\n",
       "        }    #T_f7980276_0d10_11ea_bd8b_0028f8de9a49row4_col8 {\n",
       "            background-color:  #6687ed;\n",
       "            color:  #000000;\n",
       "        }    #T_f7980276_0d10_11ea_bd8b_0028f8de9a49row4_col9 {\n",
       "            background-color:  #7699f6;\n",
       "            color:  #000000;\n",
       "        }    #T_f7980276_0d10_11ea_bd8b_0028f8de9a49row4_col10 {\n",
       "            background-color:  #3b4cc0;\n",
       "            color:  #f1f1f1;\n",
       "        }    #T_f7980276_0d10_11ea_bd8b_0028f8de9a49row4_col11 {\n",
       "            background-color:  #4b64d5;\n",
       "            color:  #f1f1f1;\n",
       "        }    #T_f7980276_0d10_11ea_bd8b_0028f8de9a49row5_col0 {\n",
       "            background-color:  #f18d6f;\n",
       "            color:  #000000;\n",
       "        }    #T_f7980276_0d10_11ea_bd8b_0028f8de9a49row5_col1 {\n",
       "            background-color:  #eb7d62;\n",
       "            color:  #000000;\n",
       "        }    #T_f7980276_0d10_11ea_bd8b_0028f8de9a49row5_col2 {\n",
       "            background-color:  #e8765c;\n",
       "            color:  #000000;\n",
       "        }    #T_f7980276_0d10_11ea_bd8b_0028f8de9a49row5_col3 {\n",
       "            background-color:  #da5a49;\n",
       "            color:  #000000;\n",
       "        }    #T_f7980276_0d10_11ea_bd8b_0028f8de9a49row5_col4 {\n",
       "            background-color:  #cb3e38;\n",
       "            color:  #f1f1f1;\n",
       "        }    #T_f7980276_0d10_11ea_bd8b_0028f8de9a49row5_col5 {\n",
       "            background-color:  #b40426;\n",
       "            color:  #f1f1f1;\n",
       "        }    #T_f7980276_0d10_11ea_bd8b_0028f8de9a49row5_col6 {\n",
       "            background-color:  #4f69d9;\n",
       "            color:  #000000;\n",
       "        }    #T_f7980276_0d10_11ea_bd8b_0028f8de9a49row5_col7 {\n",
       "            background-color:  #536edd;\n",
       "            color:  #000000;\n",
       "        }    #T_f7980276_0d10_11ea_bd8b_0028f8de9a49row5_col8 {\n",
       "            background-color:  #5f7fe8;\n",
       "            color:  #000000;\n",
       "        }    #T_f7980276_0d10_11ea_bd8b_0028f8de9a49row5_col9 {\n",
       "            background-color:  #6687ed;\n",
       "            color:  #000000;\n",
       "        }    #T_f7980276_0d10_11ea_bd8b_0028f8de9a49row5_col10 {\n",
       "            background-color:  #799cf8;\n",
       "            color:  #000000;\n",
       "        }    #T_f7980276_0d10_11ea_bd8b_0028f8de9a49row5_col11 {\n",
       "            background-color:  #3b4cc0;\n",
       "            color:  #f1f1f1;\n",
       "        }    #T_f7980276_0d10_11ea_bd8b_0028f8de9a49row6_col0 {\n",
       "            background-color:  #485fd1;\n",
       "            color:  #f1f1f1;\n",
       "        }    #T_f7980276_0d10_11ea_bd8b_0028f8de9a49row6_col1 {\n",
       "            background-color:  #7b9ff9;\n",
       "            color:  #000000;\n",
       "        }    #T_f7980276_0d10_11ea_bd8b_0028f8de9a49row6_col2 {\n",
       "            background-color:  #6384eb;\n",
       "            color:  #000000;\n",
       "        }    #T_f7980276_0d10_11ea_bd8b_0028f8de9a49row6_col3 {\n",
       "            background-color:  #5f7fe8;\n",
       "            color:  #000000;\n",
       "        }    #T_f7980276_0d10_11ea_bd8b_0028f8de9a49row6_col4 {\n",
       "            background-color:  #5572df;\n",
       "            color:  #000000;\n",
       "        }    #T_f7980276_0d10_11ea_bd8b_0028f8de9a49row6_col5 {\n",
       "            background-color:  #5875e1;\n",
       "            color:  #000000;\n",
       "        }    #T_f7980276_0d10_11ea_bd8b_0028f8de9a49row6_col6 {\n",
       "            background-color:  #b40426;\n",
       "            color:  #f1f1f1;\n",
       "        }    #T_f7980276_0d10_11ea_bd8b_0028f8de9a49row6_col7 {\n",
       "            background-color:  #7da0f9;\n",
       "            color:  #000000;\n",
       "        }    #T_f7980276_0d10_11ea_bd8b_0028f8de9a49row6_col8 {\n",
       "            background-color:  #6687ed;\n",
       "            color:  #000000;\n",
       "        }    #T_f7980276_0d10_11ea_bd8b_0028f8de9a49row6_col9 {\n",
       "            background-color:  #536edd;\n",
       "            color:  #000000;\n",
       "        }    #T_f7980276_0d10_11ea_bd8b_0028f8de9a49row6_col10 {\n",
       "            background-color:  #3d50c3;\n",
       "            color:  #f1f1f1;\n",
       "        }    #T_f7980276_0d10_11ea_bd8b_0028f8de9a49row6_col11 {\n",
       "            background-color:  #536edd;\n",
       "            color:  #000000;\n",
       "        }    #T_f7980276_0d10_11ea_bd8b_0028f8de9a49row7_col0 {\n",
       "            background-color:  #3b4cc0;\n",
       "            color:  #f1f1f1;\n",
       "        }    #T_f7980276_0d10_11ea_bd8b_0028f8de9a49row7_col1 {\n",
       "            background-color:  #3b4cc0;\n",
       "            color:  #f1f1f1;\n",
       "        }    #T_f7980276_0d10_11ea_bd8b_0028f8de9a49row7_col2 {\n",
       "            background-color:  #81a4fb;\n",
       "            color:  #000000;\n",
       "        }    #T_f7980276_0d10_11ea_bd8b_0028f8de9a49row7_col3 {\n",
       "            background-color:  #5572df;\n",
       "            color:  #000000;\n",
       "        }    #T_f7980276_0d10_11ea_bd8b_0028f8de9a49row7_col4 {\n",
       "            background-color:  #485fd1;\n",
       "            color:  #f1f1f1;\n",
       "        }    #T_f7980276_0d10_11ea_bd8b_0028f8de9a49row7_col5 {\n",
       "            background-color:  #4e68d8;\n",
       "            color:  #000000;\n",
       "        }    #T_f7980276_0d10_11ea_bd8b_0028f8de9a49row7_col6 {\n",
       "            background-color:  #7093f3;\n",
       "            color:  #000000;\n",
       "        }    #T_f7980276_0d10_11ea_bd8b_0028f8de9a49row7_col7 {\n",
       "            background-color:  #b40426;\n",
       "            color:  #f1f1f1;\n",
       "        }    #T_f7980276_0d10_11ea_bd8b_0028f8de9a49row7_col8 {\n",
       "            background-color:  #6384eb;\n",
       "            color:  #000000;\n",
       "        }    #T_f7980276_0d10_11ea_bd8b_0028f8de9a49row7_col9 {\n",
       "            background-color:  #4b64d5;\n",
       "            color:  #f1f1f1;\n",
       "        }    #T_f7980276_0d10_11ea_bd8b_0028f8de9a49row7_col10 {\n",
       "            background-color:  #485fd1;\n",
       "            color:  #f1f1f1;\n",
       "        }    #T_f7980276_0d10_11ea_bd8b_0028f8de9a49row7_col11 {\n",
       "            background-color:  #4961d2;\n",
       "            color:  #f1f1f1;\n",
       "        }    #T_f7980276_0d10_11ea_bd8b_0028f8de9a49row8_col0 {\n",
       "            background-color:  #4e68d8;\n",
       "            color:  #000000;\n",
       "        }    #T_f7980276_0d10_11ea_bd8b_0028f8de9a49row8_col1 {\n",
       "            background-color:  #4b64d5;\n",
       "            color:  #f1f1f1;\n",
       "        }    #T_f7980276_0d10_11ea_bd8b_0028f8de9a49row8_col2 {\n",
       "            background-color:  #3b4cc0;\n",
       "            color:  #f1f1f1;\n",
       "        }    #T_f7980276_0d10_11ea_bd8b_0028f8de9a49row8_col3 {\n",
       "            background-color:  #799cf8;\n",
       "            color:  #000000;\n",
       "        }    #T_f7980276_0d10_11ea_bd8b_0028f8de9a49row8_col4 {\n",
       "            background-color:  #6384eb;\n",
       "            color:  #000000;\n",
       "        }    #T_f7980276_0d10_11ea_bd8b_0028f8de9a49row8_col5 {\n",
       "            background-color:  #6485ec;\n",
       "            color:  #000000;\n",
       "        }    #T_f7980276_0d10_11ea_bd8b_0028f8de9a49row8_col6 {\n",
       "            background-color:  #6384eb;\n",
       "            color:  #000000;\n",
       "        }    #T_f7980276_0d10_11ea_bd8b_0028f8de9a49row8_col7 {\n",
       "            background-color:  #6e90f2;\n",
       "            color:  #000000;\n",
       "        }    #T_f7980276_0d10_11ea_bd8b_0028f8de9a49row8_col8 {\n",
       "            background-color:  #b40426;\n",
       "            color:  #f1f1f1;\n",
       "        }    #T_f7980276_0d10_11ea_bd8b_0028f8de9a49row8_col9 {\n",
       "            background-color:  #5977e3;\n",
       "            color:  #000000;\n",
       "        }    #T_f7980276_0d10_11ea_bd8b_0028f8de9a49row8_col10 {\n",
       "            background-color:  #4055c8;\n",
       "            color:  #f1f1f1;\n",
       "        }    #T_f7980276_0d10_11ea_bd8b_0028f8de9a49row8_col11 {\n",
       "            background-color:  #4a63d3;\n",
       "            color:  #f1f1f1;\n",
       "        }    #T_f7980276_0d10_11ea_bd8b_0028f8de9a49row9_col0 {\n",
       "            background-color:  #4e68d8;\n",
       "            color:  #000000;\n",
       "        }    #T_f7980276_0d10_11ea_bd8b_0028f8de9a49row9_col1 {\n",
       "            background-color:  #4a63d3;\n",
       "            color:  #f1f1f1;\n",
       "        }    #T_f7980276_0d10_11ea_bd8b_0028f8de9a49row9_col2 {\n",
       "            background-color:  #3e51c5;\n",
       "            color:  #f1f1f1;\n",
       "        }    #T_f7980276_0d10_11ea_bd8b_0028f8de9a49row9_col3 {\n",
       "            background-color:  #3b4cc0;\n",
       "            color:  #f1f1f1;\n",
       "        }    #T_f7980276_0d10_11ea_bd8b_0028f8de9a49row9_col4 {\n",
       "            background-color:  #7396f5;\n",
       "            color:  #000000;\n",
       "        }    #T_f7980276_0d10_11ea_bd8b_0028f8de9a49row9_col5 {\n",
       "            background-color:  #6a8bef;\n",
       "            color:  #000000;\n",
       "        }    #T_f7980276_0d10_11ea_bd8b_0028f8de9a49row9_col6 {\n",
       "            background-color:  #4f69d9;\n",
       "            color:  #000000;\n",
       "        }    #T_f7980276_0d10_11ea_bd8b_0028f8de9a49row9_col7 {\n",
       "            background-color:  #5572df;\n",
       "            color:  #000000;\n",
       "        }    #T_f7980276_0d10_11ea_bd8b_0028f8de9a49row9_col8 {\n",
       "            background-color:  #5977e3;\n",
       "            color:  #000000;\n",
       "        }    #T_f7980276_0d10_11ea_bd8b_0028f8de9a49row9_col9 {\n",
       "            background-color:  #b40426;\n",
       "            color:  #f1f1f1;\n",
       "        }    #T_f7980276_0d10_11ea_bd8b_0028f8de9a49row9_col10 {\n",
       "            background-color:  #3e51c5;\n",
       "            color:  #f1f1f1;\n",
       "        }    #T_f7980276_0d10_11ea_bd8b_0028f8de9a49row9_col11 {\n",
       "            background-color:  #4961d2;\n",
       "            color:  #f1f1f1;\n",
       "        }    #T_f7980276_0d10_11ea_bd8b_0028f8de9a49row10_col0 {\n",
       "            background-color:  #516ddb;\n",
       "            color:  #000000;\n",
       "        }    #T_f7980276_0d10_11ea_bd8b_0028f8de9a49row10_col1 {\n",
       "            background-color:  #4e68d8;\n",
       "            color:  #000000;\n",
       "        }    #T_f7980276_0d10_11ea_bd8b_0028f8de9a49row10_col2 {\n",
       "            background-color:  #4b64d5;\n",
       "            color:  #f1f1f1;\n",
       "        }    #T_f7980276_0d10_11ea_bd8b_0028f8de9a49row10_col3 {\n",
       "            background-color:  #445acc;\n",
       "            color:  #f1f1f1;\n",
       "        }    #T_f7980276_0d10_11ea_bd8b_0028f8de9a49row10_col4 {\n",
       "            background-color:  #3b4cc0;\n",
       "            color:  #f1f1f1;\n",
       "        }    #T_f7980276_0d10_11ea_bd8b_0028f8de9a49row10_col5 {\n",
       "            background-color:  #81a4fb;\n",
       "            color:  #000000;\n",
       "        }    #T_f7980276_0d10_11ea_bd8b_0028f8de9a49row10_col6 {\n",
       "            background-color:  #3d50c3;\n",
       "            color:  #f1f1f1;\n",
       "        }    #T_f7980276_0d10_11ea_bd8b_0028f8de9a49row10_col7 {\n",
       "            background-color:  #5673e0;\n",
       "            color:  #000000;\n",
       "        }    #T_f7980276_0d10_11ea_bd8b_0028f8de9a49row10_col8 {\n",
       "            background-color:  #445acc;\n",
       "            color:  #f1f1f1;\n",
       "        }    #T_f7980276_0d10_11ea_bd8b_0028f8de9a49row10_col9 {\n",
       "            background-color:  #4257c9;\n",
       "            color:  #f1f1f1;\n",
       "        }    #T_f7980276_0d10_11ea_bd8b_0028f8de9a49row10_col10 {\n",
       "            background-color:  #b40426;\n",
       "            color:  #f1f1f1;\n",
       "        }    #T_f7980276_0d10_11ea_bd8b_0028f8de9a49row10_col11 {\n",
       "            background-color:  #485fd1;\n",
       "            color:  #f1f1f1;\n",
       "        }    #T_f7980276_0d10_11ea_bd8b_0028f8de9a49row11_col0 {\n",
       "            background-color:  #5572df;\n",
       "            color:  #000000;\n",
       "        }    #T_f7980276_0d10_11ea_bd8b_0028f8de9a49row11_col1 {\n",
       "            background-color:  #536edd;\n",
       "            color:  #000000;\n",
       "        }    #T_f7980276_0d10_11ea_bd8b_0028f8de9a49row11_col2 {\n",
       "            background-color:  #4c66d6;\n",
       "            color:  #000000;\n",
       "        }    #T_f7980276_0d10_11ea_bd8b_0028f8de9a49row11_col3 {\n",
       "            background-color:  #4a63d3;\n",
       "            color:  #f1f1f1;\n",
       "        }    #T_f7980276_0d10_11ea_bd8b_0028f8de9a49row11_col4 {\n",
       "            background-color:  #4257c9;\n",
       "            color:  #f1f1f1;\n",
       "        }    #T_f7980276_0d10_11ea_bd8b_0028f8de9a49row11_col5 {\n",
       "            background-color:  #3b4cc0;\n",
       "            color:  #f1f1f1;\n",
       "        }    #T_f7980276_0d10_11ea_bd8b_0028f8de9a49row11_col6 {\n",
       "            background-color:  #4a63d3;\n",
       "            color:  #f1f1f1;\n",
       "        }    #T_f7980276_0d10_11ea_bd8b_0028f8de9a49row11_col7 {\n",
       "            background-color:  #4e68d8;\n",
       "            color:  #000000;\n",
       "        }    #T_f7980276_0d10_11ea_bd8b_0028f8de9a49row11_col8 {\n",
       "            background-color:  #455cce;\n",
       "            color:  #f1f1f1;\n",
       "        }    #T_f7980276_0d10_11ea_bd8b_0028f8de9a49row11_col9 {\n",
       "            background-color:  #445acc;\n",
       "            color:  #f1f1f1;\n",
       "        }    #T_f7980276_0d10_11ea_bd8b_0028f8de9a49row11_col10 {\n",
       "            background-color:  #3e51c5;\n",
       "            color:  #f1f1f1;\n",
       "        }    #T_f7980276_0d10_11ea_bd8b_0028f8de9a49row11_col11 {\n",
       "            background-color:  #b40426;\n",
       "            color:  #f1f1f1;\n",
       "        }</style><table id=\"T_f7980276_0d10_11ea_bd8b_0028f8de9a49\" ><thead>    <tr>        <th class=\"blank level0\" ></th>        <th class=\"col_heading level0 col0\" >BILL_SEP</th>        <th class=\"col_heading level0 col1\" >BILL_AUG</th>        <th class=\"col_heading level0 col2\" >BILL_JUL</th>        <th class=\"col_heading level0 col3\" >BILL_JUN</th>        <th class=\"col_heading level0 col4\" >BILL_MAY</th>        <th class=\"col_heading level0 col5\" >BILL_APR</th>        <th class=\"col_heading level0 col6\" >PAY_SEP</th>        <th class=\"col_heading level0 col7\" >PAY_AUG</th>        <th class=\"col_heading level0 col8\" >PAY_JUL</th>        <th class=\"col_heading level0 col9\" >PAY_JUN</th>        <th class=\"col_heading level0 col10\" >PAY_MAY</th>        <th class=\"col_heading level0 col11\" >PAY_APR</th>    </tr></thead><tbody>\n",
       "                <tr>\n",
       "                        <th id=\"T_f7980276_0d10_11ea_bd8b_0028f8de9a49level0_row0\" class=\"row_heading level0 row0\" >BILL_SEP</th>\n",
       "                        <td id=\"T_f7980276_0d10_11ea_bd8b_0028f8de9a49row0_col0\" class=\"data row0 col0\" >1</td>\n",
       "                        <td id=\"T_f7980276_0d10_11ea_bd8b_0028f8de9a49row0_col1\" class=\"data row0 col1\" >0.951484</td>\n",
       "                        <td id=\"T_f7980276_0d10_11ea_bd8b_0028f8de9a49row0_col2\" class=\"data row0 col2\" >0.892279</td>\n",
       "                        <td id=\"T_f7980276_0d10_11ea_bd8b_0028f8de9a49row0_col3\" class=\"data row0 col3\" >0.860272</td>\n",
       "                        <td id=\"T_f7980276_0d10_11ea_bd8b_0028f8de9a49row0_col4\" class=\"data row0 col4\" >0.829779</td>\n",
       "                        <td id=\"T_f7980276_0d10_11ea_bd8b_0028f8de9a49row0_col5\" class=\"data row0 col5\" >0.80265</td>\n",
       "                        <td id=\"T_f7980276_0d10_11ea_bd8b_0028f8de9a49row0_col6\" class=\"data row0 col6\" >0.140277</td>\n",
       "                        <td id=\"T_f7980276_0d10_11ea_bd8b_0028f8de9a49row0_col7\" class=\"data row0 col7\" >0.099355</td>\n",
       "                        <td id=\"T_f7980276_0d10_11ea_bd8b_0028f8de9a49row0_col8\" class=\"data row0 col8\" >0.156887</td>\n",
       "                        <td id=\"T_f7980276_0d10_11ea_bd8b_0028f8de9a49row0_col9\" class=\"data row0 col9\" >0.158303</td>\n",
       "                        <td id=\"T_f7980276_0d10_11ea_bd8b_0028f8de9a49row0_col10\" class=\"data row0 col10\" >0.167026</td>\n",
       "                        <td id=\"T_f7980276_0d10_11ea_bd8b_0028f8de9a49row0_col11\" class=\"data row0 col11\" >0.179341</td>\n",
       "            </tr>\n",
       "            <tr>\n",
       "                        <th id=\"T_f7980276_0d10_11ea_bd8b_0028f8de9a49level0_row1\" class=\"row_heading level0 row1\" >BILL_AUG</th>\n",
       "                        <td id=\"T_f7980276_0d10_11ea_bd8b_0028f8de9a49row1_col0\" class=\"data row1 col0\" >0.951484</td>\n",
       "                        <td id=\"T_f7980276_0d10_11ea_bd8b_0028f8de9a49row1_col1\" class=\"data row1 col1\" >1</td>\n",
       "                        <td id=\"T_f7980276_0d10_11ea_bd8b_0028f8de9a49row1_col2\" class=\"data row1 col2\" >0.928326</td>\n",
       "                        <td id=\"T_f7980276_0d10_11ea_bd8b_0028f8de9a49row1_col3\" class=\"data row1 col3\" >0.892482</td>\n",
       "                        <td id=\"T_f7980276_0d10_11ea_bd8b_0028f8de9a49row1_col4\" class=\"data row1 col4\" >0.859778</td>\n",
       "                        <td id=\"T_f7980276_0d10_11ea_bd8b_0028f8de9a49row1_col5\" class=\"data row1 col5\" >0.831594</td>\n",
       "                        <td id=\"T_f7980276_0d10_11ea_bd8b_0028f8de9a49row1_col6\" class=\"data row1 col6\" >0.280365</td>\n",
       "                        <td id=\"T_f7980276_0d10_11ea_bd8b_0028f8de9a49row1_col7\" class=\"data row1 col7\" >0.100851</td>\n",
       "                        <td id=\"T_f7980276_0d10_11ea_bd8b_0028f8de9a49row1_col8\" class=\"data row1 col8\" >0.150718</td>\n",
       "                        <td id=\"T_f7980276_0d10_11ea_bd8b_0028f8de9a49row1_col9\" class=\"data row1 col9\" >0.147398</td>\n",
       "                        <td id=\"T_f7980276_0d10_11ea_bd8b_0028f8de9a49row1_col10\" class=\"data row1 col10\" >0.157957</td>\n",
       "                        <td id=\"T_f7980276_0d10_11ea_bd8b_0028f8de9a49row1_col11\" class=\"data row1 col11\" >0.174256</td>\n",
       "            </tr>\n",
       "            <tr>\n",
       "                        <th id=\"T_f7980276_0d10_11ea_bd8b_0028f8de9a49level0_row2\" class=\"row_heading level0 row2\" >BILL_JUL</th>\n",
       "                        <td id=\"T_f7980276_0d10_11ea_bd8b_0028f8de9a49row2_col0\" class=\"data row2 col0\" >0.892279</td>\n",
       "                        <td id=\"T_f7980276_0d10_11ea_bd8b_0028f8de9a49row2_col1\" class=\"data row2 col1\" >0.928326</td>\n",
       "                        <td id=\"T_f7980276_0d10_11ea_bd8b_0028f8de9a49row2_col2\" class=\"data row2 col2\" >1</td>\n",
       "                        <td id=\"T_f7980276_0d10_11ea_bd8b_0028f8de9a49row2_col3\" class=\"data row2 col3\" >0.923969</td>\n",
       "                        <td id=\"T_f7980276_0d10_11ea_bd8b_0028f8de9a49row2_col4\" class=\"data row2 col4\" >0.88391</td>\n",
       "                        <td id=\"T_f7980276_0d10_11ea_bd8b_0028f8de9a49row2_col5\" class=\"data row2 col5\" >0.85332</td>\n",
       "                        <td id=\"T_f7980276_0d10_11ea_bd8b_0028f8de9a49row2_col6\" class=\"data row2 col6\" >0.244335</td>\n",
       "                        <td id=\"T_f7980276_0d10_11ea_bd8b_0028f8de9a49row2_col7\" class=\"data row2 col7\" >0.316936</td>\n",
       "                        <td id=\"T_f7980276_0d10_11ea_bd8b_0028f8de9a49row2_col8\" class=\"data row2 col8\" >0.130011</td>\n",
       "                        <td id=\"T_f7980276_0d10_11ea_bd8b_0028f8de9a49row2_col9\" class=\"data row2 col9\" >0.143405</td>\n",
       "                        <td id=\"T_f7980276_0d10_11ea_bd8b_0028f8de9a49row2_col10\" class=\"data row2 col10\" >0.179712</td>\n",
       "                        <td id=\"T_f7980276_0d10_11ea_bd8b_0028f8de9a49row2_col11\" class=\"data row2 col11\" >0.182326</td>\n",
       "            </tr>\n",
       "            <tr>\n",
       "                        <th id=\"T_f7980276_0d10_11ea_bd8b_0028f8de9a49level0_row3\" class=\"row_heading level0 row3\" >BILL_JUN</th>\n",
       "                        <td id=\"T_f7980276_0d10_11ea_bd8b_0028f8de9a49row3_col0\" class=\"data row3 col0\" >0.860272</td>\n",
       "                        <td id=\"T_f7980276_0d10_11ea_bd8b_0028f8de9a49row3_col1\" class=\"data row3 col1\" >0.892482</td>\n",
       "                        <td id=\"T_f7980276_0d10_11ea_bd8b_0028f8de9a49row3_col2\" class=\"data row3 col2\" >0.923969</td>\n",
       "                        <td id=\"T_f7980276_0d10_11ea_bd8b_0028f8de9a49row3_col3\" class=\"data row3 col3\" >1</td>\n",
       "                        <td id=\"T_f7980276_0d10_11ea_bd8b_0028f8de9a49row3_col4\" class=\"data row3 col4\" >0.940134</td>\n",
       "                        <td id=\"T_f7980276_0d10_11ea_bd8b_0028f8de9a49row3_col5\" class=\"data row3 col5\" >0.900941</td>\n",
       "                        <td id=\"T_f7980276_0d10_11ea_bd8b_0028f8de9a49row3_col6\" class=\"data row3 col6\" >0.233012</td>\n",
       "                        <td id=\"T_f7980276_0d10_11ea_bd8b_0028f8de9a49row3_col7\" class=\"data row3 col7\" >0.207564</td>\n",
       "                        <td id=\"T_f7980276_0d10_11ea_bd8b_0028f8de9a49row3_col8\" class=\"data row3 col8\" >0.300023</td>\n",
       "                        <td id=\"T_f7980276_0d10_11ea_bd8b_0028f8de9a49row3_col9\" class=\"data row3 col9\" >0.130191</td>\n",
       "                        <td id=\"T_f7980276_0d10_11ea_bd8b_0028f8de9a49row3_col10\" class=\"data row3 col10\" >0.160433</td>\n",
       "                        <td id=\"T_f7980276_0d10_11ea_bd8b_0028f8de9a49row3_col11\" class=\"data row3 col11\" >0.177637</td>\n",
       "            </tr>\n",
       "            <tr>\n",
       "                        <th id=\"T_f7980276_0d10_11ea_bd8b_0028f8de9a49level0_row4\" class=\"row_heading level0 row4\" >BILL_MAY</th>\n",
       "                        <td id=\"T_f7980276_0d10_11ea_bd8b_0028f8de9a49row4_col0\" class=\"data row4 col0\" >0.829779</td>\n",
       "                        <td id=\"T_f7980276_0d10_11ea_bd8b_0028f8de9a49row4_col1\" class=\"data row4 col1\" >0.859778</td>\n",
       "                        <td id=\"T_f7980276_0d10_11ea_bd8b_0028f8de9a49row4_col2\" class=\"data row4 col2\" >0.88391</td>\n",
       "                        <td id=\"T_f7980276_0d10_11ea_bd8b_0028f8de9a49row4_col3\" class=\"data row4 col3\" >0.940134</td>\n",
       "                        <td id=\"T_f7980276_0d10_11ea_bd8b_0028f8de9a49row4_col4\" class=\"data row4 col4\" >1</td>\n",
       "                        <td id=\"T_f7980276_0d10_11ea_bd8b_0028f8de9a49row4_col5\" class=\"data row4 col5\" >0.946197</td>\n",
       "                        <td id=\"T_f7980276_0d10_11ea_bd8b_0028f8de9a49row4_col6\" class=\"data row4 col6\" >0.217031</td>\n",
       "                        <td id=\"T_f7980276_0d10_11ea_bd8b_0028f8de9a49row4_col7\" class=\"data row4 col7\" >0.181246</td>\n",
       "                        <td id=\"T_f7980276_0d10_11ea_bd8b_0028f8de9a49row4_col8\" class=\"data row4 col8\" >0.252305</td>\n",
       "                        <td id=\"T_f7980276_0d10_11ea_bd8b_0028f8de9a49row4_col9\" class=\"data row4 col9\" >0.293118</td>\n",
       "                        <td id=\"T_f7980276_0d10_11ea_bd8b_0028f8de9a49row4_col10\" class=\"data row4 col10\" >0.141574</td>\n",
       "                        <td id=\"T_f7980276_0d10_11ea_bd8b_0028f8de9a49row4_col11\" class=\"data row4 col11\" >0.164184</td>\n",
       "            </tr>\n",
       "            <tr>\n",
       "                        <th id=\"T_f7980276_0d10_11ea_bd8b_0028f8de9a49level0_row5\" class=\"row_heading level0 row5\" >BILL_APR</th>\n",
       "                        <td id=\"T_f7980276_0d10_11ea_bd8b_0028f8de9a49row5_col0\" class=\"data row5 col0\" >0.80265</td>\n",
       "                        <td id=\"T_f7980276_0d10_11ea_bd8b_0028f8de9a49row5_col1\" class=\"data row5 col1\" >0.831594</td>\n",
       "                        <td id=\"T_f7980276_0d10_11ea_bd8b_0028f8de9a49row5_col2\" class=\"data row5 col2\" >0.85332</td>\n",
       "                        <td id=\"T_f7980276_0d10_11ea_bd8b_0028f8de9a49row5_col3\" class=\"data row5 col3\" >0.900941</td>\n",
       "                        <td id=\"T_f7980276_0d10_11ea_bd8b_0028f8de9a49row5_col4\" class=\"data row5 col4\" >0.946197</td>\n",
       "                        <td id=\"T_f7980276_0d10_11ea_bd8b_0028f8de9a49row5_col5\" class=\"data row5 col5\" >1</td>\n",
       "                        <td id=\"T_f7980276_0d10_11ea_bd8b_0028f8de9a49row5_col6\" class=\"data row5 col6\" >0.199965</td>\n",
       "                        <td id=\"T_f7980276_0d10_11ea_bd8b_0028f8de9a49row5_col7\" class=\"data row5 col7\" >0.172663</td>\n",
       "                        <td id=\"T_f7980276_0d10_11ea_bd8b_0028f8de9a49row5_col8\" class=\"data row5 col8\" >0.23377</td>\n",
       "                        <td id=\"T_f7980276_0d10_11ea_bd8b_0028f8de9a49row5_col9\" class=\"data row5 col9\" >0.250237</td>\n",
       "                        <td id=\"T_f7980276_0d10_11ea_bd8b_0028f8de9a49row5_col10\" class=\"data row5 col10\" >0.307729</td>\n",
       "                        <td id=\"T_f7980276_0d10_11ea_bd8b_0028f8de9a49row5_col11\" class=\"data row5 col11\" >0.115494</td>\n",
       "            </tr>\n",
       "            <tr>\n",
       "                        <th id=\"T_f7980276_0d10_11ea_bd8b_0028f8de9a49level0_row6\" class=\"row_heading level0 row6\" >PAY_SEP</th>\n",
       "                        <td id=\"T_f7980276_0d10_11ea_bd8b_0028f8de9a49row6_col0\" class=\"data row6 col0\" >0.140277</td>\n",
       "                        <td id=\"T_f7980276_0d10_11ea_bd8b_0028f8de9a49row6_col1\" class=\"data row6 col1\" >0.280365</td>\n",
       "                        <td id=\"T_f7980276_0d10_11ea_bd8b_0028f8de9a49row6_col2\" class=\"data row6 col2\" >0.244335</td>\n",
       "                        <td id=\"T_f7980276_0d10_11ea_bd8b_0028f8de9a49row6_col3\" class=\"data row6 col3\" >0.233012</td>\n",
       "                        <td id=\"T_f7980276_0d10_11ea_bd8b_0028f8de9a49row6_col4\" class=\"data row6 col4\" >0.217031</td>\n",
       "                        <td id=\"T_f7980276_0d10_11ea_bd8b_0028f8de9a49row6_col5\" class=\"data row6 col5\" >0.199965</td>\n",
       "                        <td id=\"T_f7980276_0d10_11ea_bd8b_0028f8de9a49row6_col6\" class=\"data row6 col6\" >1</td>\n",
       "                        <td id=\"T_f7980276_0d10_11ea_bd8b_0028f8de9a49row6_col7\" class=\"data row6 col7\" >0.285576</td>\n",
       "                        <td id=\"T_f7980276_0d10_11ea_bd8b_0028f8de9a49row6_col8\" class=\"data row6 col8\" >0.252191</td>\n",
       "                        <td id=\"T_f7980276_0d10_11ea_bd8b_0028f8de9a49row6_col9\" class=\"data row6 col9\" >0.199558</td>\n",
       "                        <td id=\"T_f7980276_0d10_11ea_bd8b_0028f8de9a49row6_col10\" class=\"data row6 col10\" >0.148459</td>\n",
       "                        <td id=\"T_f7980276_0d10_11ea_bd8b_0028f8de9a49row6_col11\" class=\"data row6 col11\" >0.185735</td>\n",
       "            </tr>\n",
       "            <tr>\n",
       "                        <th id=\"T_f7980276_0d10_11ea_bd8b_0028f8de9a49level0_row7\" class=\"row_heading level0 row7\" >PAY_AUG</th>\n",
       "                        <td id=\"T_f7980276_0d10_11ea_bd8b_0028f8de9a49row7_col0\" class=\"data row7 col0\" >0.099355</td>\n",
       "                        <td id=\"T_f7980276_0d10_11ea_bd8b_0028f8de9a49row7_col1\" class=\"data row7 col1\" >0.100851</td>\n",
       "                        <td id=\"T_f7980276_0d10_11ea_bd8b_0028f8de9a49row7_col2\" class=\"data row7 col2\" >0.316936</td>\n",
       "                        <td id=\"T_f7980276_0d10_11ea_bd8b_0028f8de9a49row7_col3\" class=\"data row7 col3\" >0.207564</td>\n",
       "                        <td id=\"T_f7980276_0d10_11ea_bd8b_0028f8de9a49row7_col4\" class=\"data row7 col4\" >0.181246</td>\n",
       "                        <td id=\"T_f7980276_0d10_11ea_bd8b_0028f8de9a49row7_col5\" class=\"data row7 col5\" >0.172663</td>\n",
       "                        <td id=\"T_f7980276_0d10_11ea_bd8b_0028f8de9a49row7_col6\" class=\"data row7 col6\" >0.285576</td>\n",
       "                        <td id=\"T_f7980276_0d10_11ea_bd8b_0028f8de9a49row7_col7\" class=\"data row7 col7\" >1</td>\n",
       "                        <td id=\"T_f7980276_0d10_11ea_bd8b_0028f8de9a49row7_col8\" class=\"data row7 col8\" >0.24477</td>\n",
       "                        <td id=\"T_f7980276_0d10_11ea_bd8b_0028f8de9a49row7_col9\" class=\"data row7 col9\" >0.180107</td>\n",
       "                        <td id=\"T_f7980276_0d10_11ea_bd8b_0028f8de9a49row7_col10\" class=\"data row7 col10\" >0.180908</td>\n",
       "                        <td id=\"T_f7980276_0d10_11ea_bd8b_0028f8de9a49row7_col11\" class=\"data row7 col11\" >0.157634</td>\n",
       "            </tr>\n",
       "            <tr>\n",
       "                        <th id=\"T_f7980276_0d10_11ea_bd8b_0028f8de9a49level0_row8\" class=\"row_heading level0 row8\" >PAY_JUL</th>\n",
       "                        <td id=\"T_f7980276_0d10_11ea_bd8b_0028f8de9a49row8_col0\" class=\"data row8 col0\" >0.156887</td>\n",
       "                        <td id=\"T_f7980276_0d10_11ea_bd8b_0028f8de9a49row8_col1\" class=\"data row8 col1\" >0.150718</td>\n",
       "                        <td id=\"T_f7980276_0d10_11ea_bd8b_0028f8de9a49row8_col2\" class=\"data row8 col2\" >0.130011</td>\n",
       "                        <td id=\"T_f7980276_0d10_11ea_bd8b_0028f8de9a49row8_col3\" class=\"data row8 col3\" >0.300023</td>\n",
       "                        <td id=\"T_f7980276_0d10_11ea_bd8b_0028f8de9a49row8_col4\" class=\"data row8 col4\" >0.252305</td>\n",
       "                        <td id=\"T_f7980276_0d10_11ea_bd8b_0028f8de9a49row8_col5\" class=\"data row8 col5\" >0.23377</td>\n",
       "                        <td id=\"T_f7980276_0d10_11ea_bd8b_0028f8de9a49row8_col6\" class=\"data row8 col6\" >0.252191</td>\n",
       "                        <td id=\"T_f7980276_0d10_11ea_bd8b_0028f8de9a49row8_col7\" class=\"data row8 col7\" >0.24477</td>\n",
       "                        <td id=\"T_f7980276_0d10_11ea_bd8b_0028f8de9a49row8_col8\" class=\"data row8 col8\" >1</td>\n",
       "                        <td id=\"T_f7980276_0d10_11ea_bd8b_0028f8de9a49row8_col9\" class=\"data row8 col9\" >0.216325</td>\n",
       "                        <td id=\"T_f7980276_0d10_11ea_bd8b_0028f8de9a49row8_col10\" class=\"data row8 col10\" >0.159214</td>\n",
       "                        <td id=\"T_f7980276_0d10_11ea_bd8b_0028f8de9a49row8_col11\" class=\"data row8 col11\" >0.16274</td>\n",
       "            </tr>\n",
       "            <tr>\n",
       "                        <th id=\"T_f7980276_0d10_11ea_bd8b_0028f8de9a49level0_row9\" class=\"row_heading level0 row9\" >PAY_JUN</th>\n",
       "                        <td id=\"T_f7980276_0d10_11ea_bd8b_0028f8de9a49row9_col0\" class=\"data row9 col0\" >0.158303</td>\n",
       "                        <td id=\"T_f7980276_0d10_11ea_bd8b_0028f8de9a49row9_col1\" class=\"data row9 col1\" >0.147398</td>\n",
       "                        <td id=\"T_f7980276_0d10_11ea_bd8b_0028f8de9a49row9_col2\" class=\"data row9 col2\" >0.143405</td>\n",
       "                        <td id=\"T_f7980276_0d10_11ea_bd8b_0028f8de9a49row9_col3\" class=\"data row9 col3\" >0.130191</td>\n",
       "                        <td id=\"T_f7980276_0d10_11ea_bd8b_0028f8de9a49row9_col4\" class=\"data row9 col4\" >0.293118</td>\n",
       "                        <td id=\"T_f7980276_0d10_11ea_bd8b_0028f8de9a49row9_col5\" class=\"data row9 col5\" >0.250237</td>\n",
       "                        <td id=\"T_f7980276_0d10_11ea_bd8b_0028f8de9a49row9_col6\" class=\"data row9 col6\" >0.199558</td>\n",
       "                        <td id=\"T_f7980276_0d10_11ea_bd8b_0028f8de9a49row9_col7\" class=\"data row9 col7\" >0.180107</td>\n",
       "                        <td id=\"T_f7980276_0d10_11ea_bd8b_0028f8de9a49row9_col8\" class=\"data row9 col8\" >0.216325</td>\n",
       "                        <td id=\"T_f7980276_0d10_11ea_bd8b_0028f8de9a49row9_col9\" class=\"data row9 col9\" >1</td>\n",
       "                        <td id=\"T_f7980276_0d10_11ea_bd8b_0028f8de9a49row9_col10\" class=\"data row9 col10\" >0.15183</td>\n",
       "                        <td id=\"T_f7980276_0d10_11ea_bd8b_0028f8de9a49row9_col11\" class=\"data row9 col11\" >0.157834</td>\n",
       "            </tr>\n",
       "            <tr>\n",
       "                        <th id=\"T_f7980276_0d10_11ea_bd8b_0028f8de9a49level0_row10\" class=\"row_heading level0 row10\" >PAY_MAY</th>\n",
       "                        <td id=\"T_f7980276_0d10_11ea_bd8b_0028f8de9a49row10_col0\" class=\"data row10 col0\" >0.167026</td>\n",
       "                        <td id=\"T_f7980276_0d10_11ea_bd8b_0028f8de9a49row10_col1\" class=\"data row10 col1\" >0.157957</td>\n",
       "                        <td id=\"T_f7980276_0d10_11ea_bd8b_0028f8de9a49row10_col2\" class=\"data row10 col2\" >0.179712</td>\n",
       "                        <td id=\"T_f7980276_0d10_11ea_bd8b_0028f8de9a49row10_col3\" class=\"data row10 col3\" >0.160433</td>\n",
       "                        <td id=\"T_f7980276_0d10_11ea_bd8b_0028f8de9a49row10_col4\" class=\"data row10 col4\" >0.141574</td>\n",
       "                        <td id=\"T_f7980276_0d10_11ea_bd8b_0028f8de9a49row10_col5\" class=\"data row10 col5\" >0.307729</td>\n",
       "                        <td id=\"T_f7980276_0d10_11ea_bd8b_0028f8de9a49row10_col6\" class=\"data row10 col6\" >0.148459</td>\n",
       "                        <td id=\"T_f7980276_0d10_11ea_bd8b_0028f8de9a49row10_col7\" class=\"data row10 col7\" >0.180908</td>\n",
       "                        <td id=\"T_f7980276_0d10_11ea_bd8b_0028f8de9a49row10_col8\" class=\"data row10 col8\" >0.159214</td>\n",
       "                        <td id=\"T_f7980276_0d10_11ea_bd8b_0028f8de9a49row10_col9\" class=\"data row10 col9\" >0.15183</td>\n",
       "                        <td id=\"T_f7980276_0d10_11ea_bd8b_0028f8de9a49row10_col10\" class=\"data row10 col10\" >1</td>\n",
       "                        <td id=\"T_f7980276_0d10_11ea_bd8b_0028f8de9a49row10_col11\" class=\"data row10 col11\" >0.154896</td>\n",
       "            </tr>\n",
       "            <tr>\n",
       "                        <th id=\"T_f7980276_0d10_11ea_bd8b_0028f8de9a49level0_row11\" class=\"row_heading level0 row11\" >PAY_APR</th>\n",
       "                        <td id=\"T_f7980276_0d10_11ea_bd8b_0028f8de9a49row11_col0\" class=\"data row11 col0\" >0.179341</td>\n",
       "                        <td id=\"T_f7980276_0d10_11ea_bd8b_0028f8de9a49row11_col1\" class=\"data row11 col1\" >0.174256</td>\n",
       "                        <td id=\"T_f7980276_0d10_11ea_bd8b_0028f8de9a49row11_col2\" class=\"data row11 col2\" >0.182326</td>\n",
       "                        <td id=\"T_f7980276_0d10_11ea_bd8b_0028f8de9a49row11_col3\" class=\"data row11 col3\" >0.177637</td>\n",
       "                        <td id=\"T_f7980276_0d10_11ea_bd8b_0028f8de9a49row11_col4\" class=\"data row11 col4\" >0.164184</td>\n",
       "                        <td id=\"T_f7980276_0d10_11ea_bd8b_0028f8de9a49row11_col5\" class=\"data row11 col5\" >0.115494</td>\n",
       "                        <td id=\"T_f7980276_0d10_11ea_bd8b_0028f8de9a49row11_col6\" class=\"data row11 col6\" >0.185735</td>\n",
       "                        <td id=\"T_f7980276_0d10_11ea_bd8b_0028f8de9a49row11_col7\" class=\"data row11 col7\" >0.157634</td>\n",
       "                        <td id=\"T_f7980276_0d10_11ea_bd8b_0028f8de9a49row11_col8\" class=\"data row11 col8\" >0.16274</td>\n",
       "                        <td id=\"T_f7980276_0d10_11ea_bd8b_0028f8de9a49row11_col9\" class=\"data row11 col9\" >0.157834</td>\n",
       "                        <td id=\"T_f7980276_0d10_11ea_bd8b_0028f8de9a49row11_col10\" class=\"data row11 col10\" >0.154896</td>\n",
       "                        <td id=\"T_f7980276_0d10_11ea_bd8b_0028f8de9a49row11_col11\" class=\"data row11 col11\" >1</td>\n",
       "            </tr>\n",
       "    </tbody></table>"
      ],
      "text/plain": [
       "<pandas.io.formats.style.Styler at 0x2ae21acb808>"
      ]
     },
     "execution_count": 52,
     "metadata": {},
     "output_type": "execute_result"
    }
   ],
   "source": [
    "corr = data[data.columns[10:22]].corr()\n",
    "corr.style.background_gradient(cmap = 'coolwarm')"
   ]
  },
  {
   "cell_type": "code",
   "execution_count": 53,
   "metadata": {},
   "outputs": [
    {
     "name": "stdout",
     "output_type": "stream",
     "text": [
      "Correlation for BILL_SEP,BILL_AUG \n",
      "0.9514836727518374\n",
      "\n",
      "Correlation for BILL_AUG,BILL_JUL \n",
      "0.9283262592714886\n",
      "\n",
      "Correlation for BILL_JUL,BILL_JUN \n",
      "0.9239694565909764\n",
      "\n",
      "Correlation for BILL_JUN,BILL_MAY \n",
      "0.9401344040880266\n",
      "\n",
      "Correlation for BILL_JUN,BILL_APR \n",
      "0.9009409547979025\n",
      "\n",
      "Correlation for BILL_MAY,BILL_APR \n",
      "0.9461968070522464\n",
      "\n"
     ]
    }
   ],
   "source": [
    "corr = data[data.columns[10:16]].corr()\n",
    "columns = np.full((corr.shape[0],), True, dtype=bool)\n",
    "for i in range(6):\n",
    "    for j in range(i+1,6):\n",
    "        feature1 = corr.columns[i]\n",
    "        feature2 = corr.columns[j]\n",
    "        if (corr.iloc[i,j]) > 0.9 and corr.iloc[i,j] != 1: \n",
    "            print(\"Correlation for \" + str(feature1) + \",\" + str(feature2) + \" \" + \"\\n\" + str(corr.iloc[i,j]) +\"\\n\")"
   ]
  },
  {
   "cell_type": "markdown",
   "metadata": {},
   "source": [
    "**Therefore, we will only keep BILL_SEP as it has the least number of occurances in the number of pairings that have correlation of > 0.9.**"
   ]
  },
  {
   "cell_type": "code",
   "execution_count": 54,
   "metadata": {},
   "outputs": [],
   "source": [
    "#Dropping all BILLs except BILL_SEP\n",
    "data.drop(columns = ['BILL_JUL','BILL_JUN', 'BILL_AUG', 'BILL_MAY', 'BILL_APR'], inplace = True)"
   ]
  },
  {
   "cell_type": "markdown",
   "metadata": {},
   "source": [
    "## 7) DATA ENCODING\n",
    "We will only encode SEX because it is nominal categorical data"
   ]
  },
  {
   "cell_type": "code",
   "execution_count": 55,
   "metadata": {},
   "outputs": [
    {
     "data": {
      "text/html": [
       "<div>\n",
       "<style scoped>\n",
       "    .dataframe tbody tr th:only-of-type {\n",
       "        vertical-align: middle;\n",
       "    }\n",
       "\n",
       "    .dataframe tbody tr th {\n",
       "        vertical-align: top;\n",
       "    }\n",
       "\n",
       "    .dataframe thead th {\n",
       "        text-align: right;\n",
       "    }\n",
       "</style>\n",
       "<table border=\"1\" class=\"dataframe\">\n",
       "  <thead>\n",
       "    <tr style=\"text-align: right;\">\n",
       "      <th></th>\n",
       "      <th>LIMIT_BAL</th>\n",
       "      <th>EDUCATION</th>\n",
       "      <th>AGE</th>\n",
       "      <th>STATUS_SEP</th>\n",
       "      <th>STATUS_AUG</th>\n",
       "      <th>STATUS_JUL</th>\n",
       "      <th>STATUS_JUN</th>\n",
       "      <th>STATUS_MAY</th>\n",
       "      <th>STATUS_APR</th>\n",
       "      <th>BILL_SEP</th>\n",
       "      <th>PAY_SEP</th>\n",
       "      <th>PAY_AUG</th>\n",
       "      <th>PAY_JUL</th>\n",
       "      <th>PAY_JUN</th>\n",
       "      <th>PAY_MAY</th>\n",
       "      <th>PAY_APR</th>\n",
       "      <th>SEX_FEMALE</th>\n",
       "      <th>SEX_MALE</th>\n",
       "      <th>default</th>\n",
       "    </tr>\n",
       "    <tr>\n",
       "      <th>ID</th>\n",
       "      <th></th>\n",
       "      <th></th>\n",
       "      <th></th>\n",
       "      <th></th>\n",
       "      <th></th>\n",
       "      <th></th>\n",
       "      <th></th>\n",
       "      <th></th>\n",
       "      <th></th>\n",
       "      <th></th>\n",
       "      <th></th>\n",
       "      <th></th>\n",
       "      <th></th>\n",
       "      <th></th>\n",
       "      <th></th>\n",
       "      <th></th>\n",
       "      <th></th>\n",
       "      <th></th>\n",
       "      <th></th>\n",
       "    </tr>\n",
       "  </thead>\n",
       "  <tbody>\n",
       "    <tr>\n",
       "      <td>1</td>\n",
       "      <td>20000</td>\n",
       "      <td>3</td>\n",
       "      <td>24</td>\n",
       "      <td>2</td>\n",
       "      <td>2</td>\n",
       "      <td>0</td>\n",
       "      <td>0</td>\n",
       "      <td>0</td>\n",
       "      <td>0</td>\n",
       "      <td>3913</td>\n",
       "      <td>0</td>\n",
       "      <td>689</td>\n",
       "      <td>0</td>\n",
       "      <td>0</td>\n",
       "      <td>0</td>\n",
       "      <td>0</td>\n",
       "      <td>1</td>\n",
       "      <td>0</td>\n",
       "      <td>1</td>\n",
       "    </tr>\n",
       "    <tr>\n",
       "      <td>2</td>\n",
       "      <td>120000</td>\n",
       "      <td>3</td>\n",
       "      <td>26</td>\n",
       "      <td>0</td>\n",
       "      <td>2</td>\n",
       "      <td>0</td>\n",
       "      <td>0</td>\n",
       "      <td>0</td>\n",
       "      <td>2</td>\n",
       "      <td>2682</td>\n",
       "      <td>0</td>\n",
       "      <td>1000</td>\n",
       "      <td>1000</td>\n",
       "      <td>1000</td>\n",
       "      <td>0</td>\n",
       "      <td>2000</td>\n",
       "      <td>1</td>\n",
       "      <td>0</td>\n",
       "      <td>1</td>\n",
       "    </tr>\n",
       "    <tr>\n",
       "      <td>3</td>\n",
       "      <td>90000</td>\n",
       "      <td>3</td>\n",
       "      <td>34</td>\n",
       "      <td>0</td>\n",
       "      <td>0</td>\n",
       "      <td>0</td>\n",
       "      <td>0</td>\n",
       "      <td>0</td>\n",
       "      <td>0</td>\n",
       "      <td>29239</td>\n",
       "      <td>1518</td>\n",
       "      <td>1500</td>\n",
       "      <td>1000</td>\n",
       "      <td>1000</td>\n",
       "      <td>1000</td>\n",
       "      <td>5000</td>\n",
       "      <td>1</td>\n",
       "      <td>0</td>\n",
       "      <td>0</td>\n",
       "    </tr>\n",
       "    <tr>\n",
       "      <td>4</td>\n",
       "      <td>50000</td>\n",
       "      <td>3</td>\n",
       "      <td>37</td>\n",
       "      <td>0</td>\n",
       "      <td>0</td>\n",
       "      <td>0</td>\n",
       "      <td>0</td>\n",
       "      <td>0</td>\n",
       "      <td>0</td>\n",
       "      <td>46990</td>\n",
       "      <td>2000</td>\n",
       "      <td>2019</td>\n",
       "      <td>1200</td>\n",
       "      <td>1100</td>\n",
       "      <td>1069</td>\n",
       "      <td>1000</td>\n",
       "      <td>1</td>\n",
       "      <td>0</td>\n",
       "      <td>0</td>\n",
       "    </tr>\n",
       "    <tr>\n",
       "      <td>5</td>\n",
       "      <td>50000</td>\n",
       "      <td>3</td>\n",
       "      <td>57</td>\n",
       "      <td>0</td>\n",
       "      <td>0</td>\n",
       "      <td>0</td>\n",
       "      <td>0</td>\n",
       "      <td>0</td>\n",
       "      <td>0</td>\n",
       "      <td>8617</td>\n",
       "      <td>2000</td>\n",
       "      <td>36681</td>\n",
       "      <td>10000</td>\n",
       "      <td>9000</td>\n",
       "      <td>689</td>\n",
       "      <td>679</td>\n",
       "      <td>0</td>\n",
       "      <td>1</td>\n",
       "      <td>0</td>\n",
       "    </tr>\n",
       "  </tbody>\n",
       "</table>\n",
       "</div>"
      ],
      "text/plain": [
       "    LIMIT_BAL  EDUCATION  AGE  STATUS_SEP  STATUS_AUG  STATUS_JUL  STATUS_JUN  \\\n",
       "ID                                                                              \n",
       "1       20000          3   24           2           2           0           0   \n",
       "2      120000          3   26           0           2           0           0   \n",
       "3       90000          3   34           0           0           0           0   \n",
       "4       50000          3   37           0           0           0           0   \n",
       "5       50000          3   57           0           0           0           0   \n",
       "\n",
       "    STATUS_MAY  STATUS_APR  BILL_SEP  PAY_SEP  PAY_AUG  PAY_JUL  PAY_JUN  \\\n",
       "ID                                                                         \n",
       "1            0           0      3913        0      689        0        0   \n",
       "2            0           2      2682        0     1000     1000     1000   \n",
       "3            0           0     29239     1518     1500     1000     1000   \n",
       "4            0           0     46990     2000     2019     1200     1100   \n",
       "5            0           0      8617     2000    36681    10000     9000   \n",
       "\n",
       "    PAY_MAY  PAY_APR  SEX_FEMALE  SEX_MALE  default  \n",
       "ID                                                   \n",
       "1         0        0           1         0        1  \n",
       "2         0     2000           1         0        1  \n",
       "3      1000     5000           1         0        0  \n",
       "4      1069     1000           1         0        0  \n",
       "5       689      679           0         1        0  "
      ]
     },
     "execution_count": 55,
     "metadata": {},
     "output_type": "execute_result"
    }
   ],
   "source": [
    "data['SEX'].replace(1,'MALE', inplace=True)\n",
    "data['SEX'].replace(2,'FEMALE', inplace=True)\n",
    "dummies = pd.get_dummies(data=data, columns=['SEX'])\n",
    "data = dummies\n",
    "cols_at_end = ['default']\n",
    "data = data[[c for c in data if c not in cols_at_end] + [c for c in cols_at_end if c in data]]\n",
    "data.head()"
   ]
  },
  {
   "cell_type": "markdown",
   "metadata": {},
   "source": [
    "## 8) FEATURE SCALING OF CONTINUOUS DATA\n",
    "This will help to limit the range and standerdise the variables so that they can all be compared on common grounds. If they do not have the same scale, it will cause problems to the machine learning that we will be applying later on(as most machine learning models is based on euclidean distance). This algorithm will also converge faster."
   ]
  },
  {
   "cell_type": "code",
   "execution_count": 56,
   "metadata": {},
   "outputs": [],
   "source": [
    "data['LIMIT_BAL'] = StandardScaler().fit_transform(data['LIMIT_BAL'].values.reshape(-1,1))\n",
    "data['AGE'] = StandardScaler().fit_transform(data['AGE'].values.reshape(-1,1))\n",
    "data['BILL_SEP'] = StandardScaler().fit_transform(data['BILL_SEP'].values.reshape(-1,1))\n",
    "data['PAY_SEP'] = StandardScaler().fit_transform(data['PAY_SEP'].values.reshape(-1,1))\n",
    "data['PAY_AUG'] = StandardScaler().fit_transform(data['PAY_AUG'].values.reshape(-1,1))\n",
    "data['PAY_JUL'] = StandardScaler().fit_transform(data['PAY_JUL'].values.reshape(-1,1))\n",
    "data['PAY_JUN'] = StandardScaler().fit_transform(data['PAY_JUN'].values.reshape(-1,1))\n",
    "data['PAY_MAY'] = StandardScaler().fit_transform(data['PAY_MAY'].values.reshape(-1,1))\n",
    "data['PAY_APR'] = StandardScaler().fit_transform(data['PAY_APR'].values.reshape(-1,1))"
   ]
  },
  {
   "cell_type": "code",
   "execution_count": 57,
   "metadata": {},
   "outputs": [
    {
     "data": {
      "text/html": [
       "<div>\n",
       "<style scoped>\n",
       "    .dataframe tbody tr th:only-of-type {\n",
       "        vertical-align: middle;\n",
       "    }\n",
       "\n",
       "    .dataframe tbody tr th {\n",
       "        vertical-align: top;\n",
       "    }\n",
       "\n",
       "    .dataframe thead th {\n",
       "        text-align: right;\n",
       "    }\n",
       "</style>\n",
       "<table border=\"1\" class=\"dataframe\">\n",
       "  <thead>\n",
       "    <tr style=\"text-align: right;\">\n",
       "      <th></th>\n",
       "      <th>LIMIT_BAL</th>\n",
       "      <th>EDUCATION</th>\n",
       "      <th>AGE</th>\n",
       "      <th>STATUS_SEP</th>\n",
       "      <th>STATUS_AUG</th>\n",
       "      <th>STATUS_JUL</th>\n",
       "      <th>STATUS_JUN</th>\n",
       "      <th>STATUS_MAY</th>\n",
       "      <th>STATUS_APR</th>\n",
       "      <th>BILL_SEP</th>\n",
       "      <th>PAY_SEP</th>\n",
       "      <th>PAY_AUG</th>\n",
       "      <th>PAY_JUL</th>\n",
       "      <th>PAY_JUN</th>\n",
       "      <th>PAY_MAY</th>\n",
       "      <th>PAY_APR</th>\n",
       "      <th>SEX_FEMALE</th>\n",
       "      <th>SEX_MALE</th>\n",
       "      <th>default</th>\n",
       "    </tr>\n",
       "    <tr>\n",
       "      <th>ID</th>\n",
       "      <th></th>\n",
       "      <th></th>\n",
       "      <th></th>\n",
       "      <th></th>\n",
       "      <th></th>\n",
       "      <th></th>\n",
       "      <th></th>\n",
       "      <th></th>\n",
       "      <th></th>\n",
       "      <th></th>\n",
       "      <th></th>\n",
       "      <th></th>\n",
       "      <th></th>\n",
       "      <th></th>\n",
       "      <th></th>\n",
       "      <th></th>\n",
       "      <th></th>\n",
       "      <th></th>\n",
       "      <th></th>\n",
       "    </tr>\n",
       "  </thead>\n",
       "  <tbody>\n",
       "    <tr>\n",
       "      <td>1</td>\n",
       "      <td>-1.136720</td>\n",
       "      <td>3</td>\n",
       "      <td>-1.246020</td>\n",
       "      <td>2</td>\n",
       "      <td>2</td>\n",
       "      <td>0</td>\n",
       "      <td>0</td>\n",
       "      <td>0</td>\n",
       "      <td>0</td>\n",
       "      <td>-0.642501</td>\n",
       "      <td>-0.341942</td>\n",
       "      <td>-0.227086</td>\n",
       "      <td>-0.296801</td>\n",
       "      <td>-0.308063</td>\n",
       "      <td>-0.314136</td>\n",
       "      <td>-0.293382</td>\n",
       "      <td>1</td>\n",
       "      <td>0</td>\n",
       "      <td>1</td>\n",
       "    </tr>\n",
       "    <tr>\n",
       "      <td>2</td>\n",
       "      <td>-0.365981</td>\n",
       "      <td>3</td>\n",
       "      <td>-1.029047</td>\n",
       "      <td>0</td>\n",
       "      <td>2</td>\n",
       "      <td>0</td>\n",
       "      <td>0</td>\n",
       "      <td>0</td>\n",
       "      <td>2</td>\n",
       "      <td>-0.659219</td>\n",
       "      <td>-0.341942</td>\n",
       "      <td>-0.213588</td>\n",
       "      <td>-0.240005</td>\n",
       "      <td>-0.244230</td>\n",
       "      <td>-0.314136</td>\n",
       "      <td>-0.180878</td>\n",
       "      <td>1</td>\n",
       "      <td>0</td>\n",
       "      <td>1</td>\n",
       "    </tr>\n",
       "    <tr>\n",
       "      <td>3</td>\n",
       "      <td>-0.597202</td>\n",
       "      <td>3</td>\n",
       "      <td>-0.161156</td>\n",
       "      <td>0</td>\n",
       "      <td>0</td>\n",
       "      <td>0</td>\n",
       "      <td>0</td>\n",
       "      <td>0</td>\n",
       "      <td>0</td>\n",
       "      <td>-0.298560</td>\n",
       "      <td>-0.250292</td>\n",
       "      <td>-0.191887</td>\n",
       "      <td>-0.240005</td>\n",
       "      <td>-0.244230</td>\n",
       "      <td>-0.248683</td>\n",
       "      <td>-0.012122</td>\n",
       "      <td>1</td>\n",
       "      <td>0</td>\n",
       "      <td>0</td>\n",
       "    </tr>\n",
       "    <tr>\n",
       "      <td>4</td>\n",
       "      <td>-0.905498</td>\n",
       "      <td>3</td>\n",
       "      <td>0.164303</td>\n",
       "      <td>0</td>\n",
       "      <td>0</td>\n",
       "      <td>0</td>\n",
       "      <td>0</td>\n",
       "      <td>0</td>\n",
       "      <td>0</td>\n",
       "      <td>-0.057491</td>\n",
       "      <td>-0.221191</td>\n",
       "      <td>-0.169361</td>\n",
       "      <td>-0.228645</td>\n",
       "      <td>-0.237846</td>\n",
       "      <td>-0.244166</td>\n",
       "      <td>-0.237130</td>\n",
       "      <td>1</td>\n",
       "      <td>0</td>\n",
       "      <td>0</td>\n",
       "    </tr>\n",
       "    <tr>\n",
       "      <td>5</td>\n",
       "      <td>-0.905498</td>\n",
       "      <td>3</td>\n",
       "      <td>2.334029</td>\n",
       "      <td>0</td>\n",
       "      <td>0</td>\n",
       "      <td>0</td>\n",
       "      <td>0</td>\n",
       "      <td>0</td>\n",
       "      <td>0</td>\n",
       "      <td>-0.578618</td>\n",
       "      <td>-0.221191</td>\n",
       "      <td>1.335034</td>\n",
       "      <td>0.271165</td>\n",
       "      <td>0.266434</td>\n",
       "      <td>-0.269039</td>\n",
       "      <td>-0.255187</td>\n",
       "      <td>0</td>\n",
       "      <td>1</td>\n",
       "      <td>0</td>\n",
       "    </tr>\n",
       "  </tbody>\n",
       "</table>\n",
       "</div>"
      ],
      "text/plain": [
       "    LIMIT_BAL  EDUCATION       AGE  STATUS_SEP  STATUS_AUG  STATUS_JUL  \\\n",
       "ID                                                                       \n",
       "1   -1.136720          3 -1.246020           2           2           0   \n",
       "2   -0.365981          3 -1.029047           0           2           0   \n",
       "3   -0.597202          3 -0.161156           0           0           0   \n",
       "4   -0.905498          3  0.164303           0           0           0   \n",
       "5   -0.905498          3  2.334029           0           0           0   \n",
       "\n",
       "    STATUS_JUN  STATUS_MAY  STATUS_APR  BILL_SEP   PAY_SEP   PAY_AUG  \\\n",
       "ID                                                                     \n",
       "1            0           0           0 -0.642501 -0.341942 -0.227086   \n",
       "2            0           0           2 -0.659219 -0.341942 -0.213588   \n",
       "3            0           0           0 -0.298560 -0.250292 -0.191887   \n",
       "4            0           0           0 -0.057491 -0.221191 -0.169361   \n",
       "5            0           0           0 -0.578618 -0.221191  1.335034   \n",
       "\n",
       "     PAY_JUL   PAY_JUN   PAY_MAY   PAY_APR  SEX_FEMALE  SEX_MALE  default  \n",
       "ID                                                                         \n",
       "1  -0.296801 -0.308063 -0.314136 -0.293382           1         0        1  \n",
       "2  -0.240005 -0.244230 -0.314136 -0.180878           1         0        1  \n",
       "3  -0.240005 -0.244230 -0.248683 -0.012122           1         0        0  \n",
       "4  -0.228645 -0.237846 -0.244166 -0.237130           1         0        0  \n",
       "5   0.271165  0.266434 -0.269039 -0.255187           0         1        0  "
      ]
     },
     "execution_count": 57,
     "metadata": {},
     "output_type": "execute_result"
    }
   ],
   "source": [
    "data.head()"
   ]
  },
  {
   "cell_type": "markdown",
   "metadata": {},
   "source": [
    "## 9) SPLITTING TRAINING AND TEST SET\n",
    "We then split the processed data into training set (80%) and test set(20%)"
   ]
  },
  {
   "cell_type": "code",
   "execution_count": 58,
   "metadata": {},
   "outputs": [],
   "source": [
    "#spliiting test and train set to a 80:20 ratio \n",
    "\n",
    "from sklearn.model_selection import train_test_split\n",
    "x = data.iloc[:, :-1].values\n",
    "y = data[\"default\"]\n",
    "x_train, x_test, y_train, y_test = train_test_split(x,y,test_size = 0.2)"
   ]
  },
  {
   "cell_type": "markdown",
   "metadata": {},
   "source": [
    "## MODEL SELECTION AND EVALUATION\n",
    "\n",
    "For this part, we plan to first run the model with default parameters. After that, we will run GridSearch to find the optimised parameters. We will then run our model with new parameters to check for improvements. \n",
    "\n",
    "We will be evaluating models by looking at the confusion matrix, classification report, accuracy, precision, recall, f1_score, ROC and AUROC. We will be focusing on accurarcy, f1_score and AUROC. "
   ]
  },
  {
   "cell_type": "markdown",
   "metadata": {},
   "source": [
    "## SVM MODELS"
   ]
  },
  {
   "cell_type": "markdown",
   "metadata": {},
   "source": [
    "**RBF KERNEL**"
   ]
  },
  {
   "cell_type": "code",
   "execution_count": 59,
   "metadata": {},
   "outputs": [],
   "source": [
    "#SVM\n",
    "from sklearn.svm import SVC\n",
    "from sklearn.model_selection import GridSearchCV\n",
    "from sklearn import svm\n",
    "from sklearn.metrics import roc_curve, auc"
   ]
  },
  {
   "cell_type": "code",
   "execution_count": 54,
   "metadata": {},
   "outputs": [],
   "source": [
    "#RBF Kernel\n",
    "rbf_svc = SVC(kernel = 'rbf', gamma = 'auto', probability = True)\n",
    "rbf_svc.fit(x_train,y_train)\n",
    "\n",
    "#Predict\n",
    "y_rbf_pred = rbf_svc.predict(x_test)"
   ]
  },
  {
   "cell_type": "code",
   "execution_count": 55,
   "metadata": {},
   "outputs": [
    {
     "name": "stdout",
     "output_type": "stream",
     "text": [
      "[[4439  242]\n",
      " [ 855  464]]\n",
      "              precision    recall  f1-score   support\n",
      "\n",
      "           0       0.84      0.95      0.89      4681\n",
      "           1       0.66      0.35      0.46      1319\n",
      "\n",
      "    accuracy                           0.82      6000\n",
      "   macro avg       0.75      0.65      0.67      6000\n",
      "weighted avg       0.80      0.82      0.80      6000\n",
      "\n"
     ]
    }
   ],
   "source": [
    "#Evaluation\n",
    "rbf_cm = confusion_matrix(y_test, y_rbf_pred)\n",
    "rbf_cr = classification_report(y_test, y_rbf_pred)\n",
    "print(rbf_cm)\n",
    "print(rbf_cr)"
   ]
  },
  {
   "cell_type": "code",
   "execution_count": 56,
   "metadata": {},
   "outputs": [
    {
     "name": "stdout",
     "output_type": "stream",
     "text": [
      "The accuracy score is :0.8171666666666667\n",
      "The precision score is :0.6572237960339944\n",
      "The recall score is :0.35178165276724793\n",
      "The f1 score is :0.4582716049382716\n"
     ]
    }
   ],
   "source": [
    "acc_rbf = metrics.accuracy_score(y_test, y_rbf_pred)\n",
    "prec_rbf = metrics.precision_score(y_test,y_rbf_pred)\n",
    "rec_rbf = metrics.recall_score(y_test,y_rbf_pred)\n",
    "f1_rbf = metrics.f1_score(y_test,y_rbf_pred)\n",
    "\n",
    "print('The accuracy score is :' + str(acc_rbf))\n",
    "print('The precision score is :' + str(prec_rbf))\n",
    "print('The recall score is :' + str(rec_rbf))\n",
    "print('The f1 score is :' + str(f1_rbf))"
   ]
  },
  {
   "cell_type": "code",
   "execution_count": 57,
   "metadata": {},
   "outputs": [
    {
     "data": {
      "text/html": [
       "<div>\n",
       "<style scoped>\n",
       "    .dataframe tbody tr th:only-of-type {\n",
       "        vertical-align: middle;\n",
       "    }\n",
       "\n",
       "    .dataframe tbody tr th {\n",
       "        vertical-align: top;\n",
       "    }\n",
       "\n",
       "    .dataframe thead th {\n",
       "        text-align: right;\n",
       "    }\n",
       "</style>\n",
       "<table border=\"1\" class=\"dataframe\">\n",
       "  <thead>\n",
       "    <tr style=\"text-align: right;\">\n",
       "      <th></th>\n",
       "      <th>Model</th>\n",
       "      <th>Accuracy</th>\n",
       "      <th>Precision</th>\n",
       "      <th>Recall</th>\n",
       "      <th>F1 Score</th>\n",
       "      <th>ROC</th>\n",
       "      <th>AUROC</th>\n",
       "    </tr>\n",
       "  </thead>\n",
       "  <tbody>\n",
       "    <tr>\n",
       "      <td>0</td>\n",
       "      <td>Support Vector Machine</td>\n",
       "      <td>0.817167</td>\n",
       "      <td>0.657224</td>\n",
       "      <td>0.351782</td>\n",
       "      <td>0.458272</td>\n",
       "      <td>0.650042</td>\n",
       "      <td>0.702576</td>\n",
       "    </tr>\n",
       "  </tbody>\n",
       "</table>\n",
       "</div>"
      ],
      "text/plain": [
       "                    Model  Accuracy  Precision    Recall  F1 Score       ROC  \\\n",
       "0  Support Vector Machine  0.817167   0.657224  0.351782  0.458272  0.650042   \n",
       "\n",
       "      AUROC  \n",
       "0  0.702576  "
      ]
     },
     "execution_count": 57,
     "metadata": {},
     "output_type": "execute_result"
    }
   ],
   "source": [
    "#ROC \n",
    "prob_rbf = rbf_svc.fit(x_train, y_train).predict_proba(x_test)\n",
    "fpr, tpr, thresholds = roc_curve(y_test, prob_rbf[:, 1])\n",
    "roc_auc = auc(fpr, tpr)\n",
    "roc_rbf = metrics.roc_auc_score(y_test, y_rbf_pred)\n",
    "\n",
    "model = pd.DataFrame([['Support Vector Machine', acc_rbf,prec_rbf,rec_rbf, f1_rbf,roc_rbf,roc_auc]],\n",
    "               columns = ['Model', 'Accuracy', 'Precision', 'Recall', 'F1 Score','ROC','AUROC'])\n",
    "model"
   ]
  },
  {
   "cell_type": "code",
   "execution_count": 27,
   "metadata": {},
   "outputs": [
    {
     "name": "stderr",
     "output_type": "stream",
     "text": [
      "C:\\Users\\Huang\\Anaconda3\\lib\\site-packages\\sklearn\\model_selection\\_split.py:1978: FutureWarning: The default value of cv will change from 3 to 5 in version 0.22. Specify it explicitly to silence this warning.\n",
      "  warnings.warn(CV_WARNING, FutureWarning)\n",
      "[Parallel(n_jobs=-1)]: Using backend LokyBackend with 4 concurrent workers.\n"
     ]
    },
    {
     "name": "stdout",
     "output_type": "stream",
     "text": [
      "Fitting 3 folds for each of 12 candidates, totalling 36 fits\n"
     ]
    },
    {
     "name": "stderr",
     "output_type": "stream",
     "text": [
      "[Parallel(n_jobs=-1)]: Done  10 tasks      | elapsed:  2.5min\n",
      "[Parallel(n_jobs=-1)]: Done  36 out of  36 | elapsed: 10.3min finished\n"
     ]
    },
    {
     "name": "stdout",
     "output_type": "stream",
     "text": [
      "Best Parameters:\n",
      " {'C': 1, 'gamma': 0.1}\n"
     ]
    }
   ],
   "source": [
    "# Finding best parameter\n",
    "# Grid Search\n",
    "# Parameter Grid\n",
    "param_grid = {'C': [0.1, 1, 10], 'gamma': [1, 0.1, 0.01, 0.001]}\n",
    " \n",
    "# Make grid search classifier\n",
    "rbf_grid = GridSearchCV(svm.SVC(kernel = 'rbf'), param_grid, verbose=5, n_jobs = -1)\n",
    " \n",
    "# Train the classifier\n",
    "rbf_grid.fit(x_train, y_train)\n",
    "\n",
    "# clf = grid.best_Parameters_\n",
    "print(\"Best Parameters:\\n\", rbf_grid.best_params_)"
   ]
  },
  {
   "cell_type": "markdown",
   "metadata": {},
   "source": [
    "**After optimising the parameters**"
   ]
  },
  {
   "cell_type": "code",
   "execution_count": 75,
   "metadata": {},
   "outputs": [],
   "source": [
    "#After tuning\n",
    "new_rbf_svc = SVC(kernel = 'rbf', gamma = 0.1, C = 1, probability = True)\n",
    "new_rbf_svc.fit(x_train,y_train)\n",
    "\n",
    "#Predict\n",
    "new_y_rbf_pred = new_rbf_svc.predict(x_test)"
   ]
  },
  {
   "cell_type": "code",
   "execution_count": 76,
   "metadata": {},
   "outputs": [
    {
     "name": "stdout",
     "output_type": "stream",
     "text": [
      "[[4438  231]\n",
      " [ 874  457]]\n",
      "              precision    recall  f1-score   support\n",
      "\n",
      "           0       0.84      0.95      0.89      4669\n",
      "           1       0.66      0.34      0.45      1331\n",
      "\n",
      "    accuracy                           0.82      6000\n",
      "   macro avg       0.75      0.65      0.67      6000\n",
      "weighted avg       0.80      0.82      0.79      6000\n",
      "\n"
     ]
    }
   ],
   "source": [
    "#Evaluation\n",
    "rbf_cm = confusion_matrix(y_test, new_y_rbf_pred)\n",
    "rbf_cr = classification_report(y_test, new_y_rbf_pred)\n",
    "print(rbf_cm)\n",
    "print(rbf_cr)"
   ]
  },
  {
   "cell_type": "code",
   "execution_count": 77,
   "metadata": {},
   "outputs": [],
   "source": [
    "acc_rbf = metrics.accuracy_score(y_test, new_y_rbf_pred)\n",
    "prec_rbf = metrics.precision_score(y_test,new_y_rbf_pred)\n",
    "rec_rbf = metrics.recall_score(y_test,new_y_rbf_pred)\n",
    "f1_rbf = metrics.f1_score(y_test,new_y_rbf_pred)"
   ]
  },
  {
   "cell_type": "code",
   "execution_count": 78,
   "metadata": {},
   "outputs": [
    {
     "data": {
      "text/html": [
       "<div>\n",
       "<style scoped>\n",
       "    .dataframe tbody tr th:only-of-type {\n",
       "        vertical-align: middle;\n",
       "    }\n",
       "\n",
       "    .dataframe tbody tr th {\n",
       "        vertical-align: top;\n",
       "    }\n",
       "\n",
       "    .dataframe thead th {\n",
       "        text-align: right;\n",
       "    }\n",
       "</style>\n",
       "<table border=\"1\" class=\"dataframe\">\n",
       "  <thead>\n",
       "    <tr style=\"text-align: right;\">\n",
       "      <th></th>\n",
       "      <th>Model</th>\n",
       "      <th>Accuracy</th>\n",
       "      <th>Precision</th>\n",
       "      <th>Recall</th>\n",
       "      <th>F1 Score</th>\n",
       "      <th>ROC</th>\n",
       "      <th>AUROC</th>\n",
       "    </tr>\n",
       "  </thead>\n",
       "  <tbody>\n",
       "    <tr>\n",
       "      <td>0</td>\n",
       "      <td>Support Vector Machine</td>\n",
       "      <td>0.815833</td>\n",
       "      <td>0.664244</td>\n",
       "      <td>0.343351</td>\n",
       "      <td>0.452699</td>\n",
       "      <td>0.646938</td>\n",
       "      <td>0.705158</td>\n",
       "    </tr>\n",
       "  </tbody>\n",
       "</table>\n",
       "</div>"
      ],
      "text/plain": [
       "                    Model  Accuracy  Precision    Recall  F1 Score       ROC  \\\n",
       "0  Support Vector Machine  0.815833   0.664244  0.343351  0.452699  0.646938   \n",
       "\n",
       "      AUROC  \n",
       "0  0.705158  "
      ]
     },
     "execution_count": 78,
     "metadata": {},
     "output_type": "execute_result"
    }
   ],
   "source": [
    "#ROC \n",
    "new_prob_rbf = new_rbf_svc.fit(x_train, y_train).predict_proba(x_test)\n",
    "fpr, tpr, thresholds = roc_curve(y_test, new_prob_rbf[:, 1])\n",
    "roc_auc = auc(fpr, tpr)\n",
    "roc_rbf = metrics.roc_auc_score(y_test, new_y_rbf_pred)\n",
    "\n",
    "model = pd.DataFrame([['Support Vector Machine', acc_rbf,prec_rbf,rec_rbf, f1_rbf,roc_rbf,roc_auc]],\n",
    "               columns = ['Model', 'Accuracy', 'Precision', 'Recall', 'F1 Score','ROC','AUROC'])\n",
    "model"
   ]
  },
  {
   "cell_type": "code",
   "execution_count": 74,
   "metadata": {},
   "outputs": [
    {
     "data": {
      "image/png": "[encoded data removed]",
      "text/plain": [
       "<Figure size 432x288 with 1 Axes>"
      ]
     },
     "metadata": {},
     "output_type": "display_data"
    },
    {
     "name": "stdout",
     "output_type": "stream",
     "text": [
      "Area under the ROC curve : 0.705156\n"
     ]
    }
   ],
   "source": [
    "# Plot ROC curve\n",
    "pl.clf()\n",
    "pl.plot(fpr, tpr, label='ROC curve (area = %0.3f)' % roc_auc)\n",
    "pl.plot([0, 1], [0, 1], 'k--')\n",
    "pl.xlim([0.0, 1.0])\n",
    "pl.ylim([0.0, 1.0])\n",
    "pl.xlabel('False Positive Rate')\n",
    "pl.ylabel('True Positive Rate')\n",
    "pl.title('AUROC for rbf kernel')\n",
    "pl.legend(loc=\"lower right\")\n",
    "pl.show()\n",
    "print(\"Area under the ROC curve : %f\" % roc_auc)"
   ]
  },
  {
   "cell_type": "markdown",
   "metadata": {},
   "source": [
    "**LINEAR KERNEL**"
   ]
  },
  {
   "cell_type": "code",
   "execution_count": 58,
   "metadata": {},
   "outputs": [],
   "source": [
    "#Linear Kernel\n",
    "linear_svc = SVC(kernel='linear', probability=True)\n",
    "linear_svc.fit(x_train, y_train)\n",
    "\n",
    "#Predict\n",
    "y_linear_pred = linear_svc.predict(x_test)"
   ]
  },
  {
   "cell_type": "code",
   "execution_count": 59,
   "metadata": {},
   "outputs": [
    {
     "name": "stdout",
     "output_type": "stream",
     "text": [
      "[[4453  228]\n",
      " [ 861  458]]\n",
      "              precision    recall  f1-score   support\n",
      "\n",
      "           0       0.84      0.95      0.89      4681\n",
      "           1       0.67      0.35      0.46      1319\n",
      "\n",
      "    accuracy                           0.82      6000\n",
      "   macro avg       0.75      0.65      0.67      6000\n",
      "weighted avg       0.80      0.82      0.80      6000\n",
      "\n"
     ]
    }
   ],
   "source": [
    "#Evaluation\n",
    "linear_cm = confusion_matrix(y_test, y_linear_pred)\n",
    "linear_cr = classification_report(y_test, y_linear_pred)\n",
    "print(linear_cm)\n",
    "print(linear_cr)"
   ]
  },
  {
   "cell_type": "code",
   "execution_count": 60,
   "metadata": {},
   "outputs": [],
   "source": [
    "acc_linear = metrics.accuracy_score(y_test, y_linear_pred)\n",
    "prec_linear = metrics.precision_score(y_test,y_linear_pred)\n",
    "rec_linear = metrics.recall_score(y_test,y_linear_pred)\n",
    "f1_linear = metrics.f1_score(y_test,y_linear_pred)"
   ]
  },
  {
   "cell_type": "code",
   "execution_count": 61,
   "metadata": {},
   "outputs": [
    {
     "data": {
      "text/html": [
       "<div>\n",
       "<style scoped>\n",
       "    .dataframe tbody tr th:only-of-type {\n",
       "        vertical-align: middle;\n",
       "    }\n",
       "\n",
       "    .dataframe tbody tr th {\n",
       "        vertical-align: top;\n",
       "    }\n",
       "\n",
       "    .dataframe thead th {\n",
       "        text-align: right;\n",
       "    }\n",
       "</style>\n",
       "<table border=\"1\" class=\"dataframe\">\n",
       "  <thead>\n",
       "    <tr style=\"text-align: right;\">\n",
       "      <th></th>\n",
       "      <th>Model</th>\n",
       "      <th>Accuracy</th>\n",
       "      <th>Precision</th>\n",
       "      <th>Recall</th>\n",
       "      <th>F1 Score</th>\n",
       "      <th>ROC</th>\n",
       "      <th>AUROC</th>\n",
       "    </tr>\n",
       "  </thead>\n",
       "  <tbody>\n",
       "    <tr>\n",
       "      <td>0</td>\n",
       "      <td>Support Vector Machine</td>\n",
       "      <td>0.8185</td>\n",
       "      <td>0.667638</td>\n",
       "      <td>0.347233</td>\n",
       "      <td>0.456858</td>\n",
       "      <td>0.649263</td>\n",
       "      <td>0.723053</td>\n",
       "    </tr>\n",
       "  </tbody>\n",
       "</table>\n",
       "</div>"
      ],
      "text/plain": [
       "                    Model  Accuracy  Precision    Recall  F1 Score       ROC  \\\n",
       "0  Support Vector Machine    0.8185   0.667638  0.347233  0.456858  0.649263   \n",
       "\n",
       "      AUROC  \n",
       "0  0.723053  "
      ]
     },
     "execution_count": 61,
     "metadata": {},
     "output_type": "execute_result"
    }
   ],
   "source": [
    "#ROC \n",
    "prob_linear = linear_svc.fit(x_train, y_train).predict_proba(x_test)\n",
    "fpr, tpr, thresholds = roc_curve(y_test, prob_linear[:, 1])\n",
    "roc_auc = auc(fpr, tpr)\n",
    "roc_linear = metrics.roc_auc_score(y_test, y_linear_pred)\n",
    "\n",
    "model = pd.DataFrame([['Support Vector Machine', acc_linear,prec_linear,rec_linear, f1_linear,roc_linear,roc_auc]],\n",
    "               columns = ['Model', 'Accuracy', 'Precision', 'Recall', 'F1 Score','ROC','AUROC'])\n",
    "model"
   ]
  },
  {
   "cell_type": "code",
   "execution_count": null,
   "metadata": {},
   "outputs": [
    {
     "name": "stderr",
     "output_type": "stream",
     "text": [
      "C:\\Users\\Huang\\Anaconda3\\lib\\site-packages\\sklearn\\model_selection\\_split.py:1978: FutureWarning: The default value of cv will change from 3 to 5 in version 0.22. Specify it explicitly to silence this warning.\n",
      "  warnings.warn(CV_WARNING, FutureWarning)\n",
      "[Parallel(n_jobs=-1)]: Using backend LokyBackend with 4 concurrent workers.\n"
     ]
    },
    {
     "name": "stdout",
     "output_type": "stream",
     "text": [
      "Fitting 3 folds for each of 4 candidates, totalling 12 fits\n"
     ]
    },
    {
     "name": "stderr",
     "output_type": "stream",
     "text": [
      "[Parallel(n_jobs=-1)]: Done   8 out of  12 | elapsed:   54.7s remaining:   27.3s\n"
     ]
    }
   ],
   "source": [
    "# Finding best parameter\n",
    "# Grid Search\n",
    "# Parameter Grid\n",
    "param_grid = {'C': [0.01, 0.1, 1, 10]}\n",
    " \n",
    "# Make grid search classifier\n",
    "linear_grid = GridSearchCV(svm.SVC(kernel = 'linear'), param_grid, verbose=5, n_jobs = -1)\n",
    " \n",
    "# Train the classifier\n",
    "linear_grid.fit(x_train, y_train)\n",
    " \n",
    "# clf = grid.best_Parameters_\n",
    "print(\"Best Parameters:\\n\", linear_grid.best_params_)"
   ]
  },
  {
   "cell_type": "markdown",
   "metadata": {},
   "source": [
    "**After optimising the parameters**"
   ]
  },
  {
   "cell_type": "code",
   "execution_count": 60,
   "metadata": {},
   "outputs": [],
   "source": [
    "#After Tuning \n",
    "new_linear_svc = SVC(kernel='linear', C=0.01, probability=True)\n",
    "new_linear_svc.fit(x_train, y_train)\n",
    "\n",
    "#Predict\n",
    "new_y_linear_pred = new_linear_svc.predict(x_test)"
   ]
  },
  {
   "cell_type": "code",
   "execution_count": 61,
   "metadata": {},
   "outputs": [
    {
     "name": "stdout",
     "output_type": "stream",
     "text": [
      "[[4257  412]\n",
      " [ 740  591]]\n",
      "              precision    recall  f1-score   support\n",
      "\n",
      "           0       0.85      0.91      0.88      4669\n",
      "           1       0.59      0.44      0.51      1331\n",
      "\n",
      "    accuracy                           0.81      6000\n",
      "   macro avg       0.72      0.68      0.69      6000\n",
      "weighted avg       0.79      0.81      0.80      6000\n",
      "\n"
     ]
    }
   ],
   "source": [
    "#Evaluation\n",
    "new_linear_cm = confusion_matrix(y_test, new_y_linear_pred)\n",
    "new_linear_cr = classification_report(y_test, new_y_linear_pred)\n",
    "print(new_linear_cm)\n",
    "print(new_linear_cr)"
   ]
  },
  {
   "cell_type": "code",
   "execution_count": 62,
   "metadata": {},
   "outputs": [],
   "source": [
    "acc_linear = metrics.accuracy_score(y_test, new_y_linear_pred)\n",
    "prec_linear = metrics.precision_score(y_test,new_y_linear_pred)\n",
    "rec_linear = metrics.recall_score(y_test,new_y_linear_pred)\n",
    "f1_linear = metrics.f1_score(y_test,new_y_linear_pred)"
   ]
  },
  {
   "cell_type": "code",
   "execution_count": 67,
   "metadata": {},
   "outputs": [
    {
     "data": {
      "text/html": [
       "<div>\n",
       "<style scoped>\n",
       "    .dataframe tbody tr th:only-of-type {\n",
       "        vertical-align: middle;\n",
       "    }\n",
       "\n",
       "    .dataframe tbody tr th {\n",
       "        vertical-align: top;\n",
       "    }\n",
       "\n",
       "    .dataframe thead th {\n",
       "        text-align: right;\n",
       "    }\n",
       "</style>\n",
       "<table border=\"1\" class=\"dataframe\">\n",
       "  <thead>\n",
       "    <tr style=\"text-align: right;\">\n",
       "      <th></th>\n",
       "      <th>Model</th>\n",
       "      <th>Accuracy</th>\n",
       "      <th>Precision</th>\n",
       "      <th>Recall</th>\n",
       "      <th>F1 Score</th>\n",
       "      <th>ROC</th>\n",
       "      <th>AUROC</th>\n",
       "    </tr>\n",
       "  </thead>\n",
       "  <tbody>\n",
       "    <tr>\n",
       "      <td>0</td>\n",
       "      <td>Support Vector Machine</td>\n",
       "      <td>0.808</td>\n",
       "      <td>0.589232</td>\n",
       "      <td>0.444027</td>\n",
       "      <td>0.506427</td>\n",
       "      <td>0.677893</td>\n",
       "      <td>0.747342</td>\n",
       "    </tr>\n",
       "  </tbody>\n",
       "</table>\n",
       "</div>"
      ],
      "text/plain": [
       "                    Model  Accuracy  Precision    Recall  F1 Score       ROC  \\\n",
       "0  Support Vector Machine     0.808   0.589232  0.444027  0.506427  0.677893   \n",
       "\n",
       "      AUROC  \n",
       "0  0.747342  "
      ]
     },
     "execution_count": 67,
     "metadata": {},
     "output_type": "execute_result"
    }
   ],
   "source": [
    "#ROC \n",
    "new_prob_linear = new_linear_svc.fit(x_train, y_train).predict_proba(x_test)\n",
    "fpr, tpr, thresholds = roc_curve(y_test, new_prob_linear[:, 1])\n",
    "roc_auc = auc(fpr, tpr)\n",
    "roc_linear = metrics.roc_auc_score(y_test, new_y_linear_pred)\n",
    "\n",
    "model = pd.DataFrame([['Support Vector Machine', acc_linear,prec_linear,rec_linear, f1_linear,roc_linear,roc_auc]],\n",
    "               columns = ['Model', 'Accuracy', 'Precision', 'Recall', 'F1 Score','ROC','AUROC'])\n",
    "model"
   ]
  },
  {
   "cell_type": "code",
   "execution_count": 68,
   "metadata": {},
   "outputs": [
    {
     "data": {
      "image/png": "[encoded data removed]",
      "text/plain": [
       "<Figure size 432x288 with 1 Axes>"
      ]
     },
     "metadata": {},
     "output_type": "display_data"
    },
    {
     "name": "stdout",
     "output_type": "stream",
     "text": [
      "Area under the ROC curve : 0.747342\n"
     ]
    }
   ],
   "source": [
    "# Plot ROC curve\n",
    "pl.clf()\n",
    "pl.plot(fpr, tpr, label='ROC curve (area = %0.3f)' % roc_auc)\n",
    "pl.plot([0, 1], [0, 1], 'k--')\n",
    "pl.xlim([0.0, 1.0])\n",
    "pl.ylim([0.0, 1.0])\n",
    "pl.xlabel('False Positive Rate')\n",
    "pl.ylabel('True Positive Rate')\n",
    "pl.title('AUROC for linear kernel')\n",
    "pl.legend(loc=\"lower right\")\n",
    "pl.show()\n",
    "print(\"Area under the ROC curve : %f\" % roc_auc)"
   ]
  },
  {
   "cell_type": "markdown",
   "metadata": {},
   "source": [
    "After optimising the parameters, we found that both rbf and linear results improved based on f1_score"
   ]
  },
  {
   "cell_type": "markdown",
   "metadata": {},
   "source": [
    "## kNN Model "
   ]
  },
  {
   "cell_type": "code",
   "execution_count": 79,
   "metadata": {},
   "outputs": [],
   "source": [
    "from sklearn.neighbors import KNeighborsClassifier\n",
    "from sklearn.model_selection import cross_val_score"
   ]
  },
  {
   "cell_type": "code",
   "execution_count": 119,
   "metadata": {},
   "outputs": [],
   "source": [
    "#kNN model\n",
    "classifier = KNeighborsClassifier(n_neighbors=5)\n",
    "classifier.fit(x_train, y_train)\n",
    "\n",
    "#Predict\n",
    "knn_pred1 = classifier.predict(x_test)"
   ]
  },
  {
   "cell_type": "code",
   "execution_count": 120,
   "metadata": {},
   "outputs": [
    {
     "name": "stdout",
     "output_type": "stream",
     "text": [
      "[[4284  385]\n",
      " [ 858  473]]\n",
      "              precision    recall  f1-score   support\n",
      "\n",
      "           0       0.83      0.92      0.87      4669\n",
      "           1       0.55      0.36      0.43      1331\n",
      "\n",
      "    accuracy                           0.79      6000\n",
      "   macro avg       0.69      0.64      0.65      6000\n",
      "weighted avg       0.77      0.79      0.78      6000\n",
      "\n"
     ]
    }
   ],
   "source": [
    "#Evaluation\n",
    "cm = confusion_matrix(y_test, knn_pred1)\n",
    "cr = classification_report(y_test, knn_pred1)\n",
    "print(cm)\n",
    "print(cr)"
   ]
  },
  {
   "cell_type": "code",
   "execution_count": 121,
   "metadata": {},
   "outputs": [],
   "source": [
    "acc = metrics.accuracy_score(y_test, knn_pred1)\n",
    "prec = metrics.precision_score(y_test,knn_pred1)\n",
    "rec = metrics.recall_score(y_test,knn_pred1)\n",
    "f1 = metrics.f1_score(y_test,knn_pred1)"
   ]
  },
  {
   "cell_type": "code",
   "execution_count": 122,
   "metadata": {},
   "outputs": [
    {
     "data": {
      "text/html": [
       "<div>\n",
       "<style scoped>\n",
       "    .dataframe tbody tr th:only-of-type {\n",
       "        vertical-align: middle;\n",
       "    }\n",
       "\n",
       "    .dataframe tbody tr th {\n",
       "        vertical-align: top;\n",
       "    }\n",
       "\n",
       "    .dataframe thead th {\n",
       "        text-align: right;\n",
       "    }\n",
       "</style>\n",
       "<table border=\"1\" class=\"dataframe\">\n",
       "  <thead>\n",
       "    <tr style=\"text-align: right;\">\n",
       "      <th></th>\n",
       "      <th>Model</th>\n",
       "      <th>Accuracy</th>\n",
       "      <th>Precision</th>\n",
       "      <th>Recall</th>\n",
       "      <th>F1 Score</th>\n",
       "      <th>ROC</th>\n",
       "      <th>AUROC</th>\n",
       "    </tr>\n",
       "  </thead>\n",
       "  <tbody>\n",
       "    <tr>\n",
       "      <td>0</td>\n",
       "      <td>K</td>\n",
       "      <td>0.792833</td>\n",
       "      <td>0.551282</td>\n",
       "      <td>0.355372</td>\n",
       "      <td>0.432161</td>\n",
       "      <td>0.636457</td>\n",
       "      <td>0.707267</td>\n",
       "    </tr>\n",
       "  </tbody>\n",
       "</table>\n",
       "</div>"
      ],
      "text/plain": [
       "  Model  Accuracy  Precision    Recall  F1 Score       ROC     AUROC\n",
       "0     K  0.792833   0.551282  0.355372  0.432161  0.636457  0.707267"
      ]
     },
     "execution_count": 122,
     "metadata": {},
     "output_type": "execute_result"
    }
   ],
   "source": [
    "#ROC \n",
    "knn_prob = classifier.fit(x_train, y_train).predict_proba(x_test)\n",
    "fpr, tpr, thresholds = roc_curve(y_test, knn_prob[:, 1])\n",
    "roc_auc = auc(fpr, tpr)\n",
    "roc = metrics.roc_auc_score(y_test, knn_pred1)\n",
    "\n",
    "model = pd.DataFrame([['K', acc,prec,rec, f1,roc,roc_auc]],\n",
    "               columns = ['Model', 'Accuracy', 'Precision', 'Recall', 'F1 Score','ROC','AUROC'])\n",
    "model"
   ]
  },
  {
   "cell_type": "code",
   "execution_count": 94,
   "metadata": {},
   "outputs": [
    {
     "name": "stdout",
     "output_type": "stream",
     "text": [
      "Best Parameters:\n",
      " {'n_neighbors': 14}\n"
     ]
    }
   ],
   "source": [
    "# Finding best parameter\n",
    "# Grid Search\n",
    "# Parameter Grid\n",
    "knn_param_grid = {'n_neighbors':list(range(1,15))}\n",
    "\n",
    "knn_grid_search = GridSearchCV(KNeighborsClassifier() ,knn_param_grid ,cv=5,n_jobs=-1)\n",
    "\n",
    "# Train the classifier\n",
    "knn_grid_search= knn_grid_search.fit(x_train,y_train)\n",
    " \n",
    "# clf = grid.best_Parameters_\n",
    "print(\"Best Parameters:\\n\", knn_grid_search.best_params_)"
   ]
  },
  {
   "cell_type": "markdown",
   "metadata": {},
   "source": [
    "**After optimising the parameters**"
   ]
  },
  {
   "cell_type": "code",
   "execution_count": 90,
   "metadata": {},
   "outputs": [],
   "source": [
    "#kNN model\n",
    "new_classifier = KNeighborsClassifier(n_neighbors=14)\n",
    "new_classifier.fit(x_train, y_train)\n",
    "\n",
    "#Predict\n",
    "new_knn_pred = new_classifier.predict(x_test)"
   ]
  },
  {
   "cell_type": "code",
   "execution_count": 91,
   "metadata": {},
   "outputs": [
    {
     "name": "stdout",
     "output_type": "stream",
     "text": [
      "[[4416  253]\n",
      " [ 902  429]]\n",
      "              precision    recall  f1-score   support\n",
      "\n",
      "           0       0.83      0.95      0.88      4669\n",
      "           1       0.63      0.32      0.43      1331\n",
      "\n",
      "    accuracy                           0.81      6000\n",
      "   macro avg       0.73      0.63      0.66      6000\n",
      "weighted avg       0.79      0.81      0.78      6000\n",
      "\n"
     ]
    }
   ],
   "source": [
    "#Evaluation\n",
    "cm = confusion_matrix(y_test, new_knn_pred)\n",
    "cr = classification_report(y_test, new_knn_pred)\n",
    "print(cm)\n",
    "print(cr)"
   ]
  },
  {
   "cell_type": "code",
   "execution_count": 92,
   "metadata": {},
   "outputs": [],
   "source": [
    "acc = metrics.accuracy_score(y_test, new_knn_pred)\n",
    "prec = metrics.precision_score(y_test,new_knn_pred)\n",
    "rec = metrics.recall_score(y_test,new_knn_pred)\n",
    "f1 = metrics.f1_score(y_test,new_knn_pred)"
   ]
  },
  {
   "cell_type": "code",
   "execution_count": 93,
   "metadata": {},
   "outputs": [
    {
     "data": {
      "text/html": [
       "<div>\n",
       "<style scoped>\n",
       "    .dataframe tbody tr th:only-of-type {\n",
       "        vertical-align: middle;\n",
       "    }\n",
       "\n",
       "    .dataframe tbody tr th {\n",
       "        vertical-align: top;\n",
       "    }\n",
       "\n",
       "    .dataframe thead th {\n",
       "        text-align: right;\n",
       "    }\n",
       "</style>\n",
       "<table border=\"1\" class=\"dataframe\">\n",
       "  <thead>\n",
       "    <tr style=\"text-align: right;\">\n",
       "      <th></th>\n",
       "      <th>Model</th>\n",
       "      <th>Accuracy</th>\n",
       "      <th>Precision</th>\n",
       "      <th>Recall</th>\n",
       "      <th>F1 Score</th>\n",
       "      <th>ROC</th>\n",
       "      <th>AUROC</th>\n",
       "    </tr>\n",
       "  </thead>\n",
       "  <tbody>\n",
       "    <tr>\n",
       "      <td>0</td>\n",
       "      <td>k-Nearest-Neighbours</td>\n",
       "      <td>0.8075</td>\n",
       "      <td>0.629032</td>\n",
       "      <td>0.322314</td>\n",
       "      <td>0.42623</td>\n",
       "      <td>0.634063</td>\n",
       "      <td>0.735622</td>\n",
       "    </tr>\n",
       "  </tbody>\n",
       "</table>\n",
       "</div>"
      ],
      "text/plain": [
       "                  Model  Accuracy  Precision    Recall  F1 Score       ROC  \\\n",
       "0  k-Nearest-Neighbours    0.8075   0.629032  0.322314   0.42623  0.634063   \n",
       "\n",
       "      AUROC  \n",
       "0  0.735622  "
      ]
     },
     "execution_count": 93,
     "metadata": {},
     "output_type": "execute_result"
    }
   ],
   "source": [
    "#ROC \n",
    "new_knn_prob = new_classifier.fit(x_train, y_train).predict_proba(x_test)\n",
    "fpr, tpr, thresholds = roc_curve(y_test, new_knn_prob[:, 1])\n",
    "roc_auc = auc(fpr, tpr)\n",
    "roc = metrics.roc_auc_score(y_test, new_knn_pred)\n",
    "\n",
    "model = pd.DataFrame([['k-Nearest-Neighbours', acc,prec,rec, f1,roc,roc_auc]],\n",
    "               columns = ['Model', 'Accuracy', 'Precision', 'Recall', 'F1 Score','ROC','AUROC'])\n",
    "model"
   ]
  },
  {
   "cell_type": "code",
   "execution_count": 95,
   "metadata": {},
   "outputs": [
    {
     "data": {
      "image/png": "[encoded data removed]",
      "text/plain": [
       "<Figure size 432x288 with 1 Axes>"
      ]
     },
     "metadata": {},
     "output_type": "display_data"
    },
    {
     "name": "stdout",
     "output_type": "stream",
     "text": [
      "Area under the ROC curve : 0.735622\n"
     ]
    }
   ],
   "source": [
    "# Plot ROC curve\n",
    "pl.clf()\n",
    "pl.plot(fpr, tpr, label='ROC curve (area = %0.3f)' % roc_auc)\n",
    "pl.plot([0, 1], [0, 1], 'k--')\n",
    "pl.xlim([0.0, 1.0])\n",
    "pl.ylim([0.0, 1.0])\n",
    "pl.xlabel('False Positive Rate')\n",
    "pl.ylabel('True Positive Rate')\n",
    "pl.title('AUROC for k-NN')\n",
    "pl.legend(loc=\"lower right\")\n",
    "pl.show()\n",
    "print(\"Area under the ROC curve : %f\" % roc_auc)"
   ]
  },
  {
   "cell_type": "markdown",
   "metadata": {},
   "source": [
    "## Random Forest Model"
   ]
  },
  {
   "cell_type": "code",
   "execution_count": 96,
   "metadata": {},
   "outputs": [],
   "source": [
    "from sklearn.ensemble import RandomForestClassifier\n",
    "from sklearn.model_selection import cross_validate"
   ]
  },
  {
   "cell_type": "code",
   "execution_count": 112,
   "metadata": {},
   "outputs": [
    {
     "name": "stderr",
     "output_type": "stream",
     "text": [
      "C:\\Users\\Huang\\Anaconda3\\lib\\site-packages\\sklearn\\ensemble\\forest.py:245: FutureWarning: The default value of n_estimators will change from 10 in version 0.20 to 100 in 0.22.\n",
      "  \"10 in version 0.20 to 100 in 0.22.\", FutureWarning)\n"
     ]
    }
   ],
   "source": [
    "#Random Forest Model\n",
    "modelRandom = rfc = RandomForestClassifier(n_estimators = 100,criterion = 'entropy',random_state = 0)\n",
    "modelRandomCV = sklearn.model_selection.cross_val_score(modelRandom, x_train, y_train, cv=5)\n",
    "modelRandom = RandomForestClassifier(max_depth =3)\n",
    "modelRandom.fit(x_train, y_train)\n",
    "\n",
    "#Predict\n",
    "y_rf_pred1 = modelRandom.predict(x_test)"
   ]
  },
  {
   "cell_type": "code",
   "execution_count": 113,
   "metadata": {},
   "outputs": [
    {
     "name": "stdout",
     "output_type": "stream",
     "text": [
      "[[4524  145]\n",
      " [1010  321]]\n",
      "              precision    recall  f1-score   support\n",
      "\n",
      "           0       0.82      0.97      0.89      4669\n",
      "           1       0.69      0.24      0.36      1331\n",
      "\n",
      "    accuracy                           0.81      6000\n",
      "   macro avg       0.75      0.61      0.62      6000\n",
      "weighted avg       0.79      0.81      0.77      6000\n",
      "\n"
     ]
    }
   ],
   "source": [
    "#Evaluation \n",
    "cm = confusion_matrix(y_test, y_rf_pred1)\n",
    "cr = classification_report(y_test, y_rf_pred1)\n",
    "print(cm)\n",
    "print(cr)"
   ]
  },
  {
   "cell_type": "code",
   "execution_count": 114,
   "metadata": {},
   "outputs": [],
   "source": [
    "acc_rf = metrics.accuracy_score(y_test, y_rf_pred1)\n",
    "prec_rf = metrics.precision_score(y_test,y_rf_pred1)\n",
    "rec_rf = metrics.recall_score(y_test,y_rf_pred1)\n",
    "f1_rf = metrics.f1_score(y_test,y_rf_pred1)"
   ]
  },
  {
   "cell_type": "code",
   "execution_count": 115,
   "metadata": {},
   "outputs": [
    {
     "data": {
      "text/html": [
       "<div>\n",
       "<style scoped>\n",
       "    .dataframe tbody tr th:only-of-type {\n",
       "        vertical-align: middle;\n",
       "    }\n",
       "\n",
       "    .dataframe tbody tr th {\n",
       "        vertical-align: top;\n",
       "    }\n",
       "\n",
       "    .dataframe thead th {\n",
       "        text-align: right;\n",
       "    }\n",
       "</style>\n",
       "<table border=\"1\" class=\"dataframe\">\n",
       "  <thead>\n",
       "    <tr style=\"text-align: right;\">\n",
       "      <th></th>\n",
       "      <th>Model</th>\n",
       "      <th>Accuracy</th>\n",
       "      <th>Precision</th>\n",
       "      <th>Recall</th>\n",
       "      <th>F1 Score</th>\n",
       "      <th>ROC</th>\n",
       "      <th>AUROC</th>\n",
       "    </tr>\n",
       "  </thead>\n",
       "  <tbody>\n",
       "    <tr>\n",
       "      <td>0</td>\n",
       "      <td>Random Forest</td>\n",
       "      <td>0.8075</td>\n",
       "      <td>0.688841</td>\n",
       "      <td>0.241172</td>\n",
       "      <td>0.357262</td>\n",
       "      <td>0.605058</td>\n",
       "      <td>0.605058</td>\n",
       "    </tr>\n",
       "  </tbody>\n",
       "</table>\n",
       "</div>"
      ],
      "text/plain": [
       "           Model  Accuracy  Precision    Recall  F1 Score       ROC     AUROC\n",
       "0  Random Forest    0.8075   0.688841  0.241172  0.357262  0.605058  0.605058"
      ]
     },
     "execution_count": 115,
     "metadata": {},
     "output_type": "execute_result"
    }
   ],
   "source": [
    "#ROC\n",
    "prob_rf = modelRandom.fit(x_train, y_train).predict_proba(x_test)\n",
    "fpr, tpr, thresholds = roc_curve(y_test, y_rf_pred1)\n",
    "roc_auc = auc(fpr, tpr)\n",
    "roc_rf = metrics.roc_auc_score(y_test, y_rf_pred1)\n",
    "\n",
    "model = pd.DataFrame([['Random Forest', acc_rf,prec_rf,rec_rf, f1_rf,roc_rf,roc_auc]],\n",
    "               columns = ['Model', 'Accuracy', 'Precision', 'Recall', 'F1 Score','ROC','AUROC'])\n",
    "model"
   ]
  },
  {
   "cell_type": "code",
   "execution_count": 104,
   "metadata": {},
   "outputs": [
    {
     "name": "stdout",
     "output_type": "stream",
     "text": [
      "Best Parameters:\n",
      " {'criterion': 'entropy', 'n_estimators': 600}\n"
     ]
    }
   ],
   "source": [
    "# Finding best parameter\n",
    "# Grid Search\n",
    "# Parameter Grid\n",
    "rf_param_grid = {'n_estimators': [200, 400, 600, 800], \n",
    "              'criterion': ['entropy', 'gini']}\n",
    "\n",
    "rf_grid_search = GridSearchCV(RandomForestClassifier() ,rf_param_grid ,cv=5,n_jobs=-1)\n",
    "\n",
    "# Train the classifier\n",
    "rf_grid_search = rf_grid_search.fit(x_train,y_train)\n",
    " \n",
    "# clf = grid.best_Parameters_\n",
    "print(\"Best Parameters:\\n\", rf_grid_search.best_params_)"
   ]
  },
  {
   "cell_type": "markdown",
   "metadata": {},
   "source": [
    "**After optimising the parameters**"
   ]
  },
  {
   "cell_type": "code",
   "execution_count": 105,
   "metadata": {},
   "outputs": [],
   "source": [
    "#Random Forest Model\n",
    "modelRandom = rfc = RandomForestClassifier(n_estimators = 600,criterion = 'entropy')\n",
    "modelRandomCV = sklearn.model_selection.cross_val_score(modelRandom, x_train, y_train, cv=5)\n",
    "modelRandom.fit(x_train, y_train)\n",
    "\n",
    "#Predict\n",
    "y_rf_pred = modelRandom.predict(x_test)"
   ]
  },
  {
   "cell_type": "code",
   "execution_count": 106,
   "metadata": {},
   "outputs": [
    {
     "name": "stdout",
     "output_type": "stream",
     "text": [
      "[[4397  272]\n",
      " [ 844  487]]\n",
      "              precision    recall  f1-score   support\n",
      "\n",
      "           0       0.84      0.94      0.89      4669\n",
      "           1       0.64      0.37      0.47      1331\n",
      "\n",
      "    accuracy                           0.81      6000\n",
      "   macro avg       0.74      0.65      0.68      6000\n",
      "weighted avg       0.80      0.81      0.79      6000\n",
      "\n"
     ]
    }
   ],
   "source": [
    "#Evaluation \n",
    "cm = confusion_matrix(y_test, y_rf_pred)\n",
    "cr = classification_report(y_test, y_rf_pred)\n",
    "print(cm)\n",
    "print(cr)"
   ]
  },
  {
   "cell_type": "code",
   "execution_count": 107,
   "metadata": {},
   "outputs": [],
   "source": [
    "acc_rf = metrics.accuracy_score(y_test, y_rf_pred)\n",
    "prec_rf = metrics.precision_score(y_test,y_rf_pred)\n",
    "rec_rf = metrics.recall_score(y_test,y_rf_pred)\n",
    "f1_rf = metrics.f1_score(y_test,y_rf_pred)"
   ]
  },
  {
   "cell_type": "code",
   "execution_count": 109,
   "metadata": {},
   "outputs": [
    {
     "data": {
      "text/html": [
       "<div>\n",
       "<style scoped>\n",
       "    .dataframe tbody tr th:only-of-type {\n",
       "        vertical-align: middle;\n",
       "    }\n",
       "\n",
       "    .dataframe tbody tr th {\n",
       "        vertical-align: top;\n",
       "    }\n",
       "\n",
       "    .dataframe thead th {\n",
       "        text-align: right;\n",
       "    }\n",
       "</style>\n",
       "<table border=\"1\" class=\"dataframe\">\n",
       "  <thead>\n",
       "    <tr style=\"text-align: right;\">\n",
       "      <th></th>\n",
       "      <th>Model</th>\n",
       "      <th>Accuracy</th>\n",
       "      <th>Precision</th>\n",
       "      <th>Recall</th>\n",
       "      <th>F1 Score</th>\n",
       "      <th>ROC</th>\n",
       "      <th>AUROC</th>\n",
       "    </tr>\n",
       "  </thead>\n",
       "  <tbody>\n",
       "    <tr>\n",
       "      <td>0</td>\n",
       "      <td>Random Forest</td>\n",
       "      <td>0.814</td>\n",
       "      <td>0.641634</td>\n",
       "      <td>0.36589</td>\n",
       "      <td>0.466029</td>\n",
       "      <td>0.653817</td>\n",
       "      <td>0.653817</td>\n",
       "    </tr>\n",
       "  </tbody>\n",
       "</table>\n",
       "</div>"
      ],
      "text/plain": [
       "           Model  Accuracy  Precision   Recall  F1 Score       ROC     AUROC\n",
       "0  Random Forest     0.814   0.641634  0.36589  0.466029  0.653817  0.653817"
      ]
     },
     "execution_count": 109,
     "metadata": {},
     "output_type": "execute_result"
    }
   ],
   "source": [
    "#ROC\n",
    "prob_rf = modelRandom.fit(x_train, y_train).predict_proba(x_test)\n",
    "fpr, tpr, thresholds = roc_curve(y_test, y_rf_pred)\n",
    "roc_auc = auc(fpr, tpr)\n",
    "roc_rf = metrics.roc_auc_score(y_test, y_rf_pred)\n",
    "\n",
    "model = pd.DataFrame([['Random Forest', acc_rf,prec_rf,rec_rf, f1_rf,roc_rf,roc_auc]],\n",
    "               columns = ['Model', 'Accuracy', 'Precision', 'Recall', 'F1 Score','ROC','AUROC'])\n",
    "model"
   ]
  },
  {
   "cell_type": "code",
   "execution_count": 110,
   "metadata": {},
   "outputs": [
    {
     "data": {
      "image/png": "[encoded data removed]",
      "text/plain": [
       "<Figure size 432x288 with 1 Axes>"
      ]
     },
     "metadata": {},
     "output_type": "display_data"
    },
    {
     "name": "stdout",
     "output_type": "stream",
     "text": [
      "Area under the ROC curve : 0.653817\n"
     ]
    }
   ],
   "source": [
    "# Plot ROC curve\n",
    "pl.clf()\n",
    "pl.plot(fpr, tpr, label='ROC curve (area = %0.3f)' % roc_auc)\n",
    "pl.plot([0, 1], [0, 1], 'k--')\n",
    "pl.xlim([0.0, 1.0])\n",
    "pl.ylim([0.0, 1.0])\n",
    "pl.xlabel('False Positive Rate')\n",
    "pl.ylabel('True Positive Rate')\n",
    "pl.title('AUROC for random forest')\n",
    "pl.legend(loc=\"lower right\")\n",
    "pl.show()\n",
    "print(\"Area under the ROC curve : %f\" % roc_auc)"
   ]
  }
 ],
 "metadata": {
  "kernelspec": {
   "display_name": "Python 3",
   "language": "python",
   "name": "python3"
  },
  "language_info": {
   "codemirror_mode": {
    "name": "ipython",
    "version": 3
   },
   "file_extension": ".py",
   "mimetype": "text/x-python",
   "name": "python",
   "nbconvert_exporter": "python",
   "pygments_lexer": "ipython3",
   "version": "3.7.4"
  }
 },
 "nbformat": 4,
 "nbformat_minor": 2
}
